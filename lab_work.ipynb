{
  "nbformat": 4,
  "nbformat_minor": 0,
  "metadata": {
    "colab": {
      "provenance": [],
      "include_colab_link": true
    },
    "kernelspec": {
      "name": "python3",
      "display_name": "Python 3"
    },
    "language_info": {
      "name": "python"
    }
  },
  "cells": [
    {
      "cell_type": "markdown",
      "metadata": {
        "id": "view-in-github",
        "colab_type": "text"
      },
      "source": [
        "<a href=\"https://colab.research.google.com/github/mrkustik1985/python/blob/main/lab_work.ipynb\" target=\"_parent\"><img src=\"https://colab.research.google.com/assets/colab-badge.svg\" alt=\"Open In Colab\"/></a>"
      ]
    },
    {
      "cell_type": "markdown",
      "source": [
        "# Лабораторная работа"
      ],
      "metadata": {
        "id": "rloJD2luQnuQ"
      }
    },
    {
      "cell_type": "markdown",
      "source": [
        "Баллы за секции:\n",
        "- *Задание 1* - 10 баллов\n",
        "- *Задание 2* - 20 баллов\n",
        "- *Задание 3* - 30 баллов\n",
        "- **Итого** - 60 баллов\n",
        "\n",
        "Оценка за лабу $ = \\frac{score}{6}$"
      ],
      "metadata": {
        "id": "xIZ02xiML9p_"
      }
    },
    {
      "cell_type": "markdown",
      "source": [
        "## Внимание! Attention! Achtung!"
      ],
      "metadata": {
        "id": "OEDe7x8YRID0"
      }
    },
    {
      "cell_type": "markdown",
      "source": [
        "**Данная лабораторная работа является блокирующей**, т.е. если лабораторная работа не выполнена, то оценка за курс - неуд.\n",
        "\n",
        "Лабораторная работа считается выполненной, если **за каждое из заданий получено не менее 30% баллов**, т.е. за задание 1 нужно получить минимум 3 балла, за задание 2 - минимум 6 баллов и задание 3 - минимум 9 баллов."
      ],
      "metadata": {
        "id": "ZEmKA-7NR1Y9"
      }
    },
    {
      "cell_type": "markdown",
      "source": [
        "## Формат сдачи лабораторной работы"
      ],
      "metadata": {
        "id": "N1ZbZ8dkR5q_"
      }
    },
    {
      "cell_type": "markdown",
      "source": [
        "Данная лабораторная работа сдается так же, как и проект - заполняете данный ноутбук, отправляете его через GitHub с указанием проверяющего."
      ],
      "metadata": {
        "id": "tEwx7LLQR-h8"
      }
    },
    {
      "cell_type": "markdown",
      "source": [
        "**Ассистенты не будут запускать ячейки кода, а смотреть на выведенный результат и код. Если ячейка кода не запущена - балл не ставится, даже при правильно написанном коде.**\n",
        "\n",
        "***(Комментарии что курс по Python легче чем по C++ учтены)***"
      ],
      "metadata": {
        "id": "qKwaNCJKj7b8"
      }
    },
    {
      "cell_type": "markdown",
      "source": [
        ">**Примечание**\n",
        ">\n",
        ">Данные задания вдохновлены предметом \"Введение в анализ данных\" 2 курса, по итогу которого идёт отбор на DS-поток. Если вы видите себя в смежных областях, советуем выполнить данную лабораторку по максимуму."
      ],
      "metadata": {
        "id": "hlUYK7MDRGye"
      }
    },
    {
      "cell_type": "code",
      "source": [
        "# Всё необходимое для выполнения данной лабораторной работы!\n",
        "import requests\n",
        "from time import sleep\n",
        "import random\n",
        "import numpy as np\n",
        "import pandas as pd\n",
        "import matplotlib.pyplot as plt\n",
        "import seaborn as sns"
      ],
      "metadata": {
        "id": "1qzEqvohoZfB"
      },
      "execution_count": 4,
      "outputs": []
    },
    {
      "cell_type": "markdown",
      "source": [
        "## Задание 1. Парсинг - 10 баллов"
      ],
      "metadata": {
        "id": "rB_FYHU2k8w-"
      }
    },
    {
      "cell_type": "markdown",
      "source": [
        "В этом задании Вам предстоит работать с API сайта <a target=\"_blank\" href=\"hh.ru\">hh.ru</a>. Документация доступна по <a target=\"_blank\" href=\"https://github.com/hhru/api/blob/master/docs/vacancies.md#search\">ссылке</a>."
      ],
      "metadata": {
        "id": "F0gr5cjaoQJy"
      }
    },
    {
      "cell_type": "markdown",
      "source": [
        "<b><font color=\"red\">Внимание!</font> При работе с API не забывайте делать паузы между запросами, иначе вас забанят. Просрочка дедлайна по этой причине не принимается!</b>"
      ],
      "metadata": {
        "id": "v8iCQYk7TNvK"
      }
    },
    {
      "cell_type": "markdown",
      "source": [
        "**Задача:**\n",
        "1. выбрать 5 интересующих вас профессий (не смежных, т.е. Аналатик и Data Engineer не считается корректным)\n",
        "2. затем получить доступные по данным профессиям вакансии в Москве и выделить их физические координаты\n",
        "3. нанести полученные координаты на карту местоположения компаний"
      ],
      "metadata": {
        "id": "-HAm80rqRqAZ"
      }
    },
    {
      "cell_type": "markdown",
      "source": [
        "*Пример запроса для профессии:*"
      ],
      "metadata": {
        "id": "H0GhQJvipXYj"
      }
    },
    {
      "cell_type": "code",
      "source": [
        "URL = 'https://api.hh.ru/vacancies'\n",
        "\n",
        "params = {\n",
        "    'text': \"Физик-ядерщик\",\n",
        "    'area': 1,\n",
        "    'page': 0,\n",
        "    'per_page': 10\n",
        "}\n",
        "\n",
        "data = requests.get(URL, params).json()\n",
        "for i in data['items']:\n",
        "  print(i['address'])\n"
      ],
      "metadata": {
        "id": "aZLGoS_DpsXI",
        "colab": {
          "base_uri": "https://localhost:8080/"
        },
        "outputId": "920c57be-793c-49df-b7ad-d959d71d37da"
      },
      "execution_count": 19,
      "outputs": [
        {
          "output_type": "stream",
          "name": "stdout",
          "text": [
            "{'city': None, 'street': None, 'building': None, 'lat': None, 'lng': None, 'description': None, 'raw': 'Москва, ул. Введенского, д. 1, м. Калужская', 'metro': None, 'metro_stations': [], 'id': '170835'}\n",
            "{'city': 'Москва', 'street': 'Бережковская набережная', 'building': '30к1', 'lat': 55.729934, 'lng': 37.548016, 'description': None, 'raw': 'Москва, Бережковская набережная, 30к1', 'metro': {'station_name': 'Киевская', 'line_name': 'Кольцевая', 'station_id': '5.49', 'line_id': '5', 'lat': 55.74361, 'lng': 37.56735}, 'metro_stations': [{'station_name': 'Киевская', 'line_name': 'Кольцевая', 'station_id': '5.49', 'line_id': '5', 'lat': 55.74361, 'lng': 37.56735}, {'station_name': 'Лужники', 'line_name': 'МЦК', 'station_id': '95.535', 'line_id': '95', 'lat': 55.720278, 'lng': 37.563056}], 'id': '5828243'}\n"
          ]
        }
      ]
    },
    {
      "cell_type": "markdown",
      "source": [
        "Если Ваш запрос прошел успешно, то вы получите следующие ключи (значения данных ключей вы найдете по ссылке на документацию):"
      ],
      "metadata": {
        "id": "yHQtIBRQp91_"
      }
    },
    {
      "cell_type": "code",
      "source": [
        "data['pages']"
      ],
      "metadata": {
        "colab": {
          "base_uri": "https://localhost:8080/"
        },
        "id": "DW6mxzggpvKw",
        "outputId": "12bc1fe4-78c7-45f7-c0e1-57c8514cf00b"
      },
      "execution_count": 92,
      "outputs": [
        {
          "output_type": "execute_result",
          "data": {
            "text/plain": [
              "1"
            ]
          },
          "metadata": {},
          "execution_count": 92
        }
      ]
    },
    {
      "cell_type": "markdown",
      "source": [
        ">**Примечание**\n",
        ">\n",
        ">В `data['pages']` будет хранится количество найденных страниц вакансий - для корректного сбора данных Вам нужно пробежать по **КАЖДОЙ** странице и сделать соотвествующие запросы."
      ],
      "metadata": {
        "id": "O-qAwsmrTAvQ"
      }
    },
    {
      "cell_type": "markdown",
      "source": [
        ">**Совет**\n",
        ">\n",
        ">Посмотрите что хранится в `items`!"
      ],
      "metadata": {
        "id": "OEPOQVYxsMyN"
      }
    },
    {
      "cell_type": "markdown",
      "source": [
        "(1 балл) Выберете для нас 5 наиболее интересных специальностей и получите по ним имеющиеся вакансии:"
      ],
      "metadata": {
        "id": "JWvkFrh9qhkj"
      }
    },
    {
      "cell_type": "code",
      "source": [
        "import time\n",
        "URL = 'https://api.hh.ru/vacancies?search_period=30'\n",
        "\n",
        "params = [{'text': \"junior backend c++\",'area' : 1, 'per_page' : 50}, \n",
        "          {'text':\"junior backend python\", 'area' : 1, 'per_page' : 50}, \n",
        "          {'text' : \"ml engineer\", 'area' : 1, 'per_page' : 50}, \n",
        "          {\"text\": \"продуктовый аналитик\", \"area\" : 1, 'per_page' : 50}, \n",
        "          {\"text\":\"мясник\", \"area\" : 2, 'per_page':'50'}]\n",
        "data_profession = {\"junior backend c++\" : [],\n",
        "                   \"junior backend python\" : [], \n",
        "                   \"ml engineer\" : [],\n",
        "                   \"продуктовый аналитик\" : [], \n",
        "                   \"мясник\": []}\n",
        "\n",
        "cnt_pages_max = 100\n",
        "for i in range(len(params)):\n",
        "  for number_pages in range(cnt_pages_max):\n",
        "    print(i, number_pages)\n",
        "    params[i]['page'] = f\"{number_pages}\"\n",
        "    req = requests.get(URL, params[i]).json()\n",
        "    time.sleep(0.1)\n",
        "    if 'items' not in req or req['items'] == []:\n",
        "      break\n",
        "    for x in req['items']:\n",
        "      data_profession.setdefault(params[i]['text'], []).append({\"name\" : x[\"name\"], \"area\" : x[\"area\"], \"address\" : x[\"address\"], \"employer\" : x[\"employer\"][\"name\"]})"
      ],
      "metadata": {
        "id": "_Nm-vyiBqugq"
      },
      "execution_count": null,
      "outputs": []
    },
    {
      "cell_type": "markdown",
      "source": [
        "(1 балл) Посчитайте сколько всего найдено вакансий:"
      ],
      "metadata": {
        "id": "g0bdgyNWquuY"
      }
    },
    {
      "cell_type": "code",
      "source": [
        "for i in data_profession.keys():\n",
        "  print(f\"По специальности {i} найдено {len(data_profession[i])} вакансий\")"
      ],
      "metadata": {
        "id": "lxyXtIs6q5cc",
        "colab": {
          "base_uri": "https://localhost:8080/"
        },
        "outputId": "686dc142-3aeb-4895-b140-f902424869d2"
      },
      "execution_count": 11,
      "outputs": [
        {
          "output_type": "stream",
          "name": "stdout",
          "text": [
            "По специальности junior backend c++ найдено 5 вакансий\n",
            "По специальности junior backend python найдено 13 вакансий\n",
            "По специальности ml engineer найдено 257 вакансий\n",
            "По специальности продуктовый аналитик найдено 2000 вакансий\n",
            "По специальности финансовый аналитик найдено 0 вакансий\n",
            "По специальности мясник найдено 30 вакансий\n"
          ]
        }
      ]
    },
    {
      "cell_type": "markdown",
      "source": [
        "\\\\(1 балл) Создайте структуру данных, которая будет хранить в себе имя компании и ее координаты (широта и долгота):"
      ],
      "metadata": {
        "id": "wQeULnNyq5wk"
      }
    },
    {
      "cell_type": "code",
      "source": [
        "class Company:\n",
        "    def __init__(self, category, pattern):\n",
        "      self.is_coords = False\n",
        "      self.company_name = pattern['employer']\n",
        "      if 'address' in pattern and pattern['address'] != None:\n",
        "        if 'lat' in pattern['address'] and pattern['address']['lat'] != None:\n",
        "          self.coords = (pattern['address']['lat'], pattern['address']['lng'])\n",
        "          self.is_coords = True\n",
        "      self.category = category\n",
        "      self.name_vacancy = pattern['name']\n",
        "    def have_coords(self):\n",
        "      return self.is_coords\n",
        "    def category(self):\n",
        "      return self.category"
      ],
      "metadata": {
        "id": "aR501yltVdLm"
      },
      "execution_count": 42,
      "outputs": []
    },
    {
      "cell_type": "markdown",
      "source": [
        "(1 балл) Создайте экземпляр этой структуры данных для каждой компании, которая выставила вакансию:"
      ],
      "metadata": {
        "id": "ccIi3wIvVkG0"
      }
    },
    {
      "cell_type": "code",
      "source": [
        "company_data = []\n",
        "for name_category, vacancy_array in data_profession.items():\n",
        "  if name_category == None:\n",
        "    continue\n",
        "  for vacancy in vacancy_array:\n",
        "    if vacancy == None:\n",
        "      continue\n",
        "    company_data.append(Company(name_category, vacancy))\n"
      ],
      "metadata": {
        "id": "tR6mYW7jtcCQ"
      },
      "execution_count": 43,
      "outputs": []
    },
    {
      "cell_type": "markdown",
      "source": [
        "(1 балл) Найдите количество вакансий, у которых заданы координаты (значения данных может быть пустым):"
      ],
      "metadata": {
        "id": "SyBpNd0vtcNu"
      }
    },
    {
      "cell_type": "code",
      "source": [
        "cnt_vacancy_with_coords = {\"junior backend c++\" : 0, \n",
        "                   \"junior backend python\" : 0, \n",
        "                   \"ml engineer\" : 0, \n",
        "                   \"продуктовый аналитик\" : 0, \n",
        "                   \"мясник\": 0}\n",
        "\n",
        "for company in company_data:\n",
        "  if company.have_coords():\n",
        "    cnt_vacancy_with_coords[company.category] = cnt_vacancy_with_coords.get(company.category, 0) + 1\n",
        "for i in cnt_vacancy_with_coords.keys():\n",
        "  print(f\"запрос {i} имеет {cnt_vacancy_with_coords[i]} вакансий с координатами\")"
      ],
      "metadata": {
        "id": "lVgNCVALt2qJ",
        "colab": {
          "base_uri": "https://localhost:8080/"
        },
        "outputId": "2f4e8d0b-b8d0-4929-8cc1-b32fe85ec8bb"
      },
      "execution_count": 46,
      "outputs": [
        {
          "output_type": "stream",
          "name": "stdout",
          "text": [
            "запрос junior backend c++ имеет 4 вакансий с координатами\n",
            "запрос junior backend python имеет 8 вакансий с координатами\n",
            "запрос ml engineer имеет 101 вакансий с координатами\n",
            "запрос продуктовый аналитик имеет 922 вакансий с координатами\n",
            "запрос мясник имеет 23 вакансий с координатами\n"
          ]
        }
      ]
    },
    {
      "cell_type": "markdown",
      "source": [
        "(1 балл) Отберите вакансии, которые расположены в пределах МКАД (можно грубо):"
      ],
      "metadata": {
        "id": "aWNXrM-cu5Vi"
      }
    },
    {
      "cell_type": "code",
      "source": [
        "# your code here"
      ],
      "metadata": {
        "id": "01g9wVEyyn-J"
      },
      "execution_count": null,
      "outputs": []
    },
    {
      "cell_type": "markdown",
      "source": [
        "(1 балл) Постройте график в координатах \"широта-долгота\" для отображения вакансий внутри МКАД (не забывайте прописать прозрачность, чтобы увидеть скопления):"
      ],
      "metadata": {
        "id": "4LCb9IL_bgB_"
      }
    },
    {
      "cell_type": "code",
      "source": [
        "center = (55.753995, 37.614069)\n"
      ],
      "metadata": {
        "id": "6ogiXDvKcDV8"
      },
      "execution_count": null,
      "outputs": []
    },
    {
      "cell_type": "markdown",
      "source": [
        "(1 балл) Нанесите все точки вакансий на карту (для этого вам поможет данная <a target=\"_blank\" href=\"https://plotly.com/python/mapbox-layers/\">документации</a>, не забудьте про прозрачность и центрирование по Москве): "
      ],
      "metadata": {
        "id": "YvS8b7eqt214"
      }
    },
    {
      "cell_type": "code",
      "source": [
        "# your code here"
      ],
      "metadata": {
        "id": "1ceHEBdAys8o"
      },
      "execution_count": null,
      "outputs": []
    },
    {
      "cell_type": "markdown",
      "source": [
        "(2 балла) **Сделайте выводы о проделанной работе:**"
      ],
      "metadata": {
        "id": "u-p3Llc361PN"
      }
    },
    {
      "cell_type": "markdown",
      "source": [
        ">*Подсказки для маленьких: Что вы можете сказать про районы Москвы? Что вы можете сказать про зарплаты? Что вы можете сказать про спрос?*"
      ],
      "metadata": {
        "id": "G1c3d-qALobz"
      }
    },
    {
      "cell_type": "markdown",
      "source": [
        "\n"
      ],
      "metadata": {
        "id": "gkPpbtBuVqwc"
      }
    },
    {
      "cell_type": "markdown",
      "source": [
        "## Задание 2. Анализ данных - 20 баллов"
      ],
      "metadata": {
        "id": "wVcCTF_Zz58q"
      }
    },
    {
      "cell_type": "markdown",
      "source": [
        "Вам предстоит проанализировать датасет, содержащий информацию об бриллианта, их стоимости и остальных характеристиках."
      ],
      "metadata": {
        "id": "lii5YFuucxR2"
      }
    },
    {
      "cell_type": "markdown",
      "source": [
        "# New Section\n",
        "\n",
        "Поясним значения хранящиеся в колонках:\n",
        "*   `cut` - огранка бриллианта (относится к одной из примерно 10 наиболее распространенных)\n",
        "*   `color` - цвет бриллианта, прозрачные бриллианты имеют градацию `D-Z`, \"более высокие\" буквы - более желтоватые, но часто имеют лучшие значения, поскольку цвет трудно определить один раз в кольце\n",
        "*   `clarity` - чистота бриллианта, наличие включений (внутренних дефектов), чем меньше и мельче, тем лучше\n",
        "*   `carat_weight` - масса бриллианта (слабо связана с размером бриллианта, т.к. огранка и качество огранки, как правило, играют большую роль)\n",
        "*   `cut_quality` - качество ограники по системе оценки GIA Cut\n",
        "*   `lab` - лаборатория оценивания\n",
        "*   `meas_length` - длина бриллианта\n",
        "*   `meas_width` - ширина бриллианта\n",
        "*   `meas_depth` - глубина бриллианта\n",
        "*   `total_sales_price` - цена бриллианта в долларах.\n",
        "*    **и прочие колонки**"
      ],
      "metadata": {
        "id": "CvEO3-NI0Gez"
      }
    },
    {
      "cell_type": "markdown",
      "source": [
        "Скачаем данные:"
      ],
      "metadata": {
        "id": "7mK1QntN6ZXh"
      }
    },
    {
      "cell_type": "code",
      "source": [
        "!gdown 1uIWeZFz3ElB5p1brBVEwJBHTbjXNPdfU"
      ],
      "metadata": {
        "id": "LnCK3gCoebjw",
        "colab": {
          "base_uri": "https://localhost:8080/"
        },
        "outputId": "d0030858-1fee-49ec-eb0e-822462204644"
      },
      "execution_count": 2,
      "outputs": [
        {
          "output_type": "stream",
          "name": "stdout",
          "text": [
            "Downloading...\n",
            "From: https://drive.google.com/uc?id=1uIWeZFz3ElB5p1brBVEwJBHTbjXNPdfU\n",
            "To: /content/diamonds.csv\n",
            "\r  0% 0.00/35.4M [00:00<?, ?B/s]\r 49% 17.3M/35.4M [00:00<00:00, 129MB/s]\r100% 35.4M/35.4M [00:00<00:00, 156MB/s]\n"
          ]
        }
      ]
    },
    {
      "cell_type": "markdown",
      "source": [
        "Создадим DataFrame:"
      ],
      "metadata": {
        "id": "wfSqVYoIfi3-"
      }
    },
    {
      "cell_type": "code",
      "source": [
        "diamonds = pd.read_csv(\"diamonds.csv\")"
      ],
      "metadata": {
        "id": "cDgRJzRp6Ow4"
      },
      "execution_count": 109,
      "outputs": []
    },
    {
      "cell_type": "markdown",
      "source": [
        "(0.5 балла) Выведете первые 5 строк датасета:"
      ],
      "metadata": {
        "id": "vlw_3lXG6bhv"
      }
    },
    {
      "cell_type": "code",
      "source": [
        "diamonds[:5]"
      ],
      "metadata": {
        "id": "gHA-AnSE6fth",
        "colab": {
          "base_uri": "https://localhost:8080/",
          "height": 386
        },
        "outputId": "6eaf56d4-c671-47a9-b3b0-f4b737dae85b"
      },
      "execution_count": 101,
      "outputs": [
        {
          "output_type": "execute_result",
          "data": {
            "text/plain": [
              "   Unnamed: 0    cut color clarity  carat_weight cut_quality  lab   symmetry  \\\n",
              "0           0  Round     E    VVS2          0.09   Excellent  IGI  Very Good   \n",
              "1           1  Round     E    VVS2          0.09   Very Good  IGI  Very Good   \n",
              "2           2  Round     E    VVS2          0.09   Excellent  IGI  Very Good   \n",
              "3           3  Round     E    VVS2          0.09   Excellent  IGI  Very Good   \n",
              "4           4  Round     E    VVS2          0.09   Very Good  IGI  Very Good   \n",
              "\n",
              "      polish eye_clean  ... meas_depth girdle_min  girdle_max  fluor_color  \\\n",
              "0  Very Good   unknown  ...       1.79          M           M      unknown   \n",
              "1  Very Good   unknown  ...       1.78        STK         STK      unknown   \n",
              "2  Very Good   unknown  ...       1.77         TN           M      unknown   \n",
              "3  Very Good   unknown  ...       1.78          M         STK      unknown   \n",
              "4  Excellent   unknown  ...       1.82        STK         STK      unknown   \n",
              "\n",
              "   fluor_intensity  fancy_color_dominant_color  fancy_color_secondary_color  \\\n",
              "0             None                     unknown                      unknown   \n",
              "1             None                     unknown                      unknown   \n",
              "2             None                     unknown                      unknown   \n",
              "3             None                     unknown                      unknown   \n",
              "4             None                     unknown                      unknown   \n",
              "\n",
              "  fancy_color_overtone fancy_color_intensity total_sales_price  \n",
              "0              unknown               unknown               200  \n",
              "1              unknown               unknown               200  \n",
              "2              unknown               unknown               200  \n",
              "3              unknown               unknown               200  \n",
              "4              unknown               unknown               200  \n",
              "\n",
              "[5 rows x 26 columns]"
            ],
            "text/html": [
              "\n",
              "  <div id=\"df-39ad537e-3984-4f2c-b511-bd71f12e1fe2\">\n",
              "    <div class=\"colab-df-container\">\n",
              "      <div>\n",
              "<style scoped>\n",
              "    .dataframe tbody tr th:only-of-type {\n",
              "        vertical-align: middle;\n",
              "    }\n",
              "\n",
              "    .dataframe tbody tr th {\n",
              "        vertical-align: top;\n",
              "    }\n",
              "\n",
              "    .dataframe thead th {\n",
              "        text-align: right;\n",
              "    }\n",
              "</style>\n",
              "<table border=\"1\" class=\"dataframe\">\n",
              "  <thead>\n",
              "    <tr style=\"text-align: right;\">\n",
              "      <th></th>\n",
              "      <th>Unnamed: 0</th>\n",
              "      <th>cut</th>\n",
              "      <th>color</th>\n",
              "      <th>clarity</th>\n",
              "      <th>carat_weight</th>\n",
              "      <th>cut_quality</th>\n",
              "      <th>lab</th>\n",
              "      <th>symmetry</th>\n",
              "      <th>polish</th>\n",
              "      <th>eye_clean</th>\n",
              "      <th>...</th>\n",
              "      <th>meas_depth</th>\n",
              "      <th>girdle_min</th>\n",
              "      <th>girdle_max</th>\n",
              "      <th>fluor_color</th>\n",
              "      <th>fluor_intensity</th>\n",
              "      <th>fancy_color_dominant_color</th>\n",
              "      <th>fancy_color_secondary_color</th>\n",
              "      <th>fancy_color_overtone</th>\n",
              "      <th>fancy_color_intensity</th>\n",
              "      <th>total_sales_price</th>\n",
              "    </tr>\n",
              "  </thead>\n",
              "  <tbody>\n",
              "    <tr>\n",
              "      <th>0</th>\n",
              "      <td>0</td>\n",
              "      <td>Round</td>\n",
              "      <td>E</td>\n",
              "      <td>VVS2</td>\n",
              "      <td>0.09</td>\n",
              "      <td>Excellent</td>\n",
              "      <td>IGI</td>\n",
              "      <td>Very Good</td>\n",
              "      <td>Very Good</td>\n",
              "      <td>unknown</td>\n",
              "      <td>...</td>\n",
              "      <td>1.79</td>\n",
              "      <td>M</td>\n",
              "      <td>M</td>\n",
              "      <td>unknown</td>\n",
              "      <td>None</td>\n",
              "      <td>unknown</td>\n",
              "      <td>unknown</td>\n",
              "      <td>unknown</td>\n",
              "      <td>unknown</td>\n",
              "      <td>200</td>\n",
              "    </tr>\n",
              "    <tr>\n",
              "      <th>1</th>\n",
              "      <td>1</td>\n",
              "      <td>Round</td>\n",
              "      <td>E</td>\n",
              "      <td>VVS2</td>\n",
              "      <td>0.09</td>\n",
              "      <td>Very Good</td>\n",
              "      <td>IGI</td>\n",
              "      <td>Very Good</td>\n",
              "      <td>Very Good</td>\n",
              "      <td>unknown</td>\n",
              "      <td>...</td>\n",
              "      <td>1.78</td>\n",
              "      <td>STK</td>\n",
              "      <td>STK</td>\n",
              "      <td>unknown</td>\n",
              "      <td>None</td>\n",
              "      <td>unknown</td>\n",
              "      <td>unknown</td>\n",
              "      <td>unknown</td>\n",
              "      <td>unknown</td>\n",
              "      <td>200</td>\n",
              "    </tr>\n",
              "    <tr>\n",
              "      <th>2</th>\n",
              "      <td>2</td>\n",
              "      <td>Round</td>\n",
              "      <td>E</td>\n",
              "      <td>VVS2</td>\n",
              "      <td>0.09</td>\n",
              "      <td>Excellent</td>\n",
              "      <td>IGI</td>\n",
              "      <td>Very Good</td>\n",
              "      <td>Very Good</td>\n",
              "      <td>unknown</td>\n",
              "      <td>...</td>\n",
              "      <td>1.77</td>\n",
              "      <td>TN</td>\n",
              "      <td>M</td>\n",
              "      <td>unknown</td>\n",
              "      <td>None</td>\n",
              "      <td>unknown</td>\n",
              "      <td>unknown</td>\n",
              "      <td>unknown</td>\n",
              "      <td>unknown</td>\n",
              "      <td>200</td>\n",
              "    </tr>\n",
              "    <tr>\n",
              "      <th>3</th>\n",
              "      <td>3</td>\n",
              "      <td>Round</td>\n",
              "      <td>E</td>\n",
              "      <td>VVS2</td>\n",
              "      <td>0.09</td>\n",
              "      <td>Excellent</td>\n",
              "      <td>IGI</td>\n",
              "      <td>Very Good</td>\n",
              "      <td>Very Good</td>\n",
              "      <td>unknown</td>\n",
              "      <td>...</td>\n",
              "      <td>1.78</td>\n",
              "      <td>M</td>\n",
              "      <td>STK</td>\n",
              "      <td>unknown</td>\n",
              "      <td>None</td>\n",
              "      <td>unknown</td>\n",
              "      <td>unknown</td>\n",
              "      <td>unknown</td>\n",
              "      <td>unknown</td>\n",
              "      <td>200</td>\n",
              "    </tr>\n",
              "    <tr>\n",
              "      <th>4</th>\n",
              "      <td>4</td>\n",
              "      <td>Round</td>\n",
              "      <td>E</td>\n",
              "      <td>VVS2</td>\n",
              "      <td>0.09</td>\n",
              "      <td>Very Good</td>\n",
              "      <td>IGI</td>\n",
              "      <td>Very Good</td>\n",
              "      <td>Excellent</td>\n",
              "      <td>unknown</td>\n",
              "      <td>...</td>\n",
              "      <td>1.82</td>\n",
              "      <td>STK</td>\n",
              "      <td>STK</td>\n",
              "      <td>unknown</td>\n",
              "      <td>None</td>\n",
              "      <td>unknown</td>\n",
              "      <td>unknown</td>\n",
              "      <td>unknown</td>\n",
              "      <td>unknown</td>\n",
              "      <td>200</td>\n",
              "    </tr>\n",
              "  </tbody>\n",
              "</table>\n",
              "<p>5 rows × 26 columns</p>\n",
              "</div>\n",
              "      <button class=\"colab-df-convert\" onclick=\"convertToInteractive('df-39ad537e-3984-4f2c-b511-bd71f12e1fe2')\"\n",
              "              title=\"Convert this dataframe to an interactive table.\"\n",
              "              style=\"display:none;\">\n",
              "        \n",
              "  <svg xmlns=\"http://www.w3.org/2000/svg\" height=\"24px\"viewBox=\"0 0 24 24\"\n",
              "       width=\"24px\">\n",
              "    <path d=\"M0 0h24v24H0V0z\" fill=\"none\"/>\n",
              "    <path d=\"M18.56 5.44l.94 2.06.94-2.06 2.06-.94-2.06-.94-.94-2.06-.94 2.06-2.06.94zm-11 1L8.5 8.5l.94-2.06 2.06-.94-2.06-.94L8.5 2.5l-.94 2.06-2.06.94zm10 10l.94 2.06.94-2.06 2.06-.94-2.06-.94-.94-2.06-.94 2.06-2.06.94z\"/><path d=\"M17.41 7.96l-1.37-1.37c-.4-.4-.92-.59-1.43-.59-.52 0-1.04.2-1.43.59L10.3 9.45l-7.72 7.72c-.78.78-.78 2.05 0 2.83L4 21.41c.39.39.9.59 1.41.59.51 0 1.02-.2 1.41-.59l7.78-7.78 2.81-2.81c.8-.78.8-2.07 0-2.86zM5.41 20L4 18.59l7.72-7.72 1.47 1.35L5.41 20z\"/>\n",
              "  </svg>\n",
              "      </button>\n",
              "      \n",
              "  <style>\n",
              "    .colab-df-container {\n",
              "      display:flex;\n",
              "      flex-wrap:wrap;\n",
              "      gap: 12px;\n",
              "    }\n",
              "\n",
              "    .colab-df-convert {\n",
              "      background-color: #E8F0FE;\n",
              "      border: none;\n",
              "      border-radius: 50%;\n",
              "      cursor: pointer;\n",
              "      display: none;\n",
              "      fill: #1967D2;\n",
              "      height: 32px;\n",
              "      padding: 0 0 0 0;\n",
              "      width: 32px;\n",
              "    }\n",
              "\n",
              "    .colab-df-convert:hover {\n",
              "      background-color: #E2EBFA;\n",
              "      box-shadow: 0px 1px 2px rgba(60, 64, 67, 0.3), 0px 1px 3px 1px rgba(60, 64, 67, 0.15);\n",
              "      fill: #174EA6;\n",
              "    }\n",
              "\n",
              "    [theme=dark] .colab-df-convert {\n",
              "      background-color: #3B4455;\n",
              "      fill: #D2E3FC;\n",
              "    }\n",
              "\n",
              "    [theme=dark] .colab-df-convert:hover {\n",
              "      background-color: #434B5C;\n",
              "      box-shadow: 0px 1px 3px 1px rgba(0, 0, 0, 0.15);\n",
              "      filter: drop-shadow(0px 1px 2px rgba(0, 0, 0, 0.3));\n",
              "      fill: #FFFFFF;\n",
              "    }\n",
              "  </style>\n",
              "\n",
              "      <script>\n",
              "        const buttonEl =\n",
              "          document.querySelector('#df-39ad537e-3984-4f2c-b511-bd71f12e1fe2 button.colab-df-convert');\n",
              "        buttonEl.style.display =\n",
              "          google.colab.kernel.accessAllowed ? 'block' : 'none';\n",
              "\n",
              "        async function convertToInteractive(key) {\n",
              "          const element = document.querySelector('#df-39ad537e-3984-4f2c-b511-bd71f12e1fe2');\n",
              "          const dataTable =\n",
              "            await google.colab.kernel.invokeFunction('convertToInteractive',\n",
              "                                                     [key], {});\n",
              "          if (!dataTable) return;\n",
              "\n",
              "          const docLinkHtml = 'Like what you see? Visit the ' +\n",
              "            '<a target=\"_blank\" href=https://colab.research.google.com/notebooks/data_table.ipynb>data table notebook</a>'\n",
              "            + ' to learn more about interactive tables.';\n",
              "          element.innerHTML = '';\n",
              "          dataTable['output_type'] = 'display_data';\n",
              "          await google.colab.output.renderOutput(dataTable, element);\n",
              "          const docLink = document.createElement('div');\n",
              "          docLink.innerHTML = docLinkHtml;\n",
              "          element.appendChild(docLink);\n",
              "        }\n",
              "      </script>\n",
              "    </div>\n",
              "  </div>\n",
              "  "
            ]
          },
          "metadata": {},
          "execution_count": 101
        }
      ]
    },
    {
      "cell_type": "markdown",
      "source": [
        "(0.5 балла) Найдите количество бриллиантов всего в данном датасете:"
      ],
      "metadata": {
        "id": "gat7bnPQ6fCE"
      }
    },
    {
      "cell_type": "code",
      "source": [
        "print(len(diamonds))"
      ],
      "metadata": {
        "id": "-9x6z3-J7C-v",
        "colab": {
          "base_uri": "https://localhost:8080/"
        },
        "outputId": "7d77309b-3993-4c60-b0fd-1c35b275c883"
      },
      "execution_count": 102,
      "outputs": [
        {
          "output_type": "stream",
          "name": "stdout",
          "text": [
            "219703\n"
          ]
        }
      ]
    },
    {
      "cell_type": "markdown",
      "source": [
        "(0.5 балла) Выведите максимальную и минимальную цену бриллианта в формате `номер - цена`:"
      ],
      "metadata": {
        "id": "fYQuIdtL7DFp"
      }
    },
    {
      "cell_type": "code",
      "source": [
        "max_cost = max(diamonds['total_sales_price'])\n",
        "min_cost = min(diamonds['total_sales_price'])\n",
        "max_index_diam = diamonds['total_sales_price'] == max_cost"
      ],
      "metadata": {
        "id": "D_7sjzjP7SEj"
      },
      "execution_count": 103,
      "outputs": []
    },
    {
      "cell_type": "code",
      "source": [
        "diamonds[max_index_diam].index[0], max_cost"
      ],
      "metadata": {
        "colab": {
          "base_uri": "https://localhost:8080/"
        },
        "id": "_B0sGeikDRLP",
        "outputId": "0dfa66b1-45b7-4a36-fe76-920ddb780817"
      },
      "execution_count": 104,
      "outputs": [
        {
          "output_type": "execute_result",
          "data": {
            "text/plain": [
              "(219702, 1449881)"
            ]
          },
          "metadata": {},
          "execution_count": 104
        }
      ]
    },
    {
      "cell_type": "code",
      "source": [
        "diamonds[min_index_diam].index[0], min_cost"
      ],
      "metadata": {
        "colab": {
          "base_uri": "https://localhost:8080/"
        },
        "id": "NU8pkgi1DrM_",
        "outputId": "0330ab5c-b7e3-4961-d998-ef73577bcdbd"
      },
      "execution_count": 105,
      "outputs": [
        {
          "output_type": "execute_result",
          "data": {
            "text/plain": [
              "(0, 200)"
            ]
          },
          "metadata": {},
          "execution_count": 105
        }
      ]
    },
    {
      "cell_type": "markdown",
      "source": [
        "(1 балл) Посчитайте количество пропусков (пропуском считается значение `unknown` или `None`):\n",
        "\n"
      ],
      "metadata": {
        "id": "E2mf4IIO7SOg"
      }
    },
    {
      "cell_type": "code",
      "source": [
        "cnt_unknown_cells = 0\n",
        "cnt_known_cells = 0\n",
        "for column in diamonds:\n",
        "    for i in range(len(diamonds)):\n",
        "      if diamonds[column][i] == 'None' or diamonds[column][i] == 'unknown':\n",
        "        cnt_unknown_cells += 1\n",
        "      else:\n",
        "        cnt_known_cells += 1\n",
        "cnt_unknown_cells"
      ],
      "metadata": {
        "id": "BuJZ0UoN7qAU",
        "colab": {
          "base_uri": "https://localhost:8080/"
        },
        "outputId": "e4774ab2-7f6c-4a5b-d1c6-5a8195a8a481"
      },
      "execution_count": 88,
      "outputs": [
        {
          "output_type": "execute_result",
          "data": {
            "text/plain": [
              "1891168"
            ]
          },
          "metadata": {},
          "execution_count": 88
        }
      ]
    },
    {
      "cell_type": "markdown",
      "source": [
        "(1 балл) Найдите в каких столбцах присутствуют пропуски:"
      ],
      "metadata": {
        "id": "d5LWUc_fh0vb"
      }
    },
    {
      "cell_type": "code",
      "source": [
        "for column in diamonds:\n",
        "    fl = 1\n",
        "    for i in range(len(diamonds)):\n",
        "      if diamonds[column][i] == 'None' or diamonds[column][i] == 'unknown':\n",
        "        fl = 0\n",
        "    if fl == 0:\n",
        "      print(column)"
      ],
      "metadata": {
        "id": "IsU49Fouh5vy",
        "colab": {
          "base_uri": "https://localhost:8080/"
        },
        "outputId": "6ecb4a04-f9b3-49ee-874b-bf86cfb54866"
      },
      "execution_count": 86,
      "outputs": [
        {
          "output_type": "stream",
          "name": "stdout",
          "text": [
            "color\n",
            "cut_quality\n",
            "eye_clean\n",
            "culet_size\n",
            "culet_condition\n",
            "girdle_min\n",
            "girdle_max\n",
            "fluor_color\n",
            "fluor_intensity\n",
            "fancy_color_dominant_color\n",
            "fancy_color_secondary_color\n",
            "fancy_color_overtone\n",
            "fancy_color_intensity\n"
          ]
        }
      ]
    },
    {
      "cell_type": "markdown",
      "source": [
        "В нашем датасете присутствуют колонки, которые начинаются с `fancy_color_` или `fluor_`. Большинство значений в этих колонках - `unknown` или `None`, поэтому мы считаем их малоинформативными. "
      ],
      "metadata": {
        "id": "UznNZpJ47qGX"
      }
    },
    {
      "cell_type": "markdown",
      "source": [
        "Ваша задача:"
      ],
      "metadata": {
        "id": "Rkk6Hr2Ui87X"
      }
    },
    {
      "cell_type": "markdown",
      "source": [
        "1. (0.5 балла) найти количество таких колонок, которые начинаются с `fancy_color_` или `fluor_`:"
      ],
      "metadata": {
        "id": "YYBDAgSSi-JU"
      }
    },
    {
      "cell_type": "code",
      "source": [
        "cnt_column = 0\n",
        "name_of_column = []\n",
        "for column in diamonds:\n",
        "  if 'fancy_color_' in column or 'fluor_' in column:\n",
        "    cnt_column += 1\n",
        "    name_of_column.append(column)\n",
        "cnt_column"
      ],
      "metadata": {
        "id": "nbTUkk4T8-wO",
        "colab": {
          "base_uri": "https://localhost:8080/"
        },
        "outputId": "cfc57fb5-6d54-4a81-e726-c332d4d47495"
      },
      "execution_count": 106,
      "outputs": [
        {
          "output_type": "execute_result",
          "data": {
            "text/plain": [
              "6"
            ]
          },
          "metadata": {},
          "execution_count": 106
        }
      ]
    },
    {
      "cell_type": "markdown",
      "source": [
        "2. (0.5 балла) найти количество информативных (не `None` или `unknown`) значений в этих колонках: "
      ],
      "metadata": {
        "id": "imop6nNujA6z"
      }
    },
    {
      "cell_type": "code",
      "source": [
        "cnt_known_cells = 0\n",
        "cnt = 0\n",
        "for column in name_of_column:\n",
        "    for i in range(len(diamonds)):\n",
        "      if diamonds[column][i] != 'None' and diamonds[column][i] != 'unknown':\n",
        "        cnt_known_cells += 1\n",
        "      cnt += 1\n",
        "cnt_known_cells"
      ],
      "metadata": {
        "id": "jtJcBwAVjPHU",
        "colab": {
          "base_uri": "https://localhost:8080/"
        },
        "outputId": "3c281f13-ce5e-4429-cb80-2850d6350d8c"
      },
      "execution_count": 110,
      "outputs": [
        {
          "output_type": "execute_result",
          "data": {
            "text/plain": [
              "111586"
            ]
          },
          "metadata": {},
          "execution_count": 110
        }
      ]
    },
    {
      "cell_type": "markdown",
      "source": [
        "3. (0.5 балла) удалить данные колонки из датасета, сохранив изменения (в дальнейшем работаем измененным датасетом):"
      ],
      "metadata": {
        "id": "wFbuTnkbjPeq"
      }
    },
    {
      "cell_type": "code",
      "source": [
        "for name_to_delete in name_of_column:\n",
        "  del diamonds[name_to_delete]\n",
        "diamonds[:5]"
      ],
      "metadata": {
        "id": "qSZ5cmKWjutz",
        "colab": {
          "base_uri": "https://localhost:8080/",
          "height": 357
        },
        "outputId": "05b14eb4-82cf-46cb-e1ee-9a9417f7ff17"
      },
      "execution_count": 111,
      "outputs": [
        {
          "output_type": "execute_result",
          "data": {
            "text/plain": [
              "   Unnamed: 0    cut color clarity  carat_weight cut_quality  lab   symmetry  \\\n",
              "0           0  Round     E    VVS2          0.09   Excellent  IGI  Very Good   \n",
              "1           1  Round     E    VVS2          0.09   Very Good  IGI  Very Good   \n",
              "2           2  Round     E    VVS2          0.09   Excellent  IGI  Very Good   \n",
              "3           3  Round     E    VVS2          0.09   Excellent  IGI  Very Good   \n",
              "4           4  Round     E    VVS2          0.09   Very Good  IGI  Very Good   \n",
              "\n",
              "      polish eye_clean culet_size culet_condition  depth_percent  \\\n",
              "0  Very Good   unknown          N         unknown           62.7   \n",
              "1  Very Good   unknown          N         unknown           61.9   \n",
              "2  Very Good   unknown    unknown         unknown           61.1   \n",
              "3  Very Good   unknown    unknown         unknown           62.0   \n",
              "4  Excellent   unknown          N         unknown           64.9   \n",
              "\n",
              "   table_percent  meas_length  meas_width  meas_depth girdle_min girdle_max  \\\n",
              "0           59.0         2.85        2.87        1.79          M          M   \n",
              "1           59.0         2.84        2.89        1.78        STK        STK   \n",
              "2           59.0         2.88        2.90        1.77         TN          M   \n",
              "3           59.0         2.86        2.88        1.78          M        STK   \n",
              "4           58.5         2.79        2.83        1.82        STK        STK   \n",
              "\n",
              "   total_sales_price  \n",
              "0                200  \n",
              "1                200  \n",
              "2                200  \n",
              "3                200  \n",
              "4                200  "
            ],
            "text/html": [
              "\n",
              "  <div id=\"df-98796011-03ff-45c0-b27d-412476987c2e\">\n",
              "    <div class=\"colab-df-container\">\n",
              "      <div>\n",
              "<style scoped>\n",
              "    .dataframe tbody tr th:only-of-type {\n",
              "        vertical-align: middle;\n",
              "    }\n",
              "\n",
              "    .dataframe tbody tr th {\n",
              "        vertical-align: top;\n",
              "    }\n",
              "\n",
              "    .dataframe thead th {\n",
              "        text-align: right;\n",
              "    }\n",
              "</style>\n",
              "<table border=\"1\" class=\"dataframe\">\n",
              "  <thead>\n",
              "    <tr style=\"text-align: right;\">\n",
              "      <th></th>\n",
              "      <th>Unnamed: 0</th>\n",
              "      <th>cut</th>\n",
              "      <th>color</th>\n",
              "      <th>clarity</th>\n",
              "      <th>carat_weight</th>\n",
              "      <th>cut_quality</th>\n",
              "      <th>lab</th>\n",
              "      <th>symmetry</th>\n",
              "      <th>polish</th>\n",
              "      <th>eye_clean</th>\n",
              "      <th>culet_size</th>\n",
              "      <th>culet_condition</th>\n",
              "      <th>depth_percent</th>\n",
              "      <th>table_percent</th>\n",
              "      <th>meas_length</th>\n",
              "      <th>meas_width</th>\n",
              "      <th>meas_depth</th>\n",
              "      <th>girdle_min</th>\n",
              "      <th>girdle_max</th>\n",
              "      <th>total_sales_price</th>\n",
              "    </tr>\n",
              "  </thead>\n",
              "  <tbody>\n",
              "    <tr>\n",
              "      <th>0</th>\n",
              "      <td>0</td>\n",
              "      <td>Round</td>\n",
              "      <td>E</td>\n",
              "      <td>VVS2</td>\n",
              "      <td>0.09</td>\n",
              "      <td>Excellent</td>\n",
              "      <td>IGI</td>\n",
              "      <td>Very Good</td>\n",
              "      <td>Very Good</td>\n",
              "      <td>unknown</td>\n",
              "      <td>N</td>\n",
              "      <td>unknown</td>\n",
              "      <td>62.7</td>\n",
              "      <td>59.0</td>\n",
              "      <td>2.85</td>\n",
              "      <td>2.87</td>\n",
              "      <td>1.79</td>\n",
              "      <td>M</td>\n",
              "      <td>M</td>\n",
              "      <td>200</td>\n",
              "    </tr>\n",
              "    <tr>\n",
              "      <th>1</th>\n",
              "      <td>1</td>\n",
              "      <td>Round</td>\n",
              "      <td>E</td>\n",
              "      <td>VVS2</td>\n",
              "      <td>0.09</td>\n",
              "      <td>Very Good</td>\n",
              "      <td>IGI</td>\n",
              "      <td>Very Good</td>\n",
              "      <td>Very Good</td>\n",
              "      <td>unknown</td>\n",
              "      <td>N</td>\n",
              "      <td>unknown</td>\n",
              "      <td>61.9</td>\n",
              "      <td>59.0</td>\n",
              "      <td>2.84</td>\n",
              "      <td>2.89</td>\n",
              "      <td>1.78</td>\n",
              "      <td>STK</td>\n",
              "      <td>STK</td>\n",
              "      <td>200</td>\n",
              "    </tr>\n",
              "    <tr>\n",
              "      <th>2</th>\n",
              "      <td>2</td>\n",
              "      <td>Round</td>\n",
              "      <td>E</td>\n",
              "      <td>VVS2</td>\n",
              "      <td>0.09</td>\n",
              "      <td>Excellent</td>\n",
              "      <td>IGI</td>\n",
              "      <td>Very Good</td>\n",
              "      <td>Very Good</td>\n",
              "      <td>unknown</td>\n",
              "      <td>unknown</td>\n",
              "      <td>unknown</td>\n",
              "      <td>61.1</td>\n",
              "      <td>59.0</td>\n",
              "      <td>2.88</td>\n",
              "      <td>2.90</td>\n",
              "      <td>1.77</td>\n",
              "      <td>TN</td>\n",
              "      <td>M</td>\n",
              "      <td>200</td>\n",
              "    </tr>\n",
              "    <tr>\n",
              "      <th>3</th>\n",
              "      <td>3</td>\n",
              "      <td>Round</td>\n",
              "      <td>E</td>\n",
              "      <td>VVS2</td>\n",
              "      <td>0.09</td>\n",
              "      <td>Excellent</td>\n",
              "      <td>IGI</td>\n",
              "      <td>Very Good</td>\n",
              "      <td>Very Good</td>\n",
              "      <td>unknown</td>\n",
              "      <td>unknown</td>\n",
              "      <td>unknown</td>\n",
              "      <td>62.0</td>\n",
              "      <td>59.0</td>\n",
              "      <td>2.86</td>\n",
              "      <td>2.88</td>\n",
              "      <td>1.78</td>\n",
              "      <td>M</td>\n",
              "      <td>STK</td>\n",
              "      <td>200</td>\n",
              "    </tr>\n",
              "    <tr>\n",
              "      <th>4</th>\n",
              "      <td>4</td>\n",
              "      <td>Round</td>\n",
              "      <td>E</td>\n",
              "      <td>VVS2</td>\n",
              "      <td>0.09</td>\n",
              "      <td>Very Good</td>\n",
              "      <td>IGI</td>\n",
              "      <td>Very Good</td>\n",
              "      <td>Excellent</td>\n",
              "      <td>unknown</td>\n",
              "      <td>N</td>\n",
              "      <td>unknown</td>\n",
              "      <td>64.9</td>\n",
              "      <td>58.5</td>\n",
              "      <td>2.79</td>\n",
              "      <td>2.83</td>\n",
              "      <td>1.82</td>\n",
              "      <td>STK</td>\n",
              "      <td>STK</td>\n",
              "      <td>200</td>\n",
              "    </tr>\n",
              "  </tbody>\n",
              "</table>\n",
              "</div>\n",
              "      <button class=\"colab-df-convert\" onclick=\"convertToInteractive('df-98796011-03ff-45c0-b27d-412476987c2e')\"\n",
              "              title=\"Convert this dataframe to an interactive table.\"\n",
              "              style=\"display:none;\">\n",
              "        \n",
              "  <svg xmlns=\"http://www.w3.org/2000/svg\" height=\"24px\"viewBox=\"0 0 24 24\"\n",
              "       width=\"24px\">\n",
              "    <path d=\"M0 0h24v24H0V0z\" fill=\"none\"/>\n",
              "    <path d=\"M18.56 5.44l.94 2.06.94-2.06 2.06-.94-2.06-.94-.94-2.06-.94 2.06-2.06.94zm-11 1L8.5 8.5l.94-2.06 2.06-.94-2.06-.94L8.5 2.5l-.94 2.06-2.06.94zm10 10l.94 2.06.94-2.06 2.06-.94-2.06-.94-.94-2.06-.94 2.06-2.06.94z\"/><path d=\"M17.41 7.96l-1.37-1.37c-.4-.4-.92-.59-1.43-.59-.52 0-1.04.2-1.43.59L10.3 9.45l-7.72 7.72c-.78.78-.78 2.05 0 2.83L4 21.41c.39.39.9.59 1.41.59.51 0 1.02-.2 1.41-.59l7.78-7.78 2.81-2.81c.8-.78.8-2.07 0-2.86zM5.41 20L4 18.59l7.72-7.72 1.47 1.35L5.41 20z\"/>\n",
              "  </svg>\n",
              "      </button>\n",
              "      \n",
              "  <style>\n",
              "    .colab-df-container {\n",
              "      display:flex;\n",
              "      flex-wrap:wrap;\n",
              "      gap: 12px;\n",
              "    }\n",
              "\n",
              "    .colab-df-convert {\n",
              "      background-color: #E8F0FE;\n",
              "      border: none;\n",
              "      border-radius: 50%;\n",
              "      cursor: pointer;\n",
              "      display: none;\n",
              "      fill: #1967D2;\n",
              "      height: 32px;\n",
              "      padding: 0 0 0 0;\n",
              "      width: 32px;\n",
              "    }\n",
              "\n",
              "    .colab-df-convert:hover {\n",
              "      background-color: #E2EBFA;\n",
              "      box-shadow: 0px 1px 2px rgba(60, 64, 67, 0.3), 0px 1px 3px 1px rgba(60, 64, 67, 0.15);\n",
              "      fill: #174EA6;\n",
              "    }\n",
              "\n",
              "    [theme=dark] .colab-df-convert {\n",
              "      background-color: #3B4455;\n",
              "      fill: #D2E3FC;\n",
              "    }\n",
              "\n",
              "    [theme=dark] .colab-df-convert:hover {\n",
              "      background-color: #434B5C;\n",
              "      box-shadow: 0px 1px 3px 1px rgba(0, 0, 0, 0.15);\n",
              "      filter: drop-shadow(0px 1px 2px rgba(0, 0, 0, 0.3));\n",
              "      fill: #FFFFFF;\n",
              "    }\n",
              "  </style>\n",
              "\n",
              "      <script>\n",
              "        const buttonEl =\n",
              "          document.querySelector('#df-98796011-03ff-45c0-b27d-412476987c2e button.colab-df-convert');\n",
              "        buttonEl.style.display =\n",
              "          google.colab.kernel.accessAllowed ? 'block' : 'none';\n",
              "\n",
              "        async function convertToInteractive(key) {\n",
              "          const element = document.querySelector('#df-98796011-03ff-45c0-b27d-412476987c2e');\n",
              "          const dataTable =\n",
              "            await google.colab.kernel.invokeFunction('convertToInteractive',\n",
              "                                                     [key], {});\n",
              "          if (!dataTable) return;\n",
              "\n",
              "          const docLinkHtml = 'Like what you see? Visit the ' +\n",
              "            '<a target=\"_blank\" href=https://colab.research.google.com/notebooks/data_table.ipynb>data table notebook</a>'\n",
              "            + ' to learn more about interactive tables.';\n",
              "          element.innerHTML = '';\n",
              "          dataTable['output_type'] = 'display_data';\n",
              "          await google.colab.output.renderOutput(dataTable, element);\n",
              "          const docLink = document.createElement('div');\n",
              "          docLink.innerHTML = docLinkHtml;\n",
              "          element.appendChild(docLink);\n",
              "        }\n",
              "      </script>\n",
              "    </div>\n",
              "  </div>\n",
              "  "
            ]
          },
          "metadata": {},
          "execution_count": 111
        }
      ]
    },
    {
      "cell_type": "markdown",
      "source": [
        "(1 балл) Проделайте тоже самое для колонок, начинающихся с `culet_`:"
      ],
      "metadata": {
        "id": "JID3q4vr8-2h"
      }
    },
    {
      "cell_type": "code",
      "source": [
        "for name_column in diamonds:\n",
        "  if 'culet_' in name_column:\n",
        "    del diamonds[name_column]\n",
        "diamonds[:5]"
      ],
      "metadata": {
        "id": "Wfsvzyad-T6P",
        "colab": {
          "base_uri": "https://localhost:8080/",
          "height": 250
        },
        "outputId": "0d9b410a-1364-43a1-f076-e5e686a1ad4e"
      },
      "execution_count": 112,
      "outputs": [
        {
          "output_type": "execute_result",
          "data": {
            "text/plain": [
              "   Unnamed: 0    cut color clarity  carat_weight cut_quality  lab   symmetry  \\\n",
              "0           0  Round     E    VVS2          0.09   Excellent  IGI  Very Good   \n",
              "1           1  Round     E    VVS2          0.09   Very Good  IGI  Very Good   \n",
              "2           2  Round     E    VVS2          0.09   Excellent  IGI  Very Good   \n",
              "3           3  Round     E    VVS2          0.09   Excellent  IGI  Very Good   \n",
              "4           4  Round     E    VVS2          0.09   Very Good  IGI  Very Good   \n",
              "\n",
              "      polish eye_clean  depth_percent  table_percent  meas_length  meas_width  \\\n",
              "0  Very Good   unknown           62.7           59.0         2.85        2.87   \n",
              "1  Very Good   unknown           61.9           59.0         2.84        2.89   \n",
              "2  Very Good   unknown           61.1           59.0         2.88        2.90   \n",
              "3  Very Good   unknown           62.0           59.0         2.86        2.88   \n",
              "4  Excellent   unknown           64.9           58.5         2.79        2.83   \n",
              "\n",
              "   meas_depth girdle_min girdle_max  total_sales_price  \n",
              "0        1.79          M          M                200  \n",
              "1        1.78        STK        STK                200  \n",
              "2        1.77         TN          M                200  \n",
              "3        1.78          M        STK                200  \n",
              "4        1.82        STK        STK                200  "
            ],
            "text/html": [
              "\n",
              "  <div id=\"df-7de51172-9e10-4ed7-b3af-50d63d2e9877\">\n",
              "    <div class=\"colab-df-container\">\n",
              "      <div>\n",
              "<style scoped>\n",
              "    .dataframe tbody tr th:only-of-type {\n",
              "        vertical-align: middle;\n",
              "    }\n",
              "\n",
              "    .dataframe tbody tr th {\n",
              "        vertical-align: top;\n",
              "    }\n",
              "\n",
              "    .dataframe thead th {\n",
              "        text-align: right;\n",
              "    }\n",
              "</style>\n",
              "<table border=\"1\" class=\"dataframe\">\n",
              "  <thead>\n",
              "    <tr style=\"text-align: right;\">\n",
              "      <th></th>\n",
              "      <th>Unnamed: 0</th>\n",
              "      <th>cut</th>\n",
              "      <th>color</th>\n",
              "      <th>clarity</th>\n",
              "      <th>carat_weight</th>\n",
              "      <th>cut_quality</th>\n",
              "      <th>lab</th>\n",
              "      <th>symmetry</th>\n",
              "      <th>polish</th>\n",
              "      <th>eye_clean</th>\n",
              "      <th>depth_percent</th>\n",
              "      <th>table_percent</th>\n",
              "      <th>meas_length</th>\n",
              "      <th>meas_width</th>\n",
              "      <th>meas_depth</th>\n",
              "      <th>girdle_min</th>\n",
              "      <th>girdle_max</th>\n",
              "      <th>total_sales_price</th>\n",
              "    </tr>\n",
              "  </thead>\n",
              "  <tbody>\n",
              "    <tr>\n",
              "      <th>0</th>\n",
              "      <td>0</td>\n",
              "      <td>Round</td>\n",
              "      <td>E</td>\n",
              "      <td>VVS2</td>\n",
              "      <td>0.09</td>\n",
              "      <td>Excellent</td>\n",
              "      <td>IGI</td>\n",
              "      <td>Very Good</td>\n",
              "      <td>Very Good</td>\n",
              "      <td>unknown</td>\n",
              "      <td>62.7</td>\n",
              "      <td>59.0</td>\n",
              "      <td>2.85</td>\n",
              "      <td>2.87</td>\n",
              "      <td>1.79</td>\n",
              "      <td>M</td>\n",
              "      <td>M</td>\n",
              "      <td>200</td>\n",
              "    </tr>\n",
              "    <tr>\n",
              "      <th>1</th>\n",
              "      <td>1</td>\n",
              "      <td>Round</td>\n",
              "      <td>E</td>\n",
              "      <td>VVS2</td>\n",
              "      <td>0.09</td>\n",
              "      <td>Very Good</td>\n",
              "      <td>IGI</td>\n",
              "      <td>Very Good</td>\n",
              "      <td>Very Good</td>\n",
              "      <td>unknown</td>\n",
              "      <td>61.9</td>\n",
              "      <td>59.0</td>\n",
              "      <td>2.84</td>\n",
              "      <td>2.89</td>\n",
              "      <td>1.78</td>\n",
              "      <td>STK</td>\n",
              "      <td>STK</td>\n",
              "      <td>200</td>\n",
              "    </tr>\n",
              "    <tr>\n",
              "      <th>2</th>\n",
              "      <td>2</td>\n",
              "      <td>Round</td>\n",
              "      <td>E</td>\n",
              "      <td>VVS2</td>\n",
              "      <td>0.09</td>\n",
              "      <td>Excellent</td>\n",
              "      <td>IGI</td>\n",
              "      <td>Very Good</td>\n",
              "      <td>Very Good</td>\n",
              "      <td>unknown</td>\n",
              "      <td>61.1</td>\n",
              "      <td>59.0</td>\n",
              "      <td>2.88</td>\n",
              "      <td>2.90</td>\n",
              "      <td>1.77</td>\n",
              "      <td>TN</td>\n",
              "      <td>M</td>\n",
              "      <td>200</td>\n",
              "    </tr>\n",
              "    <tr>\n",
              "      <th>3</th>\n",
              "      <td>3</td>\n",
              "      <td>Round</td>\n",
              "      <td>E</td>\n",
              "      <td>VVS2</td>\n",
              "      <td>0.09</td>\n",
              "      <td>Excellent</td>\n",
              "      <td>IGI</td>\n",
              "      <td>Very Good</td>\n",
              "      <td>Very Good</td>\n",
              "      <td>unknown</td>\n",
              "      <td>62.0</td>\n",
              "      <td>59.0</td>\n",
              "      <td>2.86</td>\n",
              "      <td>2.88</td>\n",
              "      <td>1.78</td>\n",
              "      <td>M</td>\n",
              "      <td>STK</td>\n",
              "      <td>200</td>\n",
              "    </tr>\n",
              "    <tr>\n",
              "      <th>4</th>\n",
              "      <td>4</td>\n",
              "      <td>Round</td>\n",
              "      <td>E</td>\n",
              "      <td>VVS2</td>\n",
              "      <td>0.09</td>\n",
              "      <td>Very Good</td>\n",
              "      <td>IGI</td>\n",
              "      <td>Very Good</td>\n",
              "      <td>Excellent</td>\n",
              "      <td>unknown</td>\n",
              "      <td>64.9</td>\n",
              "      <td>58.5</td>\n",
              "      <td>2.79</td>\n",
              "      <td>2.83</td>\n",
              "      <td>1.82</td>\n",
              "      <td>STK</td>\n",
              "      <td>STK</td>\n",
              "      <td>200</td>\n",
              "    </tr>\n",
              "  </tbody>\n",
              "</table>\n",
              "</div>\n",
              "      <button class=\"colab-df-convert\" onclick=\"convertToInteractive('df-7de51172-9e10-4ed7-b3af-50d63d2e9877')\"\n",
              "              title=\"Convert this dataframe to an interactive table.\"\n",
              "              style=\"display:none;\">\n",
              "        \n",
              "  <svg xmlns=\"http://www.w3.org/2000/svg\" height=\"24px\"viewBox=\"0 0 24 24\"\n",
              "       width=\"24px\">\n",
              "    <path d=\"M0 0h24v24H0V0z\" fill=\"none\"/>\n",
              "    <path d=\"M18.56 5.44l.94 2.06.94-2.06 2.06-.94-2.06-.94-.94-2.06-.94 2.06-2.06.94zm-11 1L8.5 8.5l.94-2.06 2.06-.94-2.06-.94L8.5 2.5l-.94 2.06-2.06.94zm10 10l.94 2.06.94-2.06 2.06-.94-2.06-.94-.94-2.06-.94 2.06-2.06.94z\"/><path d=\"M17.41 7.96l-1.37-1.37c-.4-.4-.92-.59-1.43-.59-.52 0-1.04.2-1.43.59L10.3 9.45l-7.72 7.72c-.78.78-.78 2.05 0 2.83L4 21.41c.39.39.9.59 1.41.59.51 0 1.02-.2 1.41-.59l7.78-7.78 2.81-2.81c.8-.78.8-2.07 0-2.86zM5.41 20L4 18.59l7.72-7.72 1.47 1.35L5.41 20z\"/>\n",
              "  </svg>\n",
              "      </button>\n",
              "      \n",
              "  <style>\n",
              "    .colab-df-container {\n",
              "      display:flex;\n",
              "      flex-wrap:wrap;\n",
              "      gap: 12px;\n",
              "    }\n",
              "\n",
              "    .colab-df-convert {\n",
              "      background-color: #E8F0FE;\n",
              "      border: none;\n",
              "      border-radius: 50%;\n",
              "      cursor: pointer;\n",
              "      display: none;\n",
              "      fill: #1967D2;\n",
              "      height: 32px;\n",
              "      padding: 0 0 0 0;\n",
              "      width: 32px;\n",
              "    }\n",
              "\n",
              "    .colab-df-convert:hover {\n",
              "      background-color: #E2EBFA;\n",
              "      box-shadow: 0px 1px 2px rgba(60, 64, 67, 0.3), 0px 1px 3px 1px rgba(60, 64, 67, 0.15);\n",
              "      fill: #174EA6;\n",
              "    }\n",
              "\n",
              "    [theme=dark] .colab-df-convert {\n",
              "      background-color: #3B4455;\n",
              "      fill: #D2E3FC;\n",
              "    }\n",
              "\n",
              "    [theme=dark] .colab-df-convert:hover {\n",
              "      background-color: #434B5C;\n",
              "      box-shadow: 0px 1px 3px 1px rgba(0, 0, 0, 0.15);\n",
              "      filter: drop-shadow(0px 1px 2px rgba(0, 0, 0, 0.3));\n",
              "      fill: #FFFFFF;\n",
              "    }\n",
              "  </style>\n",
              "\n",
              "      <script>\n",
              "        const buttonEl =\n",
              "          document.querySelector('#df-7de51172-9e10-4ed7-b3af-50d63d2e9877 button.colab-df-convert');\n",
              "        buttonEl.style.display =\n",
              "          google.colab.kernel.accessAllowed ? 'block' : 'none';\n",
              "\n",
              "        async function convertToInteractive(key) {\n",
              "          const element = document.querySelector('#df-7de51172-9e10-4ed7-b3af-50d63d2e9877');\n",
              "          const dataTable =\n",
              "            await google.colab.kernel.invokeFunction('convertToInteractive',\n",
              "                                                     [key], {});\n",
              "          if (!dataTable) return;\n",
              "\n",
              "          const docLinkHtml = 'Like what you see? Visit the ' +\n",
              "            '<a target=\"_blank\" href=https://colab.research.google.com/notebooks/data_table.ipynb>data table notebook</a>'\n",
              "            + ' to learn more about interactive tables.';\n",
              "          element.innerHTML = '';\n",
              "          dataTable['output_type'] = 'display_data';\n",
              "          await google.colab.output.renderOutput(dataTable, element);\n",
              "          const docLink = document.createElement('div');\n",
              "          docLink.innerHTML = docLinkHtml;\n",
              "          element.appendChild(docLink);\n",
              "        }\n",
              "      </script>\n",
              "    </div>\n",
              "  </div>\n",
              "  "
            ]
          },
          "metadata": {},
          "execution_count": 112
        }
      ]
    },
    {
      "cell_type": "markdown",
      "source": [
        "(1 балл) Посчитайте сколько бы стоил (в тысячах долларов) сейф, в котором хранились бы все бриллианты из датасета:"
      ],
      "metadata": {
        "id": "7_qYv5Xm-UCz"
      }
    },
    {
      "cell_type": "code",
      "source": [
        "diamonds['total_sales_price'].sum()"
      ],
      "metadata": {
        "id": "g2wVyz5U-cx7",
        "colab": {
          "base_uri": "https://localhost:8080/"
        },
        "outputId": "40b46840-c372-49fc-ac0d-8dccfe46cbce"
      },
      "execution_count": 113,
      "outputs": [
        {
          "output_type": "execute_result",
          "data": {
            "text/plain": [
              "1517721991"
            ]
          },
          "metadata": {},
          "execution_count": 113
        }
      ]
    },
    {
      "cell_type": "markdown",
      "source": [
        "Немного необоснованных манипуляций."
      ],
      "metadata": {
        "id": "GVwspHrUkRFv"
      }
    },
    {
      "cell_type": "markdown",
      "source": [
        "(1 балл) Выберите из датасета строки с четными индексами и выведете значения (не меняя нумерацию индексов):"
      ],
      "metadata": {
        "id": "0j5Yr0mFxxfu"
      }
    },
    {
      "cell_type": "code",
      "source": [
        "diamonds[::2]"
      ],
      "metadata": {
        "id": "dW2GOROfx6yd",
        "colab": {
          "base_uri": "https://localhost:8080/",
          "height": 574
        },
        "outputId": "88f4351a-c984-4a4b-94dd-0924d2539a1e"
      },
      "execution_count": 114,
      "outputs": [
        {
          "output_type": "execute_result",
          "data": {
            "text/plain": [
              "        Unnamed: 0    cut    color clarity  carat_weight cut_quality  lab  \\\n",
              "0                0  Round        E    VVS2          0.09   Excellent  IGI   \n",
              "2                2  Round        E    VVS2          0.09   Excellent  IGI   \n",
              "4                4  Round        E    VVS2          0.09   Very Good  IGI   \n",
              "6                6  Round        E    VVS2          0.09   Very Good  IGI   \n",
              "8                8  Round        E    VVS2          0.09   Very Good  IGI   \n",
              "...            ...    ...      ...     ...           ...         ...  ...   \n",
              "219694      219695  Round        D      IF         12.52   Excellent  HRD   \n",
              "219696      219697   Oval        H     VS2         18.88     unknown  GIA   \n",
              "219698      219699  Round        E     VS1         10.65   Excellent  GIA   \n",
              "219700      219701  Round        E     VS1         18.07   Excellent  GIA   \n",
              "219702      219703   Pear  unknown    VVS2         10.03     unknown  GIA   \n",
              "\n",
              "         symmetry     polish eye_clean  depth_percent  table_percent  \\\n",
              "0       Very Good  Very Good   unknown           62.7           59.0   \n",
              "2       Very Good  Very Good   unknown           61.1           59.0   \n",
              "4       Very Good  Excellent   unknown           64.9           58.5   \n",
              "6       Very Good  Very Good   unknown           64.0           57.0   \n",
              "8       Very Good  Very Good   unknown           63.5           59.5   \n",
              "...           ...        ...       ...            ...            ...   \n",
              "219694  Excellent  Excellent   unknown           62.1           58.0   \n",
              "219696  Excellent  Excellent   unknown           57.1           55.0   \n",
              "219698  Excellent  Excellent   unknown           61.3           58.0   \n",
              "219700  Excellent  Excellent   unknown           60.2           59.0   \n",
              "219702  Very Good  Excellent   unknown           66.7           65.0   \n",
              "\n",
              "        meas_length  meas_width  meas_depth girdle_min girdle_max  \\\n",
              "0              2.85        2.87        1.79          M          M   \n",
              "2              2.88        2.90        1.77         TN          M   \n",
              "4              2.79        2.83        1.82        STK        STK   \n",
              "6              2.85        2.88        1.84        STK        STK   \n",
              "8              2.89        2.92        1.85        STK         TK   \n",
              "...             ...         ...         ...        ...        ...   \n",
              "219694        14.84       14.91        9.24    unknown    unknown   \n",
              "219696        21.34       15.23        8.69         TN        STK   \n",
              "219698        14.06       14.18        8.66          M        STK   \n",
              "219700        17.06       17.10       10.20         TN          M   \n",
              "219702        15.61       11.09        7.39    unknown    unknown   \n",
              "\n",
              "        total_sales_price  \n",
              "0                     200  \n",
              "2                     200  \n",
              "4                     200  \n",
              "6                     200  \n",
              "8                     200  \n",
              "...                   ...  \n",
              "219694            1121792  \n",
              "219696            1132347  \n",
              "219698            1210692  \n",
              "219700            1315496  \n",
              "219702            1449881  \n",
              "\n",
              "[109852 rows x 18 columns]"
            ],
            "text/html": [
              "\n",
              "  <div id=\"df-6080b05d-f731-432b-902e-56bf4b220bf8\">\n",
              "    <div class=\"colab-df-container\">\n",
              "      <div>\n",
              "<style scoped>\n",
              "    .dataframe tbody tr th:only-of-type {\n",
              "        vertical-align: middle;\n",
              "    }\n",
              "\n",
              "    .dataframe tbody tr th {\n",
              "        vertical-align: top;\n",
              "    }\n",
              "\n",
              "    .dataframe thead th {\n",
              "        text-align: right;\n",
              "    }\n",
              "</style>\n",
              "<table border=\"1\" class=\"dataframe\">\n",
              "  <thead>\n",
              "    <tr style=\"text-align: right;\">\n",
              "      <th></th>\n",
              "      <th>Unnamed: 0</th>\n",
              "      <th>cut</th>\n",
              "      <th>color</th>\n",
              "      <th>clarity</th>\n",
              "      <th>carat_weight</th>\n",
              "      <th>cut_quality</th>\n",
              "      <th>lab</th>\n",
              "      <th>symmetry</th>\n",
              "      <th>polish</th>\n",
              "      <th>eye_clean</th>\n",
              "      <th>depth_percent</th>\n",
              "      <th>table_percent</th>\n",
              "      <th>meas_length</th>\n",
              "      <th>meas_width</th>\n",
              "      <th>meas_depth</th>\n",
              "      <th>girdle_min</th>\n",
              "      <th>girdle_max</th>\n",
              "      <th>total_sales_price</th>\n",
              "    </tr>\n",
              "  </thead>\n",
              "  <tbody>\n",
              "    <tr>\n",
              "      <th>0</th>\n",
              "      <td>0</td>\n",
              "      <td>Round</td>\n",
              "      <td>E</td>\n",
              "      <td>VVS2</td>\n",
              "      <td>0.09</td>\n",
              "      <td>Excellent</td>\n",
              "      <td>IGI</td>\n",
              "      <td>Very Good</td>\n",
              "      <td>Very Good</td>\n",
              "      <td>unknown</td>\n",
              "      <td>62.7</td>\n",
              "      <td>59.0</td>\n",
              "      <td>2.85</td>\n",
              "      <td>2.87</td>\n",
              "      <td>1.79</td>\n",
              "      <td>M</td>\n",
              "      <td>M</td>\n",
              "      <td>200</td>\n",
              "    </tr>\n",
              "    <tr>\n",
              "      <th>2</th>\n",
              "      <td>2</td>\n",
              "      <td>Round</td>\n",
              "      <td>E</td>\n",
              "      <td>VVS2</td>\n",
              "      <td>0.09</td>\n",
              "      <td>Excellent</td>\n",
              "      <td>IGI</td>\n",
              "      <td>Very Good</td>\n",
              "      <td>Very Good</td>\n",
              "      <td>unknown</td>\n",
              "      <td>61.1</td>\n",
              "      <td>59.0</td>\n",
              "      <td>2.88</td>\n",
              "      <td>2.90</td>\n",
              "      <td>1.77</td>\n",
              "      <td>TN</td>\n",
              "      <td>M</td>\n",
              "      <td>200</td>\n",
              "    </tr>\n",
              "    <tr>\n",
              "      <th>4</th>\n",
              "      <td>4</td>\n",
              "      <td>Round</td>\n",
              "      <td>E</td>\n",
              "      <td>VVS2</td>\n",
              "      <td>0.09</td>\n",
              "      <td>Very Good</td>\n",
              "      <td>IGI</td>\n",
              "      <td>Very Good</td>\n",
              "      <td>Excellent</td>\n",
              "      <td>unknown</td>\n",
              "      <td>64.9</td>\n",
              "      <td>58.5</td>\n",
              "      <td>2.79</td>\n",
              "      <td>2.83</td>\n",
              "      <td>1.82</td>\n",
              "      <td>STK</td>\n",
              "      <td>STK</td>\n",
              "      <td>200</td>\n",
              "    </tr>\n",
              "    <tr>\n",
              "      <th>6</th>\n",
              "      <td>6</td>\n",
              "      <td>Round</td>\n",
              "      <td>E</td>\n",
              "      <td>VVS2</td>\n",
              "      <td>0.09</td>\n",
              "      <td>Very Good</td>\n",
              "      <td>IGI</td>\n",
              "      <td>Very Good</td>\n",
              "      <td>Very Good</td>\n",
              "      <td>unknown</td>\n",
              "      <td>64.0</td>\n",
              "      <td>57.0</td>\n",
              "      <td>2.85</td>\n",
              "      <td>2.88</td>\n",
              "      <td>1.84</td>\n",
              "      <td>STK</td>\n",
              "      <td>STK</td>\n",
              "      <td>200</td>\n",
              "    </tr>\n",
              "    <tr>\n",
              "      <th>8</th>\n",
              "      <td>8</td>\n",
              "      <td>Round</td>\n",
              "      <td>E</td>\n",
              "      <td>VVS2</td>\n",
              "      <td>0.09</td>\n",
              "      <td>Very Good</td>\n",
              "      <td>IGI</td>\n",
              "      <td>Very Good</td>\n",
              "      <td>Very Good</td>\n",
              "      <td>unknown</td>\n",
              "      <td>63.5</td>\n",
              "      <td>59.5</td>\n",
              "      <td>2.89</td>\n",
              "      <td>2.92</td>\n",
              "      <td>1.85</td>\n",
              "      <td>STK</td>\n",
              "      <td>TK</td>\n",
              "      <td>200</td>\n",
              "    </tr>\n",
              "    <tr>\n",
              "      <th>...</th>\n",
              "      <td>...</td>\n",
              "      <td>...</td>\n",
              "      <td>...</td>\n",
              "      <td>...</td>\n",
              "      <td>...</td>\n",
              "      <td>...</td>\n",
              "      <td>...</td>\n",
              "      <td>...</td>\n",
              "      <td>...</td>\n",
              "      <td>...</td>\n",
              "      <td>...</td>\n",
              "      <td>...</td>\n",
              "      <td>...</td>\n",
              "      <td>...</td>\n",
              "      <td>...</td>\n",
              "      <td>...</td>\n",
              "      <td>...</td>\n",
              "      <td>...</td>\n",
              "    </tr>\n",
              "    <tr>\n",
              "      <th>219694</th>\n",
              "      <td>219695</td>\n",
              "      <td>Round</td>\n",
              "      <td>D</td>\n",
              "      <td>IF</td>\n",
              "      <td>12.52</td>\n",
              "      <td>Excellent</td>\n",
              "      <td>HRD</td>\n",
              "      <td>Excellent</td>\n",
              "      <td>Excellent</td>\n",
              "      <td>unknown</td>\n",
              "      <td>62.1</td>\n",
              "      <td>58.0</td>\n",
              "      <td>14.84</td>\n",
              "      <td>14.91</td>\n",
              "      <td>9.24</td>\n",
              "      <td>unknown</td>\n",
              "      <td>unknown</td>\n",
              "      <td>1121792</td>\n",
              "    </tr>\n",
              "    <tr>\n",
              "      <th>219696</th>\n",
              "      <td>219697</td>\n",
              "      <td>Oval</td>\n",
              "      <td>H</td>\n",
              "      <td>VS2</td>\n",
              "      <td>18.88</td>\n",
              "      <td>unknown</td>\n",
              "      <td>GIA</td>\n",
              "      <td>Excellent</td>\n",
              "      <td>Excellent</td>\n",
              "      <td>unknown</td>\n",
              "      <td>57.1</td>\n",
              "      <td>55.0</td>\n",
              "      <td>21.34</td>\n",
              "      <td>15.23</td>\n",
              "      <td>8.69</td>\n",
              "      <td>TN</td>\n",
              "      <td>STK</td>\n",
              "      <td>1132347</td>\n",
              "    </tr>\n",
              "    <tr>\n",
              "      <th>219698</th>\n",
              "      <td>219699</td>\n",
              "      <td>Round</td>\n",
              "      <td>E</td>\n",
              "      <td>VS1</td>\n",
              "      <td>10.65</td>\n",
              "      <td>Excellent</td>\n",
              "      <td>GIA</td>\n",
              "      <td>Excellent</td>\n",
              "      <td>Excellent</td>\n",
              "      <td>unknown</td>\n",
              "      <td>61.3</td>\n",
              "      <td>58.0</td>\n",
              "      <td>14.06</td>\n",
              "      <td>14.18</td>\n",
              "      <td>8.66</td>\n",
              "      <td>M</td>\n",
              "      <td>STK</td>\n",
              "      <td>1210692</td>\n",
              "    </tr>\n",
              "    <tr>\n",
              "      <th>219700</th>\n",
              "      <td>219701</td>\n",
              "      <td>Round</td>\n",
              "      <td>E</td>\n",
              "      <td>VS1</td>\n",
              "      <td>18.07</td>\n",
              "      <td>Excellent</td>\n",
              "      <td>GIA</td>\n",
              "      <td>Excellent</td>\n",
              "      <td>Excellent</td>\n",
              "      <td>unknown</td>\n",
              "      <td>60.2</td>\n",
              "      <td>59.0</td>\n",
              "      <td>17.06</td>\n",
              "      <td>17.10</td>\n",
              "      <td>10.20</td>\n",
              "      <td>TN</td>\n",
              "      <td>M</td>\n",
              "      <td>1315496</td>\n",
              "    </tr>\n",
              "    <tr>\n",
              "      <th>219702</th>\n",
              "      <td>219703</td>\n",
              "      <td>Pear</td>\n",
              "      <td>unknown</td>\n",
              "      <td>VVS2</td>\n",
              "      <td>10.03</td>\n",
              "      <td>unknown</td>\n",
              "      <td>GIA</td>\n",
              "      <td>Very Good</td>\n",
              "      <td>Excellent</td>\n",
              "      <td>unknown</td>\n",
              "      <td>66.7</td>\n",
              "      <td>65.0</td>\n",
              "      <td>15.61</td>\n",
              "      <td>11.09</td>\n",
              "      <td>7.39</td>\n",
              "      <td>unknown</td>\n",
              "      <td>unknown</td>\n",
              "      <td>1449881</td>\n",
              "    </tr>\n",
              "  </tbody>\n",
              "</table>\n",
              "<p>109852 rows × 18 columns</p>\n",
              "</div>\n",
              "      <button class=\"colab-df-convert\" onclick=\"convertToInteractive('df-6080b05d-f731-432b-902e-56bf4b220bf8')\"\n",
              "              title=\"Convert this dataframe to an interactive table.\"\n",
              "              style=\"display:none;\">\n",
              "        \n",
              "  <svg xmlns=\"http://www.w3.org/2000/svg\" height=\"24px\"viewBox=\"0 0 24 24\"\n",
              "       width=\"24px\">\n",
              "    <path d=\"M0 0h24v24H0V0z\" fill=\"none\"/>\n",
              "    <path d=\"M18.56 5.44l.94 2.06.94-2.06 2.06-.94-2.06-.94-.94-2.06-.94 2.06-2.06.94zm-11 1L8.5 8.5l.94-2.06 2.06-.94-2.06-.94L8.5 2.5l-.94 2.06-2.06.94zm10 10l.94 2.06.94-2.06 2.06-.94-2.06-.94-.94-2.06-.94 2.06-2.06.94z\"/><path d=\"M17.41 7.96l-1.37-1.37c-.4-.4-.92-.59-1.43-.59-.52 0-1.04.2-1.43.59L10.3 9.45l-7.72 7.72c-.78.78-.78 2.05 0 2.83L4 21.41c.39.39.9.59 1.41.59.51 0 1.02-.2 1.41-.59l7.78-7.78 2.81-2.81c.8-.78.8-2.07 0-2.86zM5.41 20L4 18.59l7.72-7.72 1.47 1.35L5.41 20z\"/>\n",
              "  </svg>\n",
              "      </button>\n",
              "      \n",
              "  <style>\n",
              "    .colab-df-container {\n",
              "      display:flex;\n",
              "      flex-wrap:wrap;\n",
              "      gap: 12px;\n",
              "    }\n",
              "\n",
              "    .colab-df-convert {\n",
              "      background-color: #E8F0FE;\n",
              "      border: none;\n",
              "      border-radius: 50%;\n",
              "      cursor: pointer;\n",
              "      display: none;\n",
              "      fill: #1967D2;\n",
              "      height: 32px;\n",
              "      padding: 0 0 0 0;\n",
              "      width: 32px;\n",
              "    }\n",
              "\n",
              "    .colab-df-convert:hover {\n",
              "      background-color: #E2EBFA;\n",
              "      box-shadow: 0px 1px 2px rgba(60, 64, 67, 0.3), 0px 1px 3px 1px rgba(60, 64, 67, 0.15);\n",
              "      fill: #174EA6;\n",
              "    }\n",
              "\n",
              "    [theme=dark] .colab-df-convert {\n",
              "      background-color: #3B4455;\n",
              "      fill: #D2E3FC;\n",
              "    }\n",
              "\n",
              "    [theme=dark] .colab-df-convert:hover {\n",
              "      background-color: #434B5C;\n",
              "      box-shadow: 0px 1px 3px 1px rgba(0, 0, 0, 0.15);\n",
              "      filter: drop-shadow(0px 1px 2px rgba(0, 0, 0, 0.3));\n",
              "      fill: #FFFFFF;\n",
              "    }\n",
              "  </style>\n",
              "\n",
              "      <script>\n",
              "        const buttonEl =\n",
              "          document.querySelector('#df-6080b05d-f731-432b-902e-56bf4b220bf8 button.colab-df-convert');\n",
              "        buttonEl.style.display =\n",
              "          google.colab.kernel.accessAllowed ? 'block' : 'none';\n",
              "\n",
              "        async function convertToInteractive(key) {\n",
              "          const element = document.querySelector('#df-6080b05d-f731-432b-902e-56bf4b220bf8');\n",
              "          const dataTable =\n",
              "            await google.colab.kernel.invokeFunction('convertToInteractive',\n",
              "                                                     [key], {});\n",
              "          if (!dataTable) return;\n",
              "\n",
              "          const docLinkHtml = 'Like what you see? Visit the ' +\n",
              "            '<a target=\"_blank\" href=https://colab.research.google.com/notebooks/data_table.ipynb>data table notebook</a>'\n",
              "            + ' to learn more about interactive tables.';\n",
              "          element.innerHTML = '';\n",
              "          dataTable['output_type'] = 'display_data';\n",
              "          await google.colab.output.renderOutput(dataTable, element);\n",
              "          const docLink = document.createElement('div');\n",
              "          docLink.innerHTML = docLinkHtml;\n",
              "          element.appendChild(docLink);\n",
              "        }\n",
              "      </script>\n",
              "    </div>\n",
              "  </div>\n",
              "  "
            ]
          },
          "metadata": {},
          "execution_count": 114
        }
      ]
    },
    {
      "cell_type": "markdown",
      "source": [
        "(0.5 балла) А теперь с индексами, кратными 6:"
      ],
      "metadata": {
        "id": "mNXqS4oox7TF"
      }
    },
    {
      "cell_type": "code",
      "source": [
        "diamonds[::6]"
      ],
      "metadata": {
        "id": "hy8LyzXix_SB",
        "colab": {
          "base_uri": "https://localhost:8080/",
          "height": 574
        },
        "outputId": "2d952e75-b442-47c1-9650-d9a7ea2152b1"
      },
      "execution_count": 115,
      "outputs": [
        {
          "output_type": "execute_result",
          "data": {
            "text/plain": [
              "        Unnamed: 0      cut    color clarity  carat_weight cut_quality  lab  \\\n",
              "0                0    Round        E    VVS2          0.09   Excellent  IGI   \n",
              "6                6    Round        E    VVS2          0.09   Very Good  IGI   \n",
              "12              12    Round        E    VVS2          0.09   Very Good  IGI   \n",
              "18              18    Round        E    VVS2          0.09   Excellent  IGI   \n",
              "24              24    Round        L      I1          0.34   Excellent  IGI   \n",
              "...            ...      ...      ...     ...           ...         ...  ...   \n",
              "219678      219679    Round        G     VS1         10.23   Excellent  GIA   \n",
              "219684      219685  Radiant  unknown      I1          0.89     unknown  GIA   \n",
              "219690      219691    Round        D    VVS2         10.10   Excellent  GIA   \n",
              "219696      219697     Oval        H     VS2         18.88     unknown  GIA   \n",
              "219702      219703     Pear  unknown    VVS2         10.03     unknown  GIA   \n",
              "\n",
              "         symmetry     polish eye_clean  depth_percent  table_percent  \\\n",
              "0       Very Good  Very Good   unknown           62.7           59.0   \n",
              "6       Very Good  Very Good   unknown           64.0           57.0   \n",
              "12      Very Good  Very Good   unknown           61.8           58.5   \n",
              "18      Very Good  Very Good   unknown           61.0           60.0   \n",
              "24      Excellent  Excellent   unknown            0.0            0.0   \n",
              "...           ...        ...       ...            ...            ...   \n",
              "219678  Excellent  Excellent   unknown           62.7           55.0   \n",
              "219684       Good       Good   unknown           63.8           57.0   \n",
              "219690  Excellent  Excellent   unknown           59.4           59.0   \n",
              "219696  Excellent  Excellent   unknown           57.1           55.0   \n",
              "219702  Very Good  Excellent   unknown           66.7           65.0   \n",
              "\n",
              "        meas_length  meas_width  meas_depth girdle_min girdle_max  \\\n",
              "0              2.85        2.87        1.79          M          M   \n",
              "6              2.85        2.88        1.84        STK        STK   \n",
              "12             2.85        2.89        1.77        STK         TK   \n",
              "18             2.91        2.92        1.78          M          M   \n",
              "24             0.00        0.00        0.00    unknown    unknown   \n",
              "...             ...         ...         ...        ...        ...   \n",
              "219678        13.82       13.92        8.69         TN          M   \n",
              "219684         6.44        4.96        3.16         TK        VTK   \n",
              "219690        14.07       14.15        8.39          M        STK   \n",
              "219696        21.34       15.23        8.69         TN        STK   \n",
              "219702        15.61       11.09        7.39    unknown    unknown   \n",
              "\n",
              "        total_sales_price  \n",
              "0                     200  \n",
              "6                     200  \n",
              "12                    200  \n",
              "18                    200  \n",
              "24                    204  \n",
              "...                   ...  \n",
              "219678             859320  \n",
              "219684             982560  \n",
              "219690            1040739  \n",
              "219696            1132347  \n",
              "219702            1449881  \n",
              "\n",
              "[36618 rows x 18 columns]"
            ],
            "text/html": [
              "\n",
              "  <div id=\"df-1db63daf-19ed-4f3b-9a7d-757565e9fdb2\">\n",
              "    <div class=\"colab-df-container\">\n",
              "      <div>\n",
              "<style scoped>\n",
              "    .dataframe tbody tr th:only-of-type {\n",
              "        vertical-align: middle;\n",
              "    }\n",
              "\n",
              "    .dataframe tbody tr th {\n",
              "        vertical-align: top;\n",
              "    }\n",
              "\n",
              "    .dataframe thead th {\n",
              "        text-align: right;\n",
              "    }\n",
              "</style>\n",
              "<table border=\"1\" class=\"dataframe\">\n",
              "  <thead>\n",
              "    <tr style=\"text-align: right;\">\n",
              "      <th></th>\n",
              "      <th>Unnamed: 0</th>\n",
              "      <th>cut</th>\n",
              "      <th>color</th>\n",
              "      <th>clarity</th>\n",
              "      <th>carat_weight</th>\n",
              "      <th>cut_quality</th>\n",
              "      <th>lab</th>\n",
              "      <th>symmetry</th>\n",
              "      <th>polish</th>\n",
              "      <th>eye_clean</th>\n",
              "      <th>depth_percent</th>\n",
              "      <th>table_percent</th>\n",
              "      <th>meas_length</th>\n",
              "      <th>meas_width</th>\n",
              "      <th>meas_depth</th>\n",
              "      <th>girdle_min</th>\n",
              "      <th>girdle_max</th>\n",
              "      <th>total_sales_price</th>\n",
              "    </tr>\n",
              "  </thead>\n",
              "  <tbody>\n",
              "    <tr>\n",
              "      <th>0</th>\n",
              "      <td>0</td>\n",
              "      <td>Round</td>\n",
              "      <td>E</td>\n",
              "      <td>VVS2</td>\n",
              "      <td>0.09</td>\n",
              "      <td>Excellent</td>\n",
              "      <td>IGI</td>\n",
              "      <td>Very Good</td>\n",
              "      <td>Very Good</td>\n",
              "      <td>unknown</td>\n",
              "      <td>62.7</td>\n",
              "      <td>59.0</td>\n",
              "      <td>2.85</td>\n",
              "      <td>2.87</td>\n",
              "      <td>1.79</td>\n",
              "      <td>M</td>\n",
              "      <td>M</td>\n",
              "      <td>200</td>\n",
              "    </tr>\n",
              "    <tr>\n",
              "      <th>6</th>\n",
              "      <td>6</td>\n",
              "      <td>Round</td>\n",
              "      <td>E</td>\n",
              "      <td>VVS2</td>\n",
              "      <td>0.09</td>\n",
              "      <td>Very Good</td>\n",
              "      <td>IGI</td>\n",
              "      <td>Very Good</td>\n",
              "      <td>Very Good</td>\n",
              "      <td>unknown</td>\n",
              "      <td>64.0</td>\n",
              "      <td>57.0</td>\n",
              "      <td>2.85</td>\n",
              "      <td>2.88</td>\n",
              "      <td>1.84</td>\n",
              "      <td>STK</td>\n",
              "      <td>STK</td>\n",
              "      <td>200</td>\n",
              "    </tr>\n",
              "    <tr>\n",
              "      <th>12</th>\n",
              "      <td>12</td>\n",
              "      <td>Round</td>\n",
              "      <td>E</td>\n",
              "      <td>VVS2</td>\n",
              "      <td>0.09</td>\n",
              "      <td>Very Good</td>\n",
              "      <td>IGI</td>\n",
              "      <td>Very Good</td>\n",
              "      <td>Very Good</td>\n",
              "      <td>unknown</td>\n",
              "      <td>61.8</td>\n",
              "      <td>58.5</td>\n",
              "      <td>2.85</td>\n",
              "      <td>2.89</td>\n",
              "      <td>1.77</td>\n",
              "      <td>STK</td>\n",
              "      <td>TK</td>\n",
              "      <td>200</td>\n",
              "    </tr>\n",
              "    <tr>\n",
              "      <th>18</th>\n",
              "      <td>18</td>\n",
              "      <td>Round</td>\n",
              "      <td>E</td>\n",
              "      <td>VVS2</td>\n",
              "      <td>0.09</td>\n",
              "      <td>Excellent</td>\n",
              "      <td>IGI</td>\n",
              "      <td>Very Good</td>\n",
              "      <td>Very Good</td>\n",
              "      <td>unknown</td>\n",
              "      <td>61.0</td>\n",
              "      <td>60.0</td>\n",
              "      <td>2.91</td>\n",
              "      <td>2.92</td>\n",
              "      <td>1.78</td>\n",
              "      <td>M</td>\n",
              "      <td>M</td>\n",
              "      <td>200</td>\n",
              "    </tr>\n",
              "    <tr>\n",
              "      <th>24</th>\n",
              "      <td>24</td>\n",
              "      <td>Round</td>\n",
              "      <td>L</td>\n",
              "      <td>I1</td>\n",
              "      <td>0.34</td>\n",
              "      <td>Excellent</td>\n",
              "      <td>IGI</td>\n",
              "      <td>Excellent</td>\n",
              "      <td>Excellent</td>\n",
              "      <td>unknown</td>\n",
              "      <td>0.0</td>\n",
              "      <td>0.0</td>\n",
              "      <td>0.00</td>\n",
              "      <td>0.00</td>\n",
              "      <td>0.00</td>\n",
              "      <td>unknown</td>\n",
              "      <td>unknown</td>\n",
              "      <td>204</td>\n",
              "    </tr>\n",
              "    <tr>\n",
              "      <th>...</th>\n",
              "      <td>...</td>\n",
              "      <td>...</td>\n",
              "      <td>...</td>\n",
              "      <td>...</td>\n",
              "      <td>...</td>\n",
              "      <td>...</td>\n",
              "      <td>...</td>\n",
              "      <td>...</td>\n",
              "      <td>...</td>\n",
              "      <td>...</td>\n",
              "      <td>...</td>\n",
              "      <td>...</td>\n",
              "      <td>...</td>\n",
              "      <td>...</td>\n",
              "      <td>...</td>\n",
              "      <td>...</td>\n",
              "      <td>...</td>\n",
              "      <td>...</td>\n",
              "    </tr>\n",
              "    <tr>\n",
              "      <th>219678</th>\n",
              "      <td>219679</td>\n",
              "      <td>Round</td>\n",
              "      <td>G</td>\n",
              "      <td>VS1</td>\n",
              "      <td>10.23</td>\n",
              "      <td>Excellent</td>\n",
              "      <td>GIA</td>\n",
              "      <td>Excellent</td>\n",
              "      <td>Excellent</td>\n",
              "      <td>unknown</td>\n",
              "      <td>62.7</td>\n",
              "      <td>55.0</td>\n",
              "      <td>13.82</td>\n",
              "      <td>13.92</td>\n",
              "      <td>8.69</td>\n",
              "      <td>TN</td>\n",
              "      <td>M</td>\n",
              "      <td>859320</td>\n",
              "    </tr>\n",
              "    <tr>\n",
              "      <th>219684</th>\n",
              "      <td>219685</td>\n",
              "      <td>Radiant</td>\n",
              "      <td>unknown</td>\n",
              "      <td>I1</td>\n",
              "      <td>0.89</td>\n",
              "      <td>unknown</td>\n",
              "      <td>GIA</td>\n",
              "      <td>Good</td>\n",
              "      <td>Good</td>\n",
              "      <td>unknown</td>\n",
              "      <td>63.8</td>\n",
              "      <td>57.0</td>\n",
              "      <td>6.44</td>\n",
              "      <td>4.96</td>\n",
              "      <td>3.16</td>\n",
              "      <td>TK</td>\n",
              "      <td>VTK</td>\n",
              "      <td>982560</td>\n",
              "    </tr>\n",
              "    <tr>\n",
              "      <th>219690</th>\n",
              "      <td>219691</td>\n",
              "      <td>Round</td>\n",
              "      <td>D</td>\n",
              "      <td>VVS2</td>\n",
              "      <td>10.10</td>\n",
              "      <td>Excellent</td>\n",
              "      <td>GIA</td>\n",
              "      <td>Excellent</td>\n",
              "      <td>Excellent</td>\n",
              "      <td>unknown</td>\n",
              "      <td>59.4</td>\n",
              "      <td>59.0</td>\n",
              "      <td>14.07</td>\n",
              "      <td>14.15</td>\n",
              "      <td>8.39</td>\n",
              "      <td>M</td>\n",
              "      <td>STK</td>\n",
              "      <td>1040739</td>\n",
              "    </tr>\n",
              "    <tr>\n",
              "      <th>219696</th>\n",
              "      <td>219697</td>\n",
              "      <td>Oval</td>\n",
              "      <td>H</td>\n",
              "      <td>VS2</td>\n",
              "      <td>18.88</td>\n",
              "      <td>unknown</td>\n",
              "      <td>GIA</td>\n",
              "      <td>Excellent</td>\n",
              "      <td>Excellent</td>\n",
              "      <td>unknown</td>\n",
              "      <td>57.1</td>\n",
              "      <td>55.0</td>\n",
              "      <td>21.34</td>\n",
              "      <td>15.23</td>\n",
              "      <td>8.69</td>\n",
              "      <td>TN</td>\n",
              "      <td>STK</td>\n",
              "      <td>1132347</td>\n",
              "    </tr>\n",
              "    <tr>\n",
              "      <th>219702</th>\n",
              "      <td>219703</td>\n",
              "      <td>Pear</td>\n",
              "      <td>unknown</td>\n",
              "      <td>VVS2</td>\n",
              "      <td>10.03</td>\n",
              "      <td>unknown</td>\n",
              "      <td>GIA</td>\n",
              "      <td>Very Good</td>\n",
              "      <td>Excellent</td>\n",
              "      <td>unknown</td>\n",
              "      <td>66.7</td>\n",
              "      <td>65.0</td>\n",
              "      <td>15.61</td>\n",
              "      <td>11.09</td>\n",
              "      <td>7.39</td>\n",
              "      <td>unknown</td>\n",
              "      <td>unknown</td>\n",
              "      <td>1449881</td>\n",
              "    </tr>\n",
              "  </tbody>\n",
              "</table>\n",
              "<p>36618 rows × 18 columns</p>\n",
              "</div>\n",
              "      <button class=\"colab-df-convert\" onclick=\"convertToInteractive('df-1db63daf-19ed-4f3b-9a7d-757565e9fdb2')\"\n",
              "              title=\"Convert this dataframe to an interactive table.\"\n",
              "              style=\"display:none;\">\n",
              "        \n",
              "  <svg xmlns=\"http://www.w3.org/2000/svg\" height=\"24px\"viewBox=\"0 0 24 24\"\n",
              "       width=\"24px\">\n",
              "    <path d=\"M0 0h24v24H0V0z\" fill=\"none\"/>\n",
              "    <path d=\"M18.56 5.44l.94 2.06.94-2.06 2.06-.94-2.06-.94-.94-2.06-.94 2.06-2.06.94zm-11 1L8.5 8.5l.94-2.06 2.06-.94-2.06-.94L8.5 2.5l-.94 2.06-2.06.94zm10 10l.94 2.06.94-2.06 2.06-.94-2.06-.94-.94-2.06-.94 2.06-2.06.94z\"/><path d=\"M17.41 7.96l-1.37-1.37c-.4-.4-.92-.59-1.43-.59-.52 0-1.04.2-1.43.59L10.3 9.45l-7.72 7.72c-.78.78-.78 2.05 0 2.83L4 21.41c.39.39.9.59 1.41.59.51 0 1.02-.2 1.41-.59l7.78-7.78 2.81-2.81c.8-.78.8-2.07 0-2.86zM5.41 20L4 18.59l7.72-7.72 1.47 1.35L5.41 20z\"/>\n",
              "  </svg>\n",
              "      </button>\n",
              "      \n",
              "  <style>\n",
              "    .colab-df-container {\n",
              "      display:flex;\n",
              "      flex-wrap:wrap;\n",
              "      gap: 12px;\n",
              "    }\n",
              "\n",
              "    .colab-df-convert {\n",
              "      background-color: #E8F0FE;\n",
              "      border: none;\n",
              "      border-radius: 50%;\n",
              "      cursor: pointer;\n",
              "      display: none;\n",
              "      fill: #1967D2;\n",
              "      height: 32px;\n",
              "      padding: 0 0 0 0;\n",
              "      width: 32px;\n",
              "    }\n",
              "\n",
              "    .colab-df-convert:hover {\n",
              "      background-color: #E2EBFA;\n",
              "      box-shadow: 0px 1px 2px rgba(60, 64, 67, 0.3), 0px 1px 3px 1px rgba(60, 64, 67, 0.15);\n",
              "      fill: #174EA6;\n",
              "    }\n",
              "\n",
              "    [theme=dark] .colab-df-convert {\n",
              "      background-color: #3B4455;\n",
              "      fill: #D2E3FC;\n",
              "    }\n",
              "\n",
              "    [theme=dark] .colab-df-convert:hover {\n",
              "      background-color: #434B5C;\n",
              "      box-shadow: 0px 1px 3px 1px rgba(0, 0, 0, 0.15);\n",
              "      filter: drop-shadow(0px 1px 2px rgba(0, 0, 0, 0.3));\n",
              "      fill: #FFFFFF;\n",
              "    }\n",
              "  </style>\n",
              "\n",
              "      <script>\n",
              "        const buttonEl =\n",
              "          document.querySelector('#df-1db63daf-19ed-4f3b-9a7d-757565e9fdb2 button.colab-df-convert');\n",
              "        buttonEl.style.display =\n",
              "          google.colab.kernel.accessAllowed ? 'block' : 'none';\n",
              "\n",
              "        async function convertToInteractive(key) {\n",
              "          const element = document.querySelector('#df-1db63daf-19ed-4f3b-9a7d-757565e9fdb2');\n",
              "          const dataTable =\n",
              "            await google.colab.kernel.invokeFunction('convertToInteractive',\n",
              "                                                     [key], {});\n",
              "          if (!dataTable) return;\n",
              "\n",
              "          const docLinkHtml = 'Like what you see? Visit the ' +\n",
              "            '<a target=\"_blank\" href=https://colab.research.google.com/notebooks/data_table.ipynb>data table notebook</a>'\n",
              "            + ' to learn more about interactive tables.';\n",
              "          element.innerHTML = '';\n",
              "          dataTable['output_type'] = 'display_data';\n",
              "          await google.colab.output.renderOutput(dataTable, element);\n",
              "          const docLink = document.createElement('div');\n",
              "          docLink.innerHTML = docLinkHtml;\n",
              "          element.appendChild(docLink);\n",
              "        }\n",
              "      </script>\n",
              "    </div>\n",
              "  </div>\n",
              "  "
            ]
          },
          "metadata": {},
          "execution_count": 115
        }
      ]
    },
    {
      "cell_type": "markdown",
      "source": [
        "(1 балл) Выберете из датасета только категорильные признаки и выведете датасет:"
      ],
      "metadata": {
        "id": "u94LL979x_bV"
      }
    },
    {
      "cell_type": "code",
      "source": [
        "categorical_cols = diamonds.select_dtypes(include=['object']).columns.tolist()\n",
        "categorical_cols"
      ],
      "metadata": {
        "id": "2_LBNDWXyOOl",
        "colab": {
          "base_uri": "https://localhost:8080/"
        },
        "outputId": "b28a5889-3cf7-40ac-c1b0-283da19c490a"
      },
      "execution_count": 118,
      "outputs": [
        {
          "output_type": "execute_result",
          "data": {
            "text/plain": [
              "['cut',\n",
              " 'color',\n",
              " 'clarity',\n",
              " 'cut_quality',\n",
              " 'lab',\n",
              " 'symmetry',\n",
              " 'polish',\n",
              " 'eye_clean',\n",
              " 'girdle_min',\n",
              " 'girdle_max']"
            ]
          },
          "metadata": {},
          "execution_count": 118
        }
      ]
    },
    {
      "cell_type": "markdown",
      "source": [
        ">**Примечание**\n",
        ">\n",
        ">Данный датасет можно использовать для задания 3 (с использованием `sklearn`)"
      ],
      "metadata": {
        "id": "QANg8ziJkHGM"
      }
    },
    {
      "cell_type": "markdown",
      "source": [
        "\\(0.5 балла) Выберете столбец с данными о цене бриллиантов и домножите его на тот столбец, только транспонированный, и выведите полученную матрицу:"
      ],
      "metadata": {
        "id": "mV9jLhspyOgz"
      }
    },
    {
      "cell_type": "code",
      "source": [
        "diamonds['total_sales_price'] * diamonds['total_sales_price'] "
      ],
      "metadata": {
        "id": "LawjtnoIymFu",
        "colab": {
          "base_uri": "https://localhost:8080/"
        },
        "outputId": "93844b50-e69f-43d6-8f7a-be91bd0aa1bd"
      },
      "execution_count": 119,
      "outputs": [
        {
          "output_type": "execute_result",
          "data": {
            "text/plain": [
              "0                 40000\n",
              "1                 40000\n",
              "2                 40000\n",
              "3                 40000\n",
              "4                 40000\n",
              "              ...      \n",
              "219698    1465775118864\n",
              "219699    1670556250000\n",
              "219700    1730529726016\n",
              "219701    1822500000000\n",
              "219702    2102154914161\n",
              "Name: total_sales_price, Length: 219703, dtype: int64"
            ]
          },
          "metadata": {},
          "execution_count": 119
        }
      ]
    },
    {
      "cell_type": "markdown",
      "source": [
        "### Построение графиков"
      ],
      "metadata": {
        "id": "Pz02uapbkbGk"
      }
    },
    {
      "cell_type": "markdown",
      "source": [
        "**Требования к графику:**\n",
        "\n",
        "1.   График должен быть подписан\n",
        "2.   Оси должны быть подписаны\n",
        "3.   Должна быть легенда графика\n",
        "4.   График должен быть информативным (желательно без сильных выбросов)\n",
        "\n",
        "**Все надписи на русском языке!**"
      ],
      "metadata": {
        "id": "_zhww-rd-c5c"
      }
    },
    {
      "cell_type": "markdown",
      "source": [
        ">**Примечание**\n",
        ">\n",
        ">График необходимо строить для очищенных данных - в них не должно быть пропусков по осям, по которым строите график. При этом **не перезатирайте** имеющийся датафрейм!"
      ],
      "metadata": {
        "id": "mfebCvk0k2mo"
      }
    },
    {
      "cell_type": "markdown",
      "source": [
        "(2 балла) Постройте график `цвет бриллианта - стоимость`:"
      ],
      "metadata": {
        "id": "4R9Rwxdq-l21"
      }
    },
    {
      "cell_type": "code",
      "source": [
        "# your code here"
      ],
      "metadata": {
        "id": "Fo6I0j5o-vQh"
      },
      "execution_count": null,
      "outputs": []
    },
    {
      "cell_type": "markdown",
      "source": [
        "(2 балла) Постройте график `лабараторная оценка - кол-во бриллиантов`:"
      ],
      "metadata": {
        "id": "W_UgFji5-vWx"
      }
    },
    {
      "cell_type": "code",
      "source": [
        "# your code here"
      ],
      "metadata": {
        "id": "nyT8-TRb_c24"
      },
      "execution_count": null,
      "outputs": []
    },
    {
      "cell_type": "markdown",
      "source": [
        "(2 балла) Постройте график `вес бриллианта - стоимость`:"
      ],
      "metadata": {
        "id": "AgsMclnJ_c9H"
      }
    },
    {
      "cell_type": "code",
      "source": [
        "# your code here"
      ],
      "metadata": {
        "id": "tn-x3pwmANQe"
      },
      "execution_count": null,
      "outputs": []
    },
    {
      "cell_type": "markdown",
      "source": [
        "(2 балла) Постройте график `система оценки GIA Cut - кол-во бриллиантов`:"
      ],
      "metadata": {
        "id": "0LVC1KfEAwuw"
      }
    },
    {
      "cell_type": "code",
      "source": [
        "# your code here"
      ],
      "metadata": {
        "id": "IeuLooSIA232"
      },
      "execution_count": null,
      "outputs": []
    },
    {
      "cell_type": "markdown",
      "source": [
        "(2 балла) **Сделайте выводы по построенным графикам:**"
      ],
      "metadata": {
        "id": "DRaaNLidFDhL"
      }
    },
    {
      "cell_type": "markdown",
      "source": [
        ">*Подсказка для маленьких: Что вы можете сказать о графиках полученных выше для данного датасета?*"
      ],
      "metadata": {
        "id": "GSuWCfdGLtn0"
      }
    },
    {
      "cell_type": "markdown",
      "source": [
        "Ваши выводы здесь :)"
      ],
      "metadata": {
        "id": "iNdjR_X9lSt1"
      }
    },
    {
      "cell_type": "markdown",
      "source": [
        "## Задание 3. Модель - 30 баллов"
      ],
      "metadata": {
        "id": "JKYRkX_rBxxu"
      }
    },
    {
      "cell_type": "markdown",
      "source": [
        "В данном задании вам предстоит построить классифицирующую модель размер алмаза и его стоимости, а затем оценить полученную модель."
      ],
      "metadata": {
        "id": "EJO9SwpII_uJ"
      }
    },
    {
      "cell_type": "markdown",
      "source": [
        ">**Примечание**\n",
        ">\n",
        ">Данная модель не претендует на самый верный индикатор стоимости алмаза, ведь мы не учитываем ничего больше чем стоимость алмаза. Исключительно для образовательных целей :)"
      ],
      "metadata": {
        "id": "_8sA1qlRllrk"
      }
    },
    {
      "cell_type": "markdown",
      "source": [
        "Для построения модели нам понадобится 4 столбца, а именно: \n",
        "- `meas_length`\n",
        "- `meas_width`\n",
        "- `meas_depth`\n",
        "- `total_sales_price`\n",
        "\n",
        "От остальных столбцов можно избавиться."
      ],
      "metadata": {
        "id": "e78rVEGFJrVN"
      }
    },
    {
      "cell_type": "markdown",
      "source": [
        "(1 балл) Создайте новый датасет и выведите его первые 10 строк: "
      ],
      "metadata": {
        "id": "HhpeXcR1l-Ag"
      }
    },
    {
      "cell_type": "code",
      "source": [
        "diamonds = pd.read_csv(\"diamonds.csv\")\n",
        "diamonds[:10]"
      ],
      "metadata": {
        "id": "K87VXeCxKFrU",
        "colab": {
          "base_uri": "https://localhost:8080/",
          "height": 630
        },
        "outputId": "8942a10b-8ac5-4c1b-a9e7-52e9226738c5"
      },
      "execution_count": 123,
      "outputs": [
        {
          "output_type": "execute_result",
          "data": {
            "text/plain": [
              "   Unnamed: 0    cut color clarity  carat_weight cut_quality  lab   symmetry  \\\n",
              "0           0  Round     E    VVS2          0.09   Excellent  IGI  Very Good   \n",
              "1           1  Round     E    VVS2          0.09   Very Good  IGI  Very Good   \n",
              "2           2  Round     E    VVS2          0.09   Excellent  IGI  Very Good   \n",
              "3           3  Round     E    VVS2          0.09   Excellent  IGI  Very Good   \n",
              "4           4  Round     E    VVS2          0.09   Very Good  IGI  Very Good   \n",
              "5           5  Round     E    VVS2          0.09   Very Good  IGI  Very Good   \n",
              "6           6  Round     E    VVS2          0.09   Very Good  IGI  Very Good   \n",
              "7           7  Round     E    VVS2          0.09   Excellent  IGI  Very Good   \n",
              "8           8  Round     E    VVS2          0.09   Very Good  IGI  Very Good   \n",
              "9           9  Round     E    VVS2          0.09   Excellent  IGI  Very Good   \n",
              "\n",
              "      polish eye_clean  ... meas_depth girdle_min  girdle_max  fluor_color  \\\n",
              "0  Very Good   unknown  ...       1.79          M           M      unknown   \n",
              "1  Very Good   unknown  ...       1.78        STK         STK      unknown   \n",
              "2  Very Good   unknown  ...       1.77         TN           M      unknown   \n",
              "3  Very Good   unknown  ...       1.78          M         STK      unknown   \n",
              "4  Excellent   unknown  ...       1.82        STK         STK      unknown   \n",
              "5  Very Good   unknown  ...       1.81         TN           M      unknown   \n",
              "6  Very Good   unknown  ...       1.84        STK         STK      unknown   \n",
              "7  Very Good   unknown  ...       1.78          M           M      unknown   \n",
              "8  Very Good   unknown  ...       1.85        STK          TK      unknown   \n",
              "9  Very Good   unknown  ...       1.80          M           M      unknown   \n",
              "\n",
              "   fluor_intensity  fancy_color_dominant_color  fancy_color_secondary_color  \\\n",
              "0             None                     unknown                      unknown   \n",
              "1             None                     unknown                      unknown   \n",
              "2             None                     unknown                      unknown   \n",
              "3             None                     unknown                      unknown   \n",
              "4             None                     unknown                      unknown   \n",
              "5             None                     unknown                      unknown   \n",
              "6             None                     unknown                      unknown   \n",
              "7             None                     unknown                      unknown   \n",
              "8             None                     unknown                      unknown   \n",
              "9             None                     unknown                      unknown   \n",
              "\n",
              "  fancy_color_overtone fancy_color_intensity total_sales_price  \n",
              "0              unknown               unknown               200  \n",
              "1              unknown               unknown               200  \n",
              "2              unknown               unknown               200  \n",
              "3              unknown               unknown               200  \n",
              "4              unknown               unknown               200  \n",
              "5              unknown               unknown               200  \n",
              "6              unknown               unknown               200  \n",
              "7              unknown               unknown               200  \n",
              "8              unknown               unknown               200  \n",
              "9              unknown               unknown               200  \n",
              "\n",
              "[10 rows x 26 columns]"
            ],
            "text/html": [
              "\n",
              "  <div id=\"df-71e2220f-57ea-480b-8209-f955364a3e38\">\n",
              "    <div class=\"colab-df-container\">\n",
              "      <div>\n",
              "<style scoped>\n",
              "    .dataframe tbody tr th:only-of-type {\n",
              "        vertical-align: middle;\n",
              "    }\n",
              "\n",
              "    .dataframe tbody tr th {\n",
              "        vertical-align: top;\n",
              "    }\n",
              "\n",
              "    .dataframe thead th {\n",
              "        text-align: right;\n",
              "    }\n",
              "</style>\n",
              "<table border=\"1\" class=\"dataframe\">\n",
              "  <thead>\n",
              "    <tr style=\"text-align: right;\">\n",
              "      <th></th>\n",
              "      <th>Unnamed: 0</th>\n",
              "      <th>cut</th>\n",
              "      <th>color</th>\n",
              "      <th>clarity</th>\n",
              "      <th>carat_weight</th>\n",
              "      <th>cut_quality</th>\n",
              "      <th>lab</th>\n",
              "      <th>symmetry</th>\n",
              "      <th>polish</th>\n",
              "      <th>eye_clean</th>\n",
              "      <th>...</th>\n",
              "      <th>meas_depth</th>\n",
              "      <th>girdle_min</th>\n",
              "      <th>girdle_max</th>\n",
              "      <th>fluor_color</th>\n",
              "      <th>fluor_intensity</th>\n",
              "      <th>fancy_color_dominant_color</th>\n",
              "      <th>fancy_color_secondary_color</th>\n",
              "      <th>fancy_color_overtone</th>\n",
              "      <th>fancy_color_intensity</th>\n",
              "      <th>total_sales_price</th>\n",
              "    </tr>\n",
              "  </thead>\n",
              "  <tbody>\n",
              "    <tr>\n",
              "      <th>0</th>\n",
              "      <td>0</td>\n",
              "      <td>Round</td>\n",
              "      <td>E</td>\n",
              "      <td>VVS2</td>\n",
              "      <td>0.09</td>\n",
              "      <td>Excellent</td>\n",
              "      <td>IGI</td>\n",
              "      <td>Very Good</td>\n",
              "      <td>Very Good</td>\n",
              "      <td>unknown</td>\n",
              "      <td>...</td>\n",
              "      <td>1.79</td>\n",
              "      <td>M</td>\n",
              "      <td>M</td>\n",
              "      <td>unknown</td>\n",
              "      <td>None</td>\n",
              "      <td>unknown</td>\n",
              "      <td>unknown</td>\n",
              "      <td>unknown</td>\n",
              "      <td>unknown</td>\n",
              "      <td>200</td>\n",
              "    </tr>\n",
              "    <tr>\n",
              "      <th>1</th>\n",
              "      <td>1</td>\n",
              "      <td>Round</td>\n",
              "      <td>E</td>\n",
              "      <td>VVS2</td>\n",
              "      <td>0.09</td>\n",
              "      <td>Very Good</td>\n",
              "      <td>IGI</td>\n",
              "      <td>Very Good</td>\n",
              "      <td>Very Good</td>\n",
              "      <td>unknown</td>\n",
              "      <td>...</td>\n",
              "      <td>1.78</td>\n",
              "      <td>STK</td>\n",
              "      <td>STK</td>\n",
              "      <td>unknown</td>\n",
              "      <td>None</td>\n",
              "      <td>unknown</td>\n",
              "      <td>unknown</td>\n",
              "      <td>unknown</td>\n",
              "      <td>unknown</td>\n",
              "      <td>200</td>\n",
              "    </tr>\n",
              "    <tr>\n",
              "      <th>2</th>\n",
              "      <td>2</td>\n",
              "      <td>Round</td>\n",
              "      <td>E</td>\n",
              "      <td>VVS2</td>\n",
              "      <td>0.09</td>\n",
              "      <td>Excellent</td>\n",
              "      <td>IGI</td>\n",
              "      <td>Very Good</td>\n",
              "      <td>Very Good</td>\n",
              "      <td>unknown</td>\n",
              "      <td>...</td>\n",
              "      <td>1.77</td>\n",
              "      <td>TN</td>\n",
              "      <td>M</td>\n",
              "      <td>unknown</td>\n",
              "      <td>None</td>\n",
              "      <td>unknown</td>\n",
              "      <td>unknown</td>\n",
              "      <td>unknown</td>\n",
              "      <td>unknown</td>\n",
              "      <td>200</td>\n",
              "    </tr>\n",
              "    <tr>\n",
              "      <th>3</th>\n",
              "      <td>3</td>\n",
              "      <td>Round</td>\n",
              "      <td>E</td>\n",
              "      <td>VVS2</td>\n",
              "      <td>0.09</td>\n",
              "      <td>Excellent</td>\n",
              "      <td>IGI</td>\n",
              "      <td>Very Good</td>\n",
              "      <td>Very Good</td>\n",
              "      <td>unknown</td>\n",
              "      <td>...</td>\n",
              "      <td>1.78</td>\n",
              "      <td>M</td>\n",
              "      <td>STK</td>\n",
              "      <td>unknown</td>\n",
              "      <td>None</td>\n",
              "      <td>unknown</td>\n",
              "      <td>unknown</td>\n",
              "      <td>unknown</td>\n",
              "      <td>unknown</td>\n",
              "      <td>200</td>\n",
              "    </tr>\n",
              "    <tr>\n",
              "      <th>4</th>\n",
              "      <td>4</td>\n",
              "      <td>Round</td>\n",
              "      <td>E</td>\n",
              "      <td>VVS2</td>\n",
              "      <td>0.09</td>\n",
              "      <td>Very Good</td>\n",
              "      <td>IGI</td>\n",
              "      <td>Very Good</td>\n",
              "      <td>Excellent</td>\n",
              "      <td>unknown</td>\n",
              "      <td>...</td>\n",
              "      <td>1.82</td>\n",
              "      <td>STK</td>\n",
              "      <td>STK</td>\n",
              "      <td>unknown</td>\n",
              "      <td>None</td>\n",
              "      <td>unknown</td>\n",
              "      <td>unknown</td>\n",
              "      <td>unknown</td>\n",
              "      <td>unknown</td>\n",
              "      <td>200</td>\n",
              "    </tr>\n",
              "    <tr>\n",
              "      <th>5</th>\n",
              "      <td>5</td>\n",
              "      <td>Round</td>\n",
              "      <td>E</td>\n",
              "      <td>VVS2</td>\n",
              "      <td>0.09</td>\n",
              "      <td>Very Good</td>\n",
              "      <td>IGI</td>\n",
              "      <td>Very Good</td>\n",
              "      <td>Very Good</td>\n",
              "      <td>unknown</td>\n",
              "      <td>...</td>\n",
              "      <td>1.81</td>\n",
              "      <td>TN</td>\n",
              "      <td>M</td>\n",
              "      <td>unknown</td>\n",
              "      <td>None</td>\n",
              "      <td>unknown</td>\n",
              "      <td>unknown</td>\n",
              "      <td>unknown</td>\n",
              "      <td>unknown</td>\n",
              "      <td>200</td>\n",
              "    </tr>\n",
              "    <tr>\n",
              "      <th>6</th>\n",
              "      <td>6</td>\n",
              "      <td>Round</td>\n",
              "      <td>E</td>\n",
              "      <td>VVS2</td>\n",
              "      <td>0.09</td>\n",
              "      <td>Very Good</td>\n",
              "      <td>IGI</td>\n",
              "      <td>Very Good</td>\n",
              "      <td>Very Good</td>\n",
              "      <td>unknown</td>\n",
              "      <td>...</td>\n",
              "      <td>1.84</td>\n",
              "      <td>STK</td>\n",
              "      <td>STK</td>\n",
              "      <td>unknown</td>\n",
              "      <td>None</td>\n",
              "      <td>unknown</td>\n",
              "      <td>unknown</td>\n",
              "      <td>unknown</td>\n",
              "      <td>unknown</td>\n",
              "      <td>200</td>\n",
              "    </tr>\n",
              "    <tr>\n",
              "      <th>7</th>\n",
              "      <td>7</td>\n",
              "      <td>Round</td>\n",
              "      <td>E</td>\n",
              "      <td>VVS2</td>\n",
              "      <td>0.09</td>\n",
              "      <td>Excellent</td>\n",
              "      <td>IGI</td>\n",
              "      <td>Very Good</td>\n",
              "      <td>Very Good</td>\n",
              "      <td>unknown</td>\n",
              "      <td>...</td>\n",
              "      <td>1.78</td>\n",
              "      <td>M</td>\n",
              "      <td>M</td>\n",
              "      <td>unknown</td>\n",
              "      <td>None</td>\n",
              "      <td>unknown</td>\n",
              "      <td>unknown</td>\n",
              "      <td>unknown</td>\n",
              "      <td>unknown</td>\n",
              "      <td>200</td>\n",
              "    </tr>\n",
              "    <tr>\n",
              "      <th>8</th>\n",
              "      <td>8</td>\n",
              "      <td>Round</td>\n",
              "      <td>E</td>\n",
              "      <td>VVS2</td>\n",
              "      <td>0.09</td>\n",
              "      <td>Very Good</td>\n",
              "      <td>IGI</td>\n",
              "      <td>Very Good</td>\n",
              "      <td>Very Good</td>\n",
              "      <td>unknown</td>\n",
              "      <td>...</td>\n",
              "      <td>1.85</td>\n",
              "      <td>STK</td>\n",
              "      <td>TK</td>\n",
              "      <td>unknown</td>\n",
              "      <td>None</td>\n",
              "      <td>unknown</td>\n",
              "      <td>unknown</td>\n",
              "      <td>unknown</td>\n",
              "      <td>unknown</td>\n",
              "      <td>200</td>\n",
              "    </tr>\n",
              "    <tr>\n",
              "      <th>9</th>\n",
              "      <td>9</td>\n",
              "      <td>Round</td>\n",
              "      <td>E</td>\n",
              "      <td>VVS2</td>\n",
              "      <td>0.09</td>\n",
              "      <td>Excellent</td>\n",
              "      <td>IGI</td>\n",
              "      <td>Very Good</td>\n",
              "      <td>Very Good</td>\n",
              "      <td>unknown</td>\n",
              "      <td>...</td>\n",
              "      <td>1.80</td>\n",
              "      <td>M</td>\n",
              "      <td>M</td>\n",
              "      <td>unknown</td>\n",
              "      <td>None</td>\n",
              "      <td>unknown</td>\n",
              "      <td>unknown</td>\n",
              "      <td>unknown</td>\n",
              "      <td>unknown</td>\n",
              "      <td>200</td>\n",
              "    </tr>\n",
              "  </tbody>\n",
              "</table>\n",
              "<p>10 rows × 26 columns</p>\n",
              "</div>\n",
              "      <button class=\"colab-df-convert\" onclick=\"convertToInteractive('df-71e2220f-57ea-480b-8209-f955364a3e38')\"\n",
              "              title=\"Convert this dataframe to an interactive table.\"\n",
              "              style=\"display:none;\">\n",
              "        \n",
              "  <svg xmlns=\"http://www.w3.org/2000/svg\" height=\"24px\"viewBox=\"0 0 24 24\"\n",
              "       width=\"24px\">\n",
              "    <path d=\"M0 0h24v24H0V0z\" fill=\"none\"/>\n",
              "    <path d=\"M18.56 5.44l.94 2.06.94-2.06 2.06-.94-2.06-.94-.94-2.06-.94 2.06-2.06.94zm-11 1L8.5 8.5l.94-2.06 2.06-.94-2.06-.94L8.5 2.5l-.94 2.06-2.06.94zm10 10l.94 2.06.94-2.06 2.06-.94-2.06-.94-.94-2.06-.94 2.06-2.06.94z\"/><path d=\"M17.41 7.96l-1.37-1.37c-.4-.4-.92-.59-1.43-.59-.52 0-1.04.2-1.43.59L10.3 9.45l-7.72 7.72c-.78.78-.78 2.05 0 2.83L4 21.41c.39.39.9.59 1.41.59.51 0 1.02-.2 1.41-.59l7.78-7.78 2.81-2.81c.8-.78.8-2.07 0-2.86zM5.41 20L4 18.59l7.72-7.72 1.47 1.35L5.41 20z\"/>\n",
              "  </svg>\n",
              "      </button>\n",
              "      \n",
              "  <style>\n",
              "    .colab-df-container {\n",
              "      display:flex;\n",
              "      flex-wrap:wrap;\n",
              "      gap: 12px;\n",
              "    }\n",
              "\n",
              "    .colab-df-convert {\n",
              "      background-color: #E8F0FE;\n",
              "      border: none;\n",
              "      border-radius: 50%;\n",
              "      cursor: pointer;\n",
              "      display: none;\n",
              "      fill: #1967D2;\n",
              "      height: 32px;\n",
              "      padding: 0 0 0 0;\n",
              "      width: 32px;\n",
              "    }\n",
              "\n",
              "    .colab-df-convert:hover {\n",
              "      background-color: #E2EBFA;\n",
              "      box-shadow: 0px 1px 2px rgba(60, 64, 67, 0.3), 0px 1px 3px 1px rgba(60, 64, 67, 0.15);\n",
              "      fill: #174EA6;\n",
              "    }\n",
              "\n",
              "    [theme=dark] .colab-df-convert {\n",
              "      background-color: #3B4455;\n",
              "      fill: #D2E3FC;\n",
              "    }\n",
              "\n",
              "    [theme=dark] .colab-df-convert:hover {\n",
              "      background-color: #434B5C;\n",
              "      box-shadow: 0px 1px 3px 1px rgba(0, 0, 0, 0.15);\n",
              "      filter: drop-shadow(0px 1px 2px rgba(0, 0, 0, 0.3));\n",
              "      fill: #FFFFFF;\n",
              "    }\n",
              "  </style>\n",
              "\n",
              "      <script>\n",
              "        const buttonEl =\n",
              "          document.querySelector('#df-71e2220f-57ea-480b-8209-f955364a3e38 button.colab-df-convert');\n",
              "        buttonEl.style.display =\n",
              "          google.colab.kernel.accessAllowed ? 'block' : 'none';\n",
              "\n",
              "        async function convertToInteractive(key) {\n",
              "          const element = document.querySelector('#df-71e2220f-57ea-480b-8209-f955364a3e38');\n",
              "          const dataTable =\n",
              "            await google.colab.kernel.invokeFunction('convertToInteractive',\n",
              "                                                     [key], {});\n",
              "          if (!dataTable) return;\n",
              "\n",
              "          const docLinkHtml = 'Like what you see? Visit the ' +\n",
              "            '<a target=\"_blank\" href=https://colab.research.google.com/notebooks/data_table.ipynb>data table notebook</a>'\n",
              "            + ' to learn more about interactive tables.';\n",
              "          element.innerHTML = '';\n",
              "          dataTable['output_type'] = 'display_data';\n",
              "          await google.colab.output.renderOutput(dataTable, element);\n",
              "          const docLink = document.createElement('div');\n",
              "          docLink.innerHTML = docLinkHtml;\n",
              "          element.appendChild(docLink);\n",
              "        }\n",
              "      </script>\n",
              "    </div>\n",
              "  </div>\n",
              "  "
            ]
          },
          "metadata": {},
          "execution_count": 123
        }
      ]
    },
    {
      "cell_type": "markdown",
      "source": [
        "(1 балл) Перемешайте строки в датафрейме случайным образом: "
      ],
      "metadata": {
        "id": "Uex8DVspKFxn"
      }
    },
    {
      "cell_type": "code",
      "source": [
        "diamonds.sample(frac=1)"
      ],
      "metadata": {
        "id": "5lRYIwGOKOnT",
        "colab": {
          "base_uri": "https://localhost:8080/",
          "height": 540
        },
        "outputId": "b1f224a1-7228-4fc2-b10c-ef765540ae4a"
      },
      "execution_count": 122,
      "outputs": [
        {
          "output_type": "execute_result",
          "data": {
            "text/plain": [
              "        Unnamed: 0       cut    color clarity  carat_weight cut_quality  lab  \\\n",
              "182769      182770     Round        I     SI1          1.00   Excellent  GIA   \n",
              "122784      122785  Marquise        J     SI2          0.84     unknown  GIA   \n",
              "185929      185930     Round        H     SI1          1.06   Excellent  GIA   \n",
              "70245        70246     Round        E    VVS2          0.29   Very Good  GIA   \n",
              "12079        12079     Round        G     SI2          0.30   Excellent  GIA   \n",
              "...            ...       ...      ...     ...           ...         ...  ...   \n",
              "212647      212648      Pear        I     SI2          3.01     unknown  GIA   \n",
              "100746      100747     Round        K     VS2          0.55   Excellent  GIA   \n",
              "179624      179625  Princess  unknown     VS2          1.13     unknown  GIA   \n",
              "10817        10817     Round        K     VS2          0.30   Excellent  GIA   \n",
              "179328      179329     Round        J     VS2          1.13   Excellent  GIA   \n",
              "\n",
              "         symmetry     polish eye_clean  ... meas_depth girdle_min  girdle_max  \\\n",
              "182769  Excellent  Excellent   unknown  ...       3.87          M           M   \n",
              "122784  Very Good  Very Good       Yes  ...       3.28    unknown     unknown   \n",
              "185929  Excellent  Excellent       Yes  ...       4.05          M         STK   \n",
              "70245   Excellent  Excellent   unknown  ...       2.62    unknown     unknown   \n",
              "12079   Excellent  Excellent   unknown  ...       2.69    unknown     unknown   \n",
              "...           ...        ...       ...  ...        ...        ...         ...   \n",
              "212647  Very Good  Excellent   unknown  ...       4.66        STK         STK   \n",
              "100746  Excellent  Excellent   unknown  ...       3.26    unknown     unknown   \n",
              "179624  Very Good  Very Good   unknown  ...       4.30    unknown     unknown   \n",
              "10817   Excellent  Excellent   unknown  ...       2.67        STK         STK   \n",
              "179328  Excellent  Excellent   unknown  ...       4.15    unknown     unknown   \n",
              "\n",
              "        fluor_color  fluor_intensity  fancy_color_dominant_color  \\\n",
              "182769      unknown             None                     unknown   \n",
              "122784      unknown           Medium                     unknown   \n",
              "185929      unknown             None                     unknown   \n",
              "70245       unknown             None                     unknown   \n",
              "12079       unknown           Medium                     unknown   \n",
              "...             ...              ...                         ...   \n",
              "212647      unknown             None                     unknown   \n",
              "100746      unknown           Medium                     unknown   \n",
              "179624      unknown            Faint                      Yellow   \n",
              "10817       unknown             None                     unknown   \n",
              "179328      unknown             None                     unknown   \n",
              "\n",
              "        fancy_color_secondary_color fancy_color_overtone  \\\n",
              "182769                      unknown              unknown   \n",
              "122784                      unknown              unknown   \n",
              "185929                      unknown              unknown   \n",
              "70245                       unknown              unknown   \n",
              "12079                       unknown              unknown   \n",
              "...                             ...                  ...   \n",
              "212647                      unknown              unknown   \n",
              "100746                      unknown              unknown   \n",
              "179624                      unknown                 None   \n",
              "10817                       unknown              unknown   \n",
              "179328                      unknown              unknown   \n",
              "\n",
              "       fancy_color_intensity total_sales_price  \n",
              "182769               unknown              8385  \n",
              "122784               unknown              2628  \n",
              "185929               unknown              8930  \n",
              "70245                unknown              1052  \n",
              "12079                unknown               654  \n",
              "...                      ...               ...  \n",
              "212647               unknown             32075  \n",
              "100746               unknown              1652  \n",
              "179624           Fancy Light              7425  \n",
              "10817                unknown               640  \n",
              "179328               unknown              7344  \n",
              "\n",
              "[219703 rows x 26 columns]"
            ],
            "text/html": [
              "\n",
              "  <div id=\"df-314d55c9-d482-45d9-81cd-993491abd9ae\">\n",
              "    <div class=\"colab-df-container\">\n",
              "      <div>\n",
              "<style scoped>\n",
              "    .dataframe tbody tr th:only-of-type {\n",
              "        vertical-align: middle;\n",
              "    }\n",
              "\n",
              "    .dataframe tbody tr th {\n",
              "        vertical-align: top;\n",
              "    }\n",
              "\n",
              "    .dataframe thead th {\n",
              "        text-align: right;\n",
              "    }\n",
              "</style>\n",
              "<table border=\"1\" class=\"dataframe\">\n",
              "  <thead>\n",
              "    <tr style=\"text-align: right;\">\n",
              "      <th></th>\n",
              "      <th>Unnamed: 0</th>\n",
              "      <th>cut</th>\n",
              "      <th>color</th>\n",
              "      <th>clarity</th>\n",
              "      <th>carat_weight</th>\n",
              "      <th>cut_quality</th>\n",
              "      <th>lab</th>\n",
              "      <th>symmetry</th>\n",
              "      <th>polish</th>\n",
              "      <th>eye_clean</th>\n",
              "      <th>...</th>\n",
              "      <th>meas_depth</th>\n",
              "      <th>girdle_min</th>\n",
              "      <th>girdle_max</th>\n",
              "      <th>fluor_color</th>\n",
              "      <th>fluor_intensity</th>\n",
              "      <th>fancy_color_dominant_color</th>\n",
              "      <th>fancy_color_secondary_color</th>\n",
              "      <th>fancy_color_overtone</th>\n",
              "      <th>fancy_color_intensity</th>\n",
              "      <th>total_sales_price</th>\n",
              "    </tr>\n",
              "  </thead>\n",
              "  <tbody>\n",
              "    <tr>\n",
              "      <th>182769</th>\n",
              "      <td>182770</td>\n",
              "      <td>Round</td>\n",
              "      <td>I</td>\n",
              "      <td>SI1</td>\n",
              "      <td>1.00</td>\n",
              "      <td>Excellent</td>\n",
              "      <td>GIA</td>\n",
              "      <td>Excellent</td>\n",
              "      <td>Excellent</td>\n",
              "      <td>unknown</td>\n",
              "      <td>...</td>\n",
              "      <td>3.87</td>\n",
              "      <td>M</td>\n",
              "      <td>M</td>\n",
              "      <td>unknown</td>\n",
              "      <td>None</td>\n",
              "      <td>unknown</td>\n",
              "      <td>unknown</td>\n",
              "      <td>unknown</td>\n",
              "      <td>unknown</td>\n",
              "      <td>8385</td>\n",
              "    </tr>\n",
              "    <tr>\n",
              "      <th>122784</th>\n",
              "      <td>122785</td>\n",
              "      <td>Marquise</td>\n",
              "      <td>J</td>\n",
              "      <td>SI2</td>\n",
              "      <td>0.84</td>\n",
              "      <td>unknown</td>\n",
              "      <td>GIA</td>\n",
              "      <td>Very Good</td>\n",
              "      <td>Very Good</td>\n",
              "      <td>Yes</td>\n",
              "      <td>...</td>\n",
              "      <td>3.28</td>\n",
              "      <td>unknown</td>\n",
              "      <td>unknown</td>\n",
              "      <td>unknown</td>\n",
              "      <td>Medium</td>\n",
              "      <td>unknown</td>\n",
              "      <td>unknown</td>\n",
              "      <td>unknown</td>\n",
              "      <td>unknown</td>\n",
              "      <td>2628</td>\n",
              "    </tr>\n",
              "    <tr>\n",
              "      <th>185929</th>\n",
              "      <td>185930</td>\n",
              "      <td>Round</td>\n",
              "      <td>H</td>\n",
              "      <td>SI1</td>\n",
              "      <td>1.06</td>\n",
              "      <td>Excellent</td>\n",
              "      <td>GIA</td>\n",
              "      <td>Excellent</td>\n",
              "      <td>Excellent</td>\n",
              "      <td>Yes</td>\n",
              "      <td>...</td>\n",
              "      <td>4.05</td>\n",
              "      <td>M</td>\n",
              "      <td>STK</td>\n",
              "      <td>unknown</td>\n",
              "      <td>None</td>\n",
              "      <td>unknown</td>\n",
              "      <td>unknown</td>\n",
              "      <td>unknown</td>\n",
              "      <td>unknown</td>\n",
              "      <td>8930</td>\n",
              "    </tr>\n",
              "    <tr>\n",
              "      <th>70245</th>\n",
              "      <td>70246</td>\n",
              "      <td>Round</td>\n",
              "      <td>E</td>\n",
              "      <td>VVS2</td>\n",
              "      <td>0.29</td>\n",
              "      <td>Very Good</td>\n",
              "      <td>GIA</td>\n",
              "      <td>Excellent</td>\n",
              "      <td>Excellent</td>\n",
              "      <td>unknown</td>\n",
              "      <td>...</td>\n",
              "      <td>2.62</td>\n",
              "      <td>unknown</td>\n",
              "      <td>unknown</td>\n",
              "      <td>unknown</td>\n",
              "      <td>None</td>\n",
              "      <td>unknown</td>\n",
              "      <td>unknown</td>\n",
              "      <td>unknown</td>\n",
              "      <td>unknown</td>\n",
              "      <td>1052</td>\n",
              "    </tr>\n",
              "    <tr>\n",
              "      <th>12079</th>\n",
              "      <td>12079</td>\n",
              "      <td>Round</td>\n",
              "      <td>G</td>\n",
              "      <td>SI2</td>\n",
              "      <td>0.30</td>\n",
              "      <td>Excellent</td>\n",
              "      <td>GIA</td>\n",
              "      <td>Excellent</td>\n",
              "      <td>Excellent</td>\n",
              "      <td>unknown</td>\n",
              "      <td>...</td>\n",
              "      <td>2.69</td>\n",
              "      <td>unknown</td>\n",
              "      <td>unknown</td>\n",
              "      <td>unknown</td>\n",
              "      <td>Medium</td>\n",
              "      <td>unknown</td>\n",
              "      <td>unknown</td>\n",
              "      <td>unknown</td>\n",
              "      <td>unknown</td>\n",
              "      <td>654</td>\n",
              "    </tr>\n",
              "    <tr>\n",
              "      <th>...</th>\n",
              "      <td>...</td>\n",
              "      <td>...</td>\n",
              "      <td>...</td>\n",
              "      <td>...</td>\n",
              "      <td>...</td>\n",
              "      <td>...</td>\n",
              "      <td>...</td>\n",
              "      <td>...</td>\n",
              "      <td>...</td>\n",
              "      <td>...</td>\n",
              "      <td>...</td>\n",
              "      <td>...</td>\n",
              "      <td>...</td>\n",
              "      <td>...</td>\n",
              "      <td>...</td>\n",
              "      <td>...</td>\n",
              "      <td>...</td>\n",
              "      <td>...</td>\n",
              "      <td>...</td>\n",
              "      <td>...</td>\n",
              "      <td>...</td>\n",
              "    </tr>\n",
              "    <tr>\n",
              "      <th>212647</th>\n",
              "      <td>212648</td>\n",
              "      <td>Pear</td>\n",
              "      <td>I</td>\n",
              "      <td>SI2</td>\n",
              "      <td>3.01</td>\n",
              "      <td>unknown</td>\n",
              "      <td>GIA</td>\n",
              "      <td>Very Good</td>\n",
              "      <td>Excellent</td>\n",
              "      <td>unknown</td>\n",
              "      <td>...</td>\n",
              "      <td>4.66</td>\n",
              "      <td>STK</td>\n",
              "      <td>STK</td>\n",
              "      <td>unknown</td>\n",
              "      <td>None</td>\n",
              "      <td>unknown</td>\n",
              "      <td>unknown</td>\n",
              "      <td>unknown</td>\n",
              "      <td>unknown</td>\n",
              "      <td>32075</td>\n",
              "    </tr>\n",
              "    <tr>\n",
              "      <th>100746</th>\n",
              "      <td>100747</td>\n",
              "      <td>Round</td>\n",
              "      <td>K</td>\n",
              "      <td>VS2</td>\n",
              "      <td>0.55</td>\n",
              "      <td>Excellent</td>\n",
              "      <td>GIA</td>\n",
              "      <td>Excellent</td>\n",
              "      <td>Excellent</td>\n",
              "      <td>unknown</td>\n",
              "      <td>...</td>\n",
              "      <td>3.26</td>\n",
              "      <td>unknown</td>\n",
              "      <td>unknown</td>\n",
              "      <td>unknown</td>\n",
              "      <td>Medium</td>\n",
              "      <td>unknown</td>\n",
              "      <td>unknown</td>\n",
              "      <td>unknown</td>\n",
              "      <td>unknown</td>\n",
              "      <td>1652</td>\n",
              "    </tr>\n",
              "    <tr>\n",
              "      <th>179624</th>\n",
              "      <td>179625</td>\n",
              "      <td>Princess</td>\n",
              "      <td>unknown</td>\n",
              "      <td>VS2</td>\n",
              "      <td>1.13</td>\n",
              "      <td>unknown</td>\n",
              "      <td>GIA</td>\n",
              "      <td>Very Good</td>\n",
              "      <td>Very Good</td>\n",
              "      <td>unknown</td>\n",
              "      <td>...</td>\n",
              "      <td>4.30</td>\n",
              "      <td>unknown</td>\n",
              "      <td>unknown</td>\n",
              "      <td>unknown</td>\n",
              "      <td>Faint</td>\n",
              "      <td>Yellow</td>\n",
              "      <td>unknown</td>\n",
              "      <td>None</td>\n",
              "      <td>Fancy Light</td>\n",
              "      <td>7425</td>\n",
              "    </tr>\n",
              "    <tr>\n",
              "      <th>10817</th>\n",
              "      <td>10817</td>\n",
              "      <td>Round</td>\n",
              "      <td>K</td>\n",
              "      <td>VS2</td>\n",
              "      <td>0.30</td>\n",
              "      <td>Excellent</td>\n",
              "      <td>GIA</td>\n",
              "      <td>Excellent</td>\n",
              "      <td>Excellent</td>\n",
              "      <td>unknown</td>\n",
              "      <td>...</td>\n",
              "      <td>2.67</td>\n",
              "      <td>STK</td>\n",
              "      <td>STK</td>\n",
              "      <td>unknown</td>\n",
              "      <td>None</td>\n",
              "      <td>unknown</td>\n",
              "      <td>unknown</td>\n",
              "      <td>unknown</td>\n",
              "      <td>unknown</td>\n",
              "      <td>640</td>\n",
              "    </tr>\n",
              "    <tr>\n",
              "      <th>179328</th>\n",
              "      <td>179329</td>\n",
              "      <td>Round</td>\n",
              "      <td>J</td>\n",
              "      <td>VS2</td>\n",
              "      <td>1.13</td>\n",
              "      <td>Excellent</td>\n",
              "      <td>GIA</td>\n",
              "      <td>Excellent</td>\n",
              "      <td>Excellent</td>\n",
              "      <td>unknown</td>\n",
              "      <td>...</td>\n",
              "      <td>4.15</td>\n",
              "      <td>unknown</td>\n",
              "      <td>unknown</td>\n",
              "      <td>unknown</td>\n",
              "      <td>None</td>\n",
              "      <td>unknown</td>\n",
              "      <td>unknown</td>\n",
              "      <td>unknown</td>\n",
              "      <td>unknown</td>\n",
              "      <td>7344</td>\n",
              "    </tr>\n",
              "  </tbody>\n",
              "</table>\n",
              "<p>219703 rows × 26 columns</p>\n",
              "</div>\n",
              "      <button class=\"colab-df-convert\" onclick=\"convertToInteractive('df-314d55c9-d482-45d9-81cd-993491abd9ae')\"\n",
              "              title=\"Convert this dataframe to an interactive table.\"\n",
              "              style=\"display:none;\">\n",
              "        \n",
              "  <svg xmlns=\"http://www.w3.org/2000/svg\" height=\"24px\"viewBox=\"0 0 24 24\"\n",
              "       width=\"24px\">\n",
              "    <path d=\"M0 0h24v24H0V0z\" fill=\"none\"/>\n",
              "    <path d=\"M18.56 5.44l.94 2.06.94-2.06 2.06-.94-2.06-.94-.94-2.06-.94 2.06-2.06.94zm-11 1L8.5 8.5l.94-2.06 2.06-.94-2.06-.94L8.5 2.5l-.94 2.06-2.06.94zm10 10l.94 2.06.94-2.06 2.06-.94-2.06-.94-.94-2.06-.94 2.06-2.06.94z\"/><path d=\"M17.41 7.96l-1.37-1.37c-.4-.4-.92-.59-1.43-.59-.52 0-1.04.2-1.43.59L10.3 9.45l-7.72 7.72c-.78.78-.78 2.05 0 2.83L4 21.41c.39.39.9.59 1.41.59.51 0 1.02-.2 1.41-.59l7.78-7.78 2.81-2.81c.8-.78.8-2.07 0-2.86zM5.41 20L4 18.59l7.72-7.72 1.47 1.35L5.41 20z\"/>\n",
              "  </svg>\n",
              "      </button>\n",
              "      \n",
              "  <style>\n",
              "    .colab-df-container {\n",
              "      display:flex;\n",
              "      flex-wrap:wrap;\n",
              "      gap: 12px;\n",
              "    }\n",
              "\n",
              "    .colab-df-convert {\n",
              "      background-color: #E8F0FE;\n",
              "      border: none;\n",
              "      border-radius: 50%;\n",
              "      cursor: pointer;\n",
              "      display: none;\n",
              "      fill: #1967D2;\n",
              "      height: 32px;\n",
              "      padding: 0 0 0 0;\n",
              "      width: 32px;\n",
              "    }\n",
              "\n",
              "    .colab-df-convert:hover {\n",
              "      background-color: #E2EBFA;\n",
              "      box-shadow: 0px 1px 2px rgba(60, 64, 67, 0.3), 0px 1px 3px 1px rgba(60, 64, 67, 0.15);\n",
              "      fill: #174EA6;\n",
              "    }\n",
              "\n",
              "    [theme=dark] .colab-df-convert {\n",
              "      background-color: #3B4455;\n",
              "      fill: #D2E3FC;\n",
              "    }\n",
              "\n",
              "    [theme=dark] .colab-df-convert:hover {\n",
              "      background-color: #434B5C;\n",
              "      box-shadow: 0px 1px 3px 1px rgba(0, 0, 0, 0.15);\n",
              "      filter: drop-shadow(0px 1px 2px rgba(0, 0, 0, 0.3));\n",
              "      fill: #FFFFFF;\n",
              "    }\n",
              "  </style>\n",
              "\n",
              "      <script>\n",
              "        const buttonEl =\n",
              "          document.querySelector('#df-314d55c9-d482-45d9-81cd-993491abd9ae button.colab-df-convert');\n",
              "        buttonEl.style.display =\n",
              "          google.colab.kernel.accessAllowed ? 'block' : 'none';\n",
              "\n",
              "        async function convertToInteractive(key) {\n",
              "          const element = document.querySelector('#df-314d55c9-d482-45d9-81cd-993491abd9ae');\n",
              "          const dataTable =\n",
              "            await google.colab.kernel.invokeFunction('convertToInteractive',\n",
              "                                                     [key], {});\n",
              "          if (!dataTable) return;\n",
              "\n",
              "          const docLinkHtml = 'Like what you see? Visit the ' +\n",
              "            '<a target=\"_blank\" href=https://colab.research.google.com/notebooks/data_table.ipynb>data table notebook</a>'\n",
              "            + ' to learn more about interactive tables.';\n",
              "          element.innerHTML = '';\n",
              "          dataTable['output_type'] = 'display_data';\n",
              "          await google.colab.output.renderOutput(dataTable, element);\n",
              "          const docLink = document.createElement('div');\n",
              "          docLink.innerHTML = docLinkHtml;\n",
              "          element.appendChild(docLink);\n",
              "        }\n",
              "      </script>\n",
              "    </div>\n",
              "  </div>\n",
              "  "
            ]
          },
          "metadata": {},
          "execution_count": 122
        }
      ]
    },
    {
      "cell_type": "markdown",
      "source": [
        "(1 балл) Сформируем новую колонку - для каждого бриллианта найдем сумму Минковского (p=3) по 3 измерениям бриллианта:"
      ],
      "metadata": {
        "id": "iEHBNONDLl64"
      }
    },
    {
      "cell_type": "code",
      "source": [
        "diamonds['minkovskie_sum'] = (diamonds['carat_weight'] ** 3 + diamonds['meas_depth'] ** 3 + diamonds['total_sales_price']) ** (1 / 3)\n",
        "diamonds['minkovskie_sum']"
      ],
      "metadata": {
        "id": "V3CTAQbAMQsR",
        "colab": {
          "base_uri": "https://localhost:8080/"
        },
        "outputId": "314588c8-0af6-4858-e1fa-a7b1f9d4461e"
      },
      "execution_count": 125,
      "outputs": [
        {
          "output_type": "execute_result",
          "data": {
            "text/plain": [
              "0           5.903417\n",
              "1           5.902503\n",
              "2           5.901598\n",
              "3           5.902503\n",
              "4           5.906221\n",
              "             ...    \n",
              "219698    106.635010\n",
              "219699    108.938111\n",
              "219700    109.764165\n",
              "219701    110.522105\n",
              "219702    113.218769\n",
              "Name: minkovskie_sum, Length: 219703, dtype: float64"
            ]
          },
          "metadata": {},
          "execution_count": 125
        }
      ]
    },
    {
      "cell_type": "markdown",
      "source": [
        "(1 балл) Сформируем новый датасет из двух колонок - сумма Минковского и `total_sales_price`: "
      ],
      "metadata": {
        "id": "z5s5_yB8n1Hp"
      }
    },
    {
      "cell_type": "code",
      "source": [
        "new_dataset = pd.DataFrame(diamonds, columns = ['minkovskie_sum', 'total_sales_price'])\n",
        "new_dataset"
      ],
      "metadata": {
        "id": "tXxZnWS7n9q0",
        "colab": {
          "base_uri": "https://localhost:8080/",
          "height": 424
        },
        "outputId": "073d416f-cbea-4e88-fdec-ea4848b5cd56"
      },
      "execution_count": 126,
      "outputs": [
        {
          "output_type": "execute_result",
          "data": {
            "text/plain": [
              "        minkovskie_sum  total_sales_price\n",
              "0             5.903417                200\n",
              "1             5.902503                200\n",
              "2             5.901598                200\n",
              "3             5.902503                200\n",
              "4             5.906221                200\n",
              "...                ...                ...\n",
              "219698      106.635010            1210692\n",
              "219699      108.938111            1292500\n",
              "219700      109.764165            1315496\n",
              "219701      110.522105            1350000\n",
              "219702      113.218769            1449881\n",
              "\n",
              "[219703 rows x 2 columns]"
            ],
            "text/html": [
              "\n",
              "  <div id=\"df-ae066504-da49-4dd1-a695-5efca64b2883\">\n",
              "    <div class=\"colab-df-container\">\n",
              "      <div>\n",
              "<style scoped>\n",
              "    .dataframe tbody tr th:only-of-type {\n",
              "        vertical-align: middle;\n",
              "    }\n",
              "\n",
              "    .dataframe tbody tr th {\n",
              "        vertical-align: top;\n",
              "    }\n",
              "\n",
              "    .dataframe thead th {\n",
              "        text-align: right;\n",
              "    }\n",
              "</style>\n",
              "<table border=\"1\" class=\"dataframe\">\n",
              "  <thead>\n",
              "    <tr style=\"text-align: right;\">\n",
              "      <th></th>\n",
              "      <th>minkovskie_sum</th>\n",
              "      <th>total_sales_price</th>\n",
              "    </tr>\n",
              "  </thead>\n",
              "  <tbody>\n",
              "    <tr>\n",
              "      <th>0</th>\n",
              "      <td>5.903417</td>\n",
              "      <td>200</td>\n",
              "    </tr>\n",
              "    <tr>\n",
              "      <th>1</th>\n",
              "      <td>5.902503</td>\n",
              "      <td>200</td>\n",
              "    </tr>\n",
              "    <tr>\n",
              "      <th>2</th>\n",
              "      <td>5.901598</td>\n",
              "      <td>200</td>\n",
              "    </tr>\n",
              "    <tr>\n",
              "      <th>3</th>\n",
              "      <td>5.902503</td>\n",
              "      <td>200</td>\n",
              "    </tr>\n",
              "    <tr>\n",
              "      <th>4</th>\n",
              "      <td>5.906221</td>\n",
              "      <td>200</td>\n",
              "    </tr>\n",
              "    <tr>\n",
              "      <th>...</th>\n",
              "      <td>...</td>\n",
              "      <td>...</td>\n",
              "    </tr>\n",
              "    <tr>\n",
              "      <th>219698</th>\n",
              "      <td>106.635010</td>\n",
              "      <td>1210692</td>\n",
              "    </tr>\n",
              "    <tr>\n",
              "      <th>219699</th>\n",
              "      <td>108.938111</td>\n",
              "      <td>1292500</td>\n",
              "    </tr>\n",
              "    <tr>\n",
              "      <th>219700</th>\n",
              "      <td>109.764165</td>\n",
              "      <td>1315496</td>\n",
              "    </tr>\n",
              "    <tr>\n",
              "      <th>219701</th>\n",
              "      <td>110.522105</td>\n",
              "      <td>1350000</td>\n",
              "    </tr>\n",
              "    <tr>\n",
              "      <th>219702</th>\n",
              "      <td>113.218769</td>\n",
              "      <td>1449881</td>\n",
              "    </tr>\n",
              "  </tbody>\n",
              "</table>\n",
              "<p>219703 rows × 2 columns</p>\n",
              "</div>\n",
              "      <button class=\"colab-df-convert\" onclick=\"convertToInteractive('df-ae066504-da49-4dd1-a695-5efca64b2883')\"\n",
              "              title=\"Convert this dataframe to an interactive table.\"\n",
              "              style=\"display:none;\">\n",
              "        \n",
              "  <svg xmlns=\"http://www.w3.org/2000/svg\" height=\"24px\"viewBox=\"0 0 24 24\"\n",
              "       width=\"24px\">\n",
              "    <path d=\"M0 0h24v24H0V0z\" fill=\"none\"/>\n",
              "    <path d=\"M18.56 5.44l.94 2.06.94-2.06 2.06-.94-2.06-.94-.94-2.06-.94 2.06-2.06.94zm-11 1L8.5 8.5l.94-2.06 2.06-.94-2.06-.94L8.5 2.5l-.94 2.06-2.06.94zm10 10l.94 2.06.94-2.06 2.06-.94-2.06-.94-.94-2.06-.94 2.06-2.06.94z\"/><path d=\"M17.41 7.96l-1.37-1.37c-.4-.4-.92-.59-1.43-.59-.52 0-1.04.2-1.43.59L10.3 9.45l-7.72 7.72c-.78.78-.78 2.05 0 2.83L4 21.41c.39.39.9.59 1.41.59.51 0 1.02-.2 1.41-.59l7.78-7.78 2.81-2.81c.8-.78.8-2.07 0-2.86zM5.41 20L4 18.59l7.72-7.72 1.47 1.35L5.41 20z\"/>\n",
              "  </svg>\n",
              "      </button>\n",
              "      \n",
              "  <style>\n",
              "    .colab-df-container {\n",
              "      display:flex;\n",
              "      flex-wrap:wrap;\n",
              "      gap: 12px;\n",
              "    }\n",
              "\n",
              "    .colab-df-convert {\n",
              "      background-color: #E8F0FE;\n",
              "      border: none;\n",
              "      border-radius: 50%;\n",
              "      cursor: pointer;\n",
              "      display: none;\n",
              "      fill: #1967D2;\n",
              "      height: 32px;\n",
              "      padding: 0 0 0 0;\n",
              "      width: 32px;\n",
              "    }\n",
              "\n",
              "    .colab-df-convert:hover {\n",
              "      background-color: #E2EBFA;\n",
              "      box-shadow: 0px 1px 2px rgba(60, 64, 67, 0.3), 0px 1px 3px 1px rgba(60, 64, 67, 0.15);\n",
              "      fill: #174EA6;\n",
              "    }\n",
              "\n",
              "    [theme=dark] .colab-df-convert {\n",
              "      background-color: #3B4455;\n",
              "      fill: #D2E3FC;\n",
              "    }\n",
              "\n",
              "    [theme=dark] .colab-df-convert:hover {\n",
              "      background-color: #434B5C;\n",
              "      box-shadow: 0px 1px 3px 1px rgba(0, 0, 0, 0.15);\n",
              "      filter: drop-shadow(0px 1px 2px rgba(0, 0, 0, 0.3));\n",
              "      fill: #FFFFFF;\n",
              "    }\n",
              "  </style>\n",
              "\n",
              "      <script>\n",
              "        const buttonEl =\n",
              "          document.querySelector('#df-ae066504-da49-4dd1-a695-5efca64b2883 button.colab-df-convert');\n",
              "        buttonEl.style.display =\n",
              "          google.colab.kernel.accessAllowed ? 'block' : 'none';\n",
              "\n",
              "        async function convertToInteractive(key) {\n",
              "          const element = document.querySelector('#df-ae066504-da49-4dd1-a695-5efca64b2883');\n",
              "          const dataTable =\n",
              "            await google.colab.kernel.invokeFunction('convertToInteractive',\n",
              "                                                     [key], {});\n",
              "          if (!dataTable) return;\n",
              "\n",
              "          const docLinkHtml = 'Like what you see? Visit the ' +\n",
              "            '<a target=\"_blank\" href=https://colab.research.google.com/notebooks/data_table.ipynb>data table notebook</a>'\n",
              "            + ' to learn more about interactive tables.';\n",
              "          element.innerHTML = '';\n",
              "          dataTable['output_type'] = 'display_data';\n",
              "          await google.colab.output.renderOutput(dataTable, element);\n",
              "          const docLink = document.createElement('div');\n",
              "          docLink.innerHTML = docLinkHtml;\n",
              "          element.appendChild(docLink);\n",
              "        }\n",
              "      </script>\n",
              "    </div>\n",
              "  </div>\n",
              "  "
            ]
          },
          "metadata": {},
          "execution_count": 126
        }
      ]
    },
    {
      "cell_type": "markdown",
      "source": [
        "(1 балл) Разделите вашу выборку на две части в соотношении 8:2 - одна выборка будет для тренировка, а другая для тестов вашей модели:"
      ],
      "metadata": {
        "id": "aXCp0GmUKOvM"
      }
    },
    {
      "cell_type": "code",
      "source": [
        "from sklearn.model_selection import train_test_split"
      ],
      "metadata": {
        "id": "Um5Ibw-B4-VP"
      },
      "execution_count": 128,
      "outputs": []
    },
    {
      "cell_type": "code",
      "source": [
        "x_train, y_train = train_test_split(new_dataset, train_size=0.8)\n",
        "x_train"
      ],
      "metadata": {
        "id": "rxwHhdnFK3Lz",
        "colab": {
          "base_uri": "https://localhost:8080/",
          "height": 424
        },
        "outputId": "fa801cb4-a8e8-42dc-bd53-ef6d4566ff27"
      },
      "execution_count": 132,
      "outputs": [
        {
          "output_type": "execute_result",
          "data": {
            "text/plain": [
              "        minkovskie_sum  total_sales_price\n",
              "205212       26.813477              19187\n",
              "44437         9.688718                890\n",
              "91702        11.203971               1392\n",
              "158477       16.313302               4306\n",
              "57905        10.040775                980\n",
              "...                ...                ...\n",
              "179339       19.485992               7346\n",
              "198285       24.469169              14584\n",
              "38402         9.544950                852\n",
              "211246       29.215218              24786\n",
              "144336       15.220324               3486\n",
              "\n",
              "[175762 rows x 2 columns]"
            ],
            "text/html": [
              "\n",
              "  <div id=\"df-62e0ddba-bf38-46d6-98e3-36c64ae4c5f4\">\n",
              "    <div class=\"colab-df-container\">\n",
              "      <div>\n",
              "<style scoped>\n",
              "    .dataframe tbody tr th:only-of-type {\n",
              "        vertical-align: middle;\n",
              "    }\n",
              "\n",
              "    .dataframe tbody tr th {\n",
              "        vertical-align: top;\n",
              "    }\n",
              "\n",
              "    .dataframe thead th {\n",
              "        text-align: right;\n",
              "    }\n",
              "</style>\n",
              "<table border=\"1\" class=\"dataframe\">\n",
              "  <thead>\n",
              "    <tr style=\"text-align: right;\">\n",
              "      <th></th>\n",
              "      <th>minkovskie_sum</th>\n",
              "      <th>total_sales_price</th>\n",
              "    </tr>\n",
              "  </thead>\n",
              "  <tbody>\n",
              "    <tr>\n",
              "      <th>205212</th>\n",
              "      <td>26.813477</td>\n",
              "      <td>19187</td>\n",
              "    </tr>\n",
              "    <tr>\n",
              "      <th>44437</th>\n",
              "      <td>9.688718</td>\n",
              "      <td>890</td>\n",
              "    </tr>\n",
              "    <tr>\n",
              "      <th>91702</th>\n",
              "      <td>11.203971</td>\n",
              "      <td>1392</td>\n",
              "    </tr>\n",
              "    <tr>\n",
              "      <th>158477</th>\n",
              "      <td>16.313302</td>\n",
              "      <td>4306</td>\n",
              "    </tr>\n",
              "    <tr>\n",
              "      <th>57905</th>\n",
              "      <td>10.040775</td>\n",
              "      <td>980</td>\n",
              "    </tr>\n",
              "    <tr>\n",
              "      <th>...</th>\n",
              "      <td>...</td>\n",
              "      <td>...</td>\n",
              "    </tr>\n",
              "    <tr>\n",
              "      <th>179339</th>\n",
              "      <td>19.485992</td>\n",
              "      <td>7346</td>\n",
              "    </tr>\n",
              "    <tr>\n",
              "      <th>198285</th>\n",
              "      <td>24.469169</td>\n",
              "      <td>14584</td>\n",
              "    </tr>\n",
              "    <tr>\n",
              "      <th>38402</th>\n",
              "      <td>9.544950</td>\n",
              "      <td>852</td>\n",
              "    </tr>\n",
              "    <tr>\n",
              "      <th>211246</th>\n",
              "      <td>29.215218</td>\n",
              "      <td>24786</td>\n",
              "    </tr>\n",
              "    <tr>\n",
              "      <th>144336</th>\n",
              "      <td>15.220324</td>\n",
              "      <td>3486</td>\n",
              "    </tr>\n",
              "  </tbody>\n",
              "</table>\n",
              "<p>175762 rows × 2 columns</p>\n",
              "</div>\n",
              "      <button class=\"colab-df-convert\" onclick=\"convertToInteractive('df-62e0ddba-bf38-46d6-98e3-36c64ae4c5f4')\"\n",
              "              title=\"Convert this dataframe to an interactive table.\"\n",
              "              style=\"display:none;\">\n",
              "        \n",
              "  <svg xmlns=\"http://www.w3.org/2000/svg\" height=\"24px\"viewBox=\"0 0 24 24\"\n",
              "       width=\"24px\">\n",
              "    <path d=\"M0 0h24v24H0V0z\" fill=\"none\"/>\n",
              "    <path d=\"M18.56 5.44l.94 2.06.94-2.06 2.06-.94-2.06-.94-.94-2.06-.94 2.06-2.06.94zm-11 1L8.5 8.5l.94-2.06 2.06-.94-2.06-.94L8.5 2.5l-.94 2.06-2.06.94zm10 10l.94 2.06.94-2.06 2.06-.94-2.06-.94-.94-2.06-.94 2.06-2.06.94z\"/><path d=\"M17.41 7.96l-1.37-1.37c-.4-.4-.92-.59-1.43-.59-.52 0-1.04.2-1.43.59L10.3 9.45l-7.72 7.72c-.78.78-.78 2.05 0 2.83L4 21.41c.39.39.9.59 1.41.59.51 0 1.02-.2 1.41-.59l7.78-7.78 2.81-2.81c.8-.78.8-2.07 0-2.86zM5.41 20L4 18.59l7.72-7.72 1.47 1.35L5.41 20z\"/>\n",
              "  </svg>\n",
              "      </button>\n",
              "      \n",
              "  <style>\n",
              "    .colab-df-container {\n",
              "      display:flex;\n",
              "      flex-wrap:wrap;\n",
              "      gap: 12px;\n",
              "    }\n",
              "\n",
              "    .colab-df-convert {\n",
              "      background-color: #E8F0FE;\n",
              "      border: none;\n",
              "      border-radius: 50%;\n",
              "      cursor: pointer;\n",
              "      display: none;\n",
              "      fill: #1967D2;\n",
              "      height: 32px;\n",
              "      padding: 0 0 0 0;\n",
              "      width: 32px;\n",
              "    }\n",
              "\n",
              "    .colab-df-convert:hover {\n",
              "      background-color: #E2EBFA;\n",
              "      box-shadow: 0px 1px 2px rgba(60, 64, 67, 0.3), 0px 1px 3px 1px rgba(60, 64, 67, 0.15);\n",
              "      fill: #174EA6;\n",
              "    }\n",
              "\n",
              "    [theme=dark] .colab-df-convert {\n",
              "      background-color: #3B4455;\n",
              "      fill: #D2E3FC;\n",
              "    }\n",
              "\n",
              "    [theme=dark] .colab-df-convert:hover {\n",
              "      background-color: #434B5C;\n",
              "      box-shadow: 0px 1px 3px 1px rgba(0, 0, 0, 0.15);\n",
              "      filter: drop-shadow(0px 1px 2px rgba(0, 0, 0, 0.3));\n",
              "      fill: #FFFFFF;\n",
              "    }\n",
              "  </style>\n",
              "\n",
              "      <script>\n",
              "        const buttonEl =\n",
              "          document.querySelector('#df-62e0ddba-bf38-46d6-98e3-36c64ae4c5f4 button.colab-df-convert');\n",
              "        buttonEl.style.display =\n",
              "          google.colab.kernel.accessAllowed ? 'block' : 'none';\n",
              "\n",
              "        async function convertToInteractive(key) {\n",
              "          const element = document.querySelector('#df-62e0ddba-bf38-46d6-98e3-36c64ae4c5f4');\n",
              "          const dataTable =\n",
              "            await google.colab.kernel.invokeFunction('convertToInteractive',\n",
              "                                                     [key], {});\n",
              "          if (!dataTable) return;\n",
              "\n",
              "          const docLinkHtml = 'Like what you see? Visit the ' +\n",
              "            '<a target=\"_blank\" href=https://colab.research.google.com/notebooks/data_table.ipynb>data table notebook</a>'\n",
              "            + ' to learn more about interactive tables.';\n",
              "          element.innerHTML = '';\n",
              "          dataTable['output_type'] = 'display_data';\n",
              "          await google.colab.output.renderOutput(dataTable, element);\n",
              "          const docLink = document.createElement('div');\n",
              "          docLink.innerHTML = docLinkHtml;\n",
              "          element.appendChild(docLink);\n",
              "        }\n",
              "      </script>\n",
              "    </div>\n",
              "  </div>\n",
              "  "
            ]
          },
          "metadata": {},
          "execution_count": 132
        }
      ]
    },
    {
      "cell_type": "markdown",
      "source": [
        "(2 балла) Постройте график зависимости стоимости от вашего нового параметра размера для тренинг-выборки:"
      ],
      "metadata": {
        "id": "lhuRoIMRK3S3"
      }
    },
    {
      "cell_type": "code",
      "source": [
        "# your code here"
      ],
      "metadata": {
        "id": "zdXv0wimNNZq"
      },
      "execution_count": null,
      "outputs": []
    },
    {
      "cell_type": "markdown",
      "source": [
        "(2 балла) Нанесите на тот же график тестовую выборку, используя другой цвет (не забудьте про параметр прозрачности):"
      ],
      "metadata": {
        "id": "0cUx_FSiNOUx"
      }
    },
    {
      "cell_type": "code",
      "source": [
        "# your code here"
      ],
      "metadata": {
        "id": "R09w4W7VNnM2"
      },
      "execution_count": null,
      "outputs": []
    },
    {
      "cell_type": "markdown",
      "source": [
        "(3 балла) Найдите для каждой бриллианта из тестовой выборки его \"ближайшего соседа\" из тренинг-выборки. Для каждого бриллианта из тестовой выборки найдите расстояния до соответствующего ближайшего соседа:"
      ],
      "metadata": {
        "id": "VwIIccnpNnVj"
      }
    },
    {
      "cell_type": "code",
      "source": [
        "# your code here"
      ],
      "metadata": {
        "id": "t_jpKJ54OBb0"
      },
      "execution_count": null,
      "outputs": []
    },
    {
      "cell_type": "markdown",
      "source": [
        "(3 балла) Найдите насколько сильно (в процентах) отличается цена бриллиантов из тестовой выборки от их соответствующих ближайших соседей:"
      ],
      "metadata": {
        "id": "7R0uaHqurV_u"
      }
    },
    {
      "cell_type": "code",
      "source": [
        "# your code here"
      ],
      "metadata": {
        "id": "Uy2ngWJ4rn-4"
      },
      "execution_count": null,
      "outputs": []
    },
    {
      "cell_type": "markdown",
      "source": [
        "**Данная модель является выдумкой автора. Не важен коэффициент ошибки, важны ваши шаги для получения коэффициента.**"
      ],
      "metadata": {
        "id": "tl0CHY6_OAxU"
      }
    },
    {
      "cell_type": "markdown",
      "source": [
        "### Введение в машинное обучение"
      ],
      "metadata": {
        "id": "AbrAdKSUrqz5"
      }
    },
    {
      "cell_type": "markdown",
      "source": [
        "Теперь давайте познакомимся с таким сильным инструментом как `sklearn`."
      ],
      "metadata": {
        "id": "I6sqXZLYuox4"
      }
    },
    {
      "cell_type": "markdown",
      "source": [
        "Вам необходимо:\n",
        "1. выбрать 2 категориальных признака\n",
        "2. на их основе обучить решающее дерево\n",
        "3. оценить среднеквадратичную ошибку цены бриллианта\n",
        "4. сделать пп. 1-3 и выбрать ту пару, которая дает лучший результат\n",
        "5. сделать выводы"
      ],
      "metadata": {
        "id": "q4OpdbhwsuAX"
      }
    },
    {
      "cell_type": "markdown",
      "source": [
        "(3 балла) Мы работаем с категориальными признаками, для них не понятно что есть \"больше\" и \"меньше\". Поэтому нам нужно предварительно закодировать значения наших признаков, с чем нам поможет [OneHotEncoder](https://scikit-learn.org/stable/modules/generated/sklearn.preprocessing.OneHotEncoder.html):"
      ],
      "metadata": {
        "id": "rScraaVSxQlT"
      }
    },
    {
      "cell_type": "code",
      "source": [
        "# your code here"
      ],
      "metadata": {
        "id": "G8hDstLlxjry"
      },
      "execution_count": null,
      "outputs": []
    },
    {
      "cell_type": "markdown",
      "source": [
        "(3 балла) Разбейте датасет на обучающую и тестовую выбору. Для этого вам поможет [train_test_split](https://scikit-learn.org/stable/modules/generated/sklearn.model_selection.train_test_split.html):"
      ],
      "metadata": {
        "id": "ig8t-nmRvojA"
      }
    },
    {
      "cell_type": "code",
      "source": [
        "# your code here"
      ],
      "metadata": {
        "id": "ChVKP43AwY8i"
      },
      "execution_count": null,
      "outputs": []
    },
    {
      "cell_type": "markdown",
      "source": [
        "(3 балла) Затем создайте и обучите вашу модель - [DecisionTreeRegressor](https://scikit-learn.org/stable/modules/generated/sklearn.tree.DecisionTreeRegressor.html):"
      ],
      "metadata": {
        "id": "gbv2zLpkwZsq"
      }
    },
    {
      "cell_type": "code",
      "source": [
        "# your code here"
      ],
      "metadata": {
        "id": "Qfvv2j6Sws8p"
      },
      "execution_count": null,
      "outputs": []
    },
    {
      "cell_type": "markdown",
      "source": [
        "(3 балла) Оцените ошибку вашей модели при помощи [mean_squared_error](https://scikit-learn.org/stable/modules/generated/sklearn.metrics.mean_squared_error.html):"
      ],
      "metadata": {
        "id": "nUvBoY1pwtIv"
      }
    },
    {
      "cell_type": "code",
      "source": [
        "# your code here"
      ],
      "metadata": {
        "id": "q946oHPaxGA4"
      },
      "execution_count": null,
      "outputs": []
    },
    {
      "cell_type": "markdown",
      "source": [
        "(3 балла) **Сделайте выводы какие категориальные признаки лучше:**"
      ],
      "metadata": {
        "id": "scWwHLEKxGPl"
      }
    },
    {
      "cell_type": "markdown",
      "source": [
        "*Подсказки для маленьких: Что вы можете сказать о зависимости по вашей выборке признаков? Какой вы можете сделать вывод об готовых инструментах для работы и написанных Вами?*"
      ],
      "metadata": {
        "id": "djE6Ke2bL5WS"
      }
    },
    {
      "cell_type": "markdown",
      "source": [
        "Ваши выводы здесь :)"
      ],
      "metadata": {
        "id": "lu36_N58uvui"
      }
    }
  ]
}
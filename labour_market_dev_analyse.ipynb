{
 "cells": [
  {
   "cell_type": "markdown",
   "metadata": {},
   "source": [
    "# <a href=\"https://miptstats.github.io/courses/ad_fivt.html\">Введение в анализ данных</a>\n",
    "## Домашнее задание 10. Анализ вакансий.\n"
   ]
  },
  {
   "cell_type": "markdown",
   "metadata": {},
   "source": [
    "**Правила, <font color=\"red\">прочитайте внимательно</font>:**\n",
    "\n",
    "* Выполненную работу нужно отправить телеграм-боту `@miptstats_ds24_bot`. Для начала работы с ботом каждый раз отправляйте `/start`. Дождитесь подтверждения от бота, что он принял файл. Если подтверждения нет, то что-то не так. **Работы, присланные иным способом, не принимаются.**\n",
    "* Дедлайн см. в боте. После дедлайна работы не принимаются кроме случаев наличия уважительной причины.\n",
    "* Прислать нужно **ноутбук в формате `ipynb` и полученные данные** (подробности далее). Если вы строите интерактивные графики, их стоит прислать в формате html.\n",
    "* Следите за размером файлов. **Бот не может принимать файлы весом более 20 Мб.** Если файл получается больше, заранее разделите его на несколько.\n",
    "* Будьте внимательны при работе со сбором данных. Ответственность за корректность ваших действий лежит на вас. Не нагружайте сервера, *делайте паузы между запросами*. Как следствие, начинайте выполнять задание заранее. **Если вас где-то забаннили и т.п., то это не является уважительной причиной продления дедлайна.**\n",
    "* Выполнять задание необходимо полностью самостоятельно. **При обнаружении списывания все участники списывания будут сдавать устный зачет.**\n",
    "* Решения, размещенные на каких-либо интернет-ресурсах, не принимаются. Кроме того, публикация решения в открытом доступе может быть приравнена к предоставлении возможности списать.\n",
    "* Для выполнения задания используйте этот ноутбук в качестве основы, ничего не удаляя из него. Можно добавлять необходимое количество ячеек.\n",
    "* Комментарии к решению пишите в markdown-ячейках.\n",
    "* Выполнение задания (ход решения, выводы и пр.) должно быть осуществлено на русском языке.\n",
    "* Если код будет не понятен проверяющему, оценка может быть снижена.\n",
    "* Никакой код из данного задания при проверке запускаться не будет. *Если код студента не выполнен, недописан и т.д., то он не оценивается.*\n",
    "\n",
    "\n",
    "---\n",
    "\n",
    "**Баллы за задание:**\n",
    "\n",
    "<b><a href=\"#Сложная-часть\" style=\"text-decoration: none;\"><font color=\"orange\">Сложная часть</font></a></b> (учитывается только в основной части курса, необходимо на \"отл\"):\n",
    "* Задача 1 &mdash; 70 баллов\n",
    "\n",
    "<b><a href=\"#Факультативная-часть\" style=\"text-decoration: none;\"><font color=\"green\">Факультативная часть</font></a></b> (учитывается только в факультативной части курса):\n",
    "* Задача 2 &mdash; 30 баллов\n",
    "* Задача 3 &mdash; 70 баллов\n",
    "\n",
    "**Внимание!** Указанные баллы являются бонусными. Они не учитываются в максимальных суммах баллов в знаменателе при вычислении процента выполненных заданий. Но все полученные вами баллы будут учтены в числителе. Тем самым, выполняя или не выполняя домашку, вы не сможете понизить оценку, но сможете ее повысить."
   ]
  },
  {
   "cell_type": "code",
   "execution_count": 1,
   "metadata": {
    "ExecuteTime": {
     "end_time": "2024-05-02T18:37:22.803984Z",
     "start_time": "2024-05-02T18:37:22.800522Z"
    }
   },
   "outputs": [],
   "source": [
    "# Bot check\n",
    "\n",
    "# HW_ID: fpmi_ad10\n",
    "# Бот проверит этот ID и предупредит, если случайно сдать что-то не то.\n",
    "\n",
    "# Status: final\n",
    "# Перед отправкой в финальном решении удали \"not\" в строчке выше.\n",
    "# Так бот проверит, что ты отправляешь финальную версию, а не промежуточную.\n",
    "# Никакие значения в этой ячейке не влияют на факт сдачи работы."
   ]
  },
  {
   "cell_type": "code",
   "execution_count": 2,
   "metadata": {
    "ExecuteTime": {
     "end_time": "2024-05-02T18:37:23.761610Z",
     "start_time": "2024-05-02T18:37:22.805684Z"
    },
    "colab": {},
    "colab_type": "code",
    "id": "ht9Xm0EucoAr"
   },
   "outputs": [],
   "source": [
    "import requests\n",
    "from time import sleep\n",
    "import json\n",
    "\n",
    "import numpy as np\n",
    "import pandas as pd\n",
    "import matplotlib.pyplot as plt\n",
    "import seaborn as sns\n",
    "from tqdm import tqdm\n",
    "\n",
    "import ast\n",
    "from forex_python.converter import CurrencyRates\n",
    "import folium\n",
    "from IPython.display import IFrame\n",
    "\n",
    "sns.set(style=\"whitegrid\", font_scale=1.3, palette=\"Set2\")"
   ]
  },
  {
   "cell_type": "markdown",
   "metadata": {},
   "source": [
    "\n",
    "Второй курс &mdash; самое время задуматься о будущей профессии и проанализировать существующие предложения. Дело тут даже не в том, чтобы найти интересную стажировку. В первую очередь сейчас стоит подумать о том, в какую сторону развиваться дальше. Например, если вы хотите работать в какой-либо конкретной профессии, то наверняка стоит развивать какие-то определенные навыки, и даже выбрать подходящую кафедру. Анализ существующих вакансий поможет определить, какие навыки вам нужны. \n",
    "\n",
    "**Внимание!**\n",
    "В первую очередь задание призвано помочь вам понять, какие навыки стоит развивать, и может быть даже выбрать подходящую кафедру. Однако, не стоит идти на работу/стажировку раньше времени. Даже только летнюю, абсолютное большинство людей не могут работать круглый год без перерыва. У всех из вас 3 курс достаточно нагруженный, а на DS-потоке нагрузка с первой недели сентября. И если вы идете на стажировку, то каникул у вас может просто не остаться. Даже если вам сейчас/летом/в сентябре кажется \"я же справлюсь\", к ноябрю-декабрю с большой вероятностью вы выдохнетесь. Таких примеров *очень много*. Не все, кто-то успешно справляется совмещать работу и учебу, но таких *очень мало*. Берегите себя и свое здоровье :)\n",
    "\n",
    "---\n",
    "\n",
    "Задание предполагает вариативность исследуемых данных. Вы можете выбрать один из следующих вариантов.\n",
    "1. Стандартный вариант &mdash; проанализировать вакансии на сайте <a target=\"_blank\" href=\"https://hh.ru/\">hh.ru</a> с использованием <a target=\"_blank\" href=\"https://dev.hh.ru/\">официального API</a>. Далее приведен пример работы с этим API. *Если вы не достаточно уверены в своих силах, рекомендуется выбрать этот вариант.*\n",
    "2. Разобраться с API других сервисов по поиску вакансий, например, <a target=\"_blank\" href=\"https://career.habr.com/\">Хабр.Карьера</a> или <a target=\"_blank\" href=\"https://www.superjob.ru/\">SuperJob</a>.\n",
    "3. Извлечение данных с помощью <a target=\"_blank\" href=\"https://miptstats.github.io/courses/ad_fivt/data_parsing.html#2.-Парсинг-HTML-напрямую\">парсинга HTML напрямую</a> некоторых сайтов. Например, вы можете попробовать напрямую распарсить пул вакансий из тех источников, которые не предоставляют API. **Внимание! Обращайте внимание на пользовательские соглашения и на <a target=\"_blank\" href=\"https://miptstats.github.io/courses/ad_fivt/data_parsing.html#Сбор-данных-из-открытых-источников\">эти рекомендации</a>.**\n",
    "4. Комбинирование нескольких подходов. В этом случае нужно понимать, как находить одинаковые вакансии из разных источников для избежания их двойного учета.\n",
    "5. Можно также *дополнительно* брать архивные данные из недавнего прошлого, например, из <a target=\"_blank\" href=\"https://boosters.pro/championship/HeadHunter/overview/description\">этого соревнования</a>.\n",
    "\n",
    "Перед выполнением задания ознакомьтесь с <a target=\"_blank\" href=\"https://miptstats.github.io/courses/ad_fivt/data_parsing.html\">материалом</a> о сборе данных из открытых источников.\n",
    "\n",
    "Для получения максимального балла за задание достаточно выполнить все задание по стандартному варианту. Альтернативные варианты, даже более сложные, не дают больше баллов, чем максимальное количество баллов по стандартному варианту.\n",
    "\n",
    "Работа в некоторой степени творческая, поэтому конкретные детали решения в основном остаются на усмотрение автора решения. Например, если в вакансии зарплата укзана \"*от ...*\" или  \"*до ...*\", то вы сами решаете, как это обрабатывать, но не забывайте про четкую аргументацию. Не забывайте также заглядывать в презентацию по выполнению и оформлению домашних заданий с занятия 2."
   ]
  },
  {
   "cell_type": "markdown",
   "metadata": {},
   "source": [
    " ---\n",
    "### Справка по работе с API сервиса hh.ru.   \n",
    "\n",
    "<b><font color=\"red\">Внимание!</font> При работе с API не забывайте делать паузы между запросами, чтобы не задудосить сервер. Если вас заблокируют, это не будет являться уважительной причиной переноса дедлайна.</b>\n",
    "\n",
    "Мы будем работать только с вакансиями. Для этого не требуется регистрироваться и получать токен. Ниже приведен краткий пример работы с API. Подробное описание работы с вакансиями, включая параметры запросов и формат ответа можно почитать в <a target=\"_blank\" href=\"https://github.com/hhru/api/blob/master/docs/vacancies.md#search\">документации</a>.\n",
    "\n",
    "Например, мы хотим найти вакансии по запросу `Data Scientist` в Москве. Тогда первую страницу поиска из 10 вакансий на страницу мы можем получить с запроса к API:"
   ]
  },
  {
   "cell_type": "code",
   "execution_count": 3,
   "metadata": {
    "ExecuteTime": {
     "end_time": "2024-05-02T18:37:25.378457Z",
     "start_time": "2024-05-02T18:37:23.769505Z"
    }
   },
   "outputs": [],
   "source": [
    "URL = \"https://api.hh.ru/vacancies\"\n",
    "\n",
    "params = {\n",
    "    \"text\": \"Data Scientist\",\n",
    "    \"area\": 1,\n",
    "    \"page\": 0,\n",
    "    \"per_page\": 100,\n",
    "}\n",
    "\n",
    "req = requests.get(URL, params)\n",
    "data = json.loads(req.content.decode())"
   ]
  },
  {
   "cell_type": "markdown",
   "metadata": {},
   "source": [
    "Если все прошло успешно, полученный словарь будет иметь следующие ключи"
   ]
  },
  {
   "cell_type": "code",
   "execution_count": 4,
   "metadata": {
    "ExecuteTime": {
     "end_time": "2024-05-02T18:37:25.386082Z",
     "start_time": "2024-05-02T18:37:25.379910Z"
    }
   },
   "outputs": [
    {
     "data": {
      "text/plain": [
       "dict_keys(['items', 'found', 'pages', 'page', 'per_page', 'clusters', 'arguments', 'fixes', 'suggests', 'alternate_url'])"
      ]
     },
     "execution_count": 4,
     "metadata": {},
     "output_type": "execute_result"
    }
   ],
   "source": [
    "data.keys()"
   ]
  },
  {
   "cell_type": "markdown",
   "metadata": {},
   "source": [
    "Можем посмотреть на краткое описание первой вакансии"
   ]
  },
  {
   "cell_type": "code",
   "execution_count": 5,
   "metadata": {
    "ExecuteTime": {
     "end_time": "2024-05-02T18:37:25.402771Z",
     "start_time": "2024-05-02T18:37:25.387537Z"
    },
    "scrolled": false
   },
   "outputs": [
    {
     "data": {
      "text/plain": [
       "{'id': '98612984',\n",
       " 'premium': False,\n",
       " 'name': 'Petroleum Engineer (Baku)',\n",
       " 'department': None,\n",
       " 'has_test': False,\n",
       " 'response_letter_required': False,\n",
       " 'area': {'id': '1', 'name': 'Москва', 'url': 'https://api.hh.ru/areas/1'},\n",
       " 'salary': None,\n",
       " 'type': {'id': 'open', 'name': 'Открытая'},\n",
       " 'address': None,\n",
       " 'response_url': None,\n",
       " 'sort_point_distance': None,\n",
       " 'published_at': '2024-05-08T13:10:45+0300',\n",
       " 'created_at': '2024-05-08T13:10:45+0300',\n",
       " 'archived': False,\n",
       " 'apply_alternate_url': 'https://hh.ru/applicant/vacancy_response?vacancyId=98612984',\n",
       " 'show_logo_in_search': None,\n",
       " 'insider_interview': None,\n",
       " 'url': 'https://api.hh.ru/vacancies/98612984?host=hh.ru',\n",
       " 'alternate_url': 'https://hh.ru/vacancy/98612984',\n",
       " 'relations': [],\n",
       " 'employer': {'id': '1068',\n",
       "  'name': 'Cornerstone Russia',\n",
       "  'url': 'https://api.hh.ru/employers/1068',\n",
       "  'alternate_url': 'https://hh.ru/employer/1068',\n",
       "  'logo_urls': {'240': 'https://img.hhcdn.ru/employer-logo/1643847.jpeg',\n",
       "   'original': 'https://img.hhcdn.ru/employer-logo-original/300368.jpg',\n",
       "   '90': 'https://img.hhcdn.ru/employer-logo/1643846.jpeg'},\n",
       "  'vacancies_url': 'https://api.hh.ru/vacancies?employer_id=1068',\n",
       "  'accredited_it_employer': False,\n",
       "  'trusted': True},\n",
       " 'snippet': {'requirement': 'Fluent usage of professional software – PETEX (Prosper, MBal), Ecrin (Saphir, Topaze), WellFlow, FracproPT, PanSystem, Tempest, NGT Smart Basic <highlighttext>data</highlighttext> manipulation...',\n",
       "  'responsibility': 'Performing Inflow Performance Relationship (IPR) analysis. Setting up surface well production facilities. Keeping track of the well production history. '},\n",
       " 'contacts': None,\n",
       " 'schedule': {'id': 'fullDay', 'name': 'Полный день'},\n",
       " 'working_days': [],\n",
       " 'working_time_intervals': [],\n",
       " 'working_time_modes': [],\n",
       " 'accept_temporary': False,\n",
       " 'professional_roles': [{'id': '40', 'name': 'Другое'}],\n",
       " 'accept_incomplete_resumes': False,\n",
       " 'experience': {'id': 'between3And6', 'name': 'От 3 до 6 лет'},\n",
       " 'employment': {'id': 'full', 'name': 'Полная занятость'},\n",
       " 'adv_response_url': None,\n",
       " 'is_adv_vacancy': False,\n",
       " 'adv_context': None}"
      ]
     },
     "execution_count": 5,
     "metadata": {},
     "output_type": "execute_result"
    }
   ],
   "source": [
    "data[\"items\"][0]"
   ]
  },
  {
   "cell_type": "markdown",
   "metadata": {},
   "source": [
    "Сколько всего найдено вакансий"
   ]
  },
  {
   "cell_type": "code",
   "execution_count": 6,
   "metadata": {
    "ExecuteTime": {
     "end_time": "2024-05-02T18:37:25.414494Z",
     "start_time": "2024-05-02T18:37:25.404875Z"
    }
   },
   "outputs": [
    {
     "data": {
      "text/plain": [
       "352"
      ]
     },
     "execution_count": 6,
     "metadata": {},
     "output_type": "execute_result"
    }
   ],
   "source": [
    "data[\"found\"]"
   ]
  },
  {
   "cell_type": "markdown",
   "metadata": {},
   "source": [
    "Количество страниц в результатах поиска"
   ]
  },
  {
   "cell_type": "code",
   "execution_count": 7,
   "metadata": {
    "ExecuteTime": {
     "end_time": "2024-05-02T18:37:25.426241Z",
     "start_time": "2024-05-02T18:37:25.415941Z"
    }
   },
   "outputs": [
    {
     "data": {
      "text/plain": [
       "4"
      ]
     },
     "execution_count": 7,
     "metadata": {},
     "output_type": "execute_result"
    }
   ],
   "source": [
    "data[\"pages\"]"
   ]
  },
  {
   "cell_type": "markdown",
   "metadata": {},
   "source": [
    "Из результатов можем сделать удобную таблицу, причем в дальнейшем можно оставить только те колонки, которые необходимы для анализа."
   ]
  },
  {
   "cell_type": "code",
   "execution_count": 8,
   "metadata": {
    "ExecuteTime": {
     "end_time": "2024-05-02T18:37:25.455125Z",
     "start_time": "2024-05-02T18:37:25.428160Z"
    }
   },
   "outputs": [
    {
     "data": {
      "text/html": [
       "<div>\n",
       "<style scoped>\n",
       "    .dataframe tbody tr th:only-of-type {\n",
       "        vertical-align: middle;\n",
       "    }\n",
       "\n",
       "    .dataframe tbody tr th {\n",
       "        vertical-align: top;\n",
       "    }\n",
       "\n",
       "    .dataframe thead th {\n",
       "        text-align: right;\n",
       "    }\n",
       "</style>\n",
       "<table border=\"1\" class=\"dataframe\">\n",
       "  <thead>\n",
       "    <tr style=\"text-align: right;\">\n",
       "      <th></th>\n",
       "      <th>id</th>\n",
       "      <th>premium</th>\n",
       "      <th>name</th>\n",
       "      <th>department</th>\n",
       "      <th>has_test</th>\n",
       "      <th>response_letter_required</th>\n",
       "      <th>salary</th>\n",
       "      <th>address</th>\n",
       "      <th>response_url</th>\n",
       "      <th>sort_point_distance</th>\n",
       "      <th>...</th>\n",
       "      <th>address.metro.line_id</th>\n",
       "      <th>address.metro.lat</th>\n",
       "      <th>address.metro.lng</th>\n",
       "      <th>branding.type</th>\n",
       "      <th>branding.tariff</th>\n",
       "      <th>employer.logo_urls</th>\n",
       "      <th>department.id</th>\n",
       "      <th>department.name</th>\n",
       "      <th>insider_interview.id</th>\n",
       "      <th>insider_interview.url</th>\n",
       "    </tr>\n",
       "  </thead>\n",
       "  <tbody>\n",
       "    <tr>\n",
       "      <th>0</th>\n",
       "      <td>98612984</td>\n",
       "      <td>False</td>\n",
       "      <td>Petroleum Engineer (Baku)</td>\n",
       "      <td>NaN</td>\n",
       "      <td>False</td>\n",
       "      <td>False</td>\n",
       "      <td>NaN</td>\n",
       "      <td>NaN</td>\n",
       "      <td>None</td>\n",
       "      <td>None</td>\n",
       "      <td>...</td>\n",
       "      <td>NaN</td>\n",
       "      <td>NaN</td>\n",
       "      <td>NaN</td>\n",
       "      <td>NaN</td>\n",
       "      <td>NaN</td>\n",
       "      <td>NaN</td>\n",
       "      <td>NaN</td>\n",
       "      <td>NaN</td>\n",
       "      <td>NaN</td>\n",
       "      <td>NaN</td>\n",
       "    </tr>\n",
       "    <tr>\n",
       "      <th>1</th>\n",
       "      <td>98594437</td>\n",
       "      <td>False</td>\n",
       "      <td>Data Scientist</td>\n",
       "      <td>NaN</td>\n",
       "      <td>False</td>\n",
       "      <td>False</td>\n",
       "      <td>NaN</td>\n",
       "      <td>NaN</td>\n",
       "      <td>None</td>\n",
       "      <td>None</td>\n",
       "      <td>...</td>\n",
       "      <td>NaN</td>\n",
       "      <td>NaN</td>\n",
       "      <td>NaN</td>\n",
       "      <td>NaN</td>\n",
       "      <td>NaN</td>\n",
       "      <td>NaN</td>\n",
       "      <td>NaN</td>\n",
       "      <td>NaN</td>\n",
       "      <td>NaN</td>\n",
       "      <td>NaN</td>\n",
       "    </tr>\n",
       "    <tr>\n",
       "      <th>2</th>\n",
       "      <td>98592181</td>\n",
       "      <td>False</td>\n",
       "      <td>Аналитик данных/Junior DATA SCIENTIST</td>\n",
       "      <td>NaN</td>\n",
       "      <td>False</td>\n",
       "      <td>False</td>\n",
       "      <td>NaN</td>\n",
       "      <td>NaN</td>\n",
       "      <td>None</td>\n",
       "      <td>None</td>\n",
       "      <td>...</td>\n",
       "      <td>4</td>\n",
       "      <td>55.740544</td>\n",
       "      <td>37.534100</td>\n",
       "      <td>MAKEUP</td>\n",
       "      <td>None</td>\n",
       "      <td>NaN</td>\n",
       "      <td>NaN</td>\n",
       "      <td>NaN</td>\n",
       "      <td>NaN</td>\n",
       "      <td>NaN</td>\n",
       "    </tr>\n",
       "    <tr>\n",
       "      <th>3</th>\n",
       "      <td>97821551</td>\n",
       "      <td>False</td>\n",
       "      <td>Chief data officer</td>\n",
       "      <td>NaN</td>\n",
       "      <td>False</td>\n",
       "      <td>False</td>\n",
       "      <td>NaN</td>\n",
       "      <td>NaN</td>\n",
       "      <td>None</td>\n",
       "      <td>None</td>\n",
       "      <td>...</td>\n",
       "      <td>2</td>\n",
       "      <td>55.706634</td>\n",
       "      <td>37.657008</td>\n",
       "      <td>MAKEUP</td>\n",
       "      <td>None</td>\n",
       "      <td>NaN</td>\n",
       "      <td>NaN</td>\n",
       "      <td>NaN</td>\n",
       "      <td>NaN</td>\n",
       "      <td>NaN</td>\n",
       "    </tr>\n",
       "    <tr>\n",
       "      <th>4</th>\n",
       "      <td>97615359</td>\n",
       "      <td>False</td>\n",
       "      <td>Junior Data Scientist / Младший аналитик данных</td>\n",
       "      <td>NaN</td>\n",
       "      <td>False</td>\n",
       "      <td>False</td>\n",
       "      <td>NaN</td>\n",
       "      <td>NaN</td>\n",
       "      <td>None</td>\n",
       "      <td>None</td>\n",
       "      <td>...</td>\n",
       "      <td>NaN</td>\n",
       "      <td>NaN</td>\n",
       "      <td>NaN</td>\n",
       "      <td>MAKEUP</td>\n",
       "      <td>None</td>\n",
       "      <td>NaN</td>\n",
       "      <td>NaN</td>\n",
       "      <td>NaN</td>\n",
       "      <td>NaN</td>\n",
       "      <td>NaN</td>\n",
       "    </tr>\n",
       "  </tbody>\n",
       "</table>\n",
       "<p>5 rows × 79 columns</p>\n",
       "</div>"
      ],
      "text/plain": [
       "         id  premium                                             name  \\\n",
       "0  98612984    False                        Petroleum Engineer (Baku)   \n",
       "1  98594437    False                                   Data Scientist   \n",
       "2  98592181    False            Аналитик данных/Junior DATA SCIENTIST   \n",
       "3  97821551    False                               Chief data officer   \n",
       "4  97615359    False  Junior Data Scientist / Младший аналитик данных   \n",
       "\n",
       "   department  has_test  response_letter_required  salary  address  \\\n",
       "0         NaN     False                     False     NaN      NaN   \n",
       "1         NaN     False                     False     NaN      NaN   \n",
       "2         NaN     False                     False     NaN      NaN   \n",
       "3         NaN     False                     False     NaN      NaN   \n",
       "4         NaN     False                     False     NaN      NaN   \n",
       "\n",
       "  response_url sort_point_distance  ... address.metro.line_id  \\\n",
       "0         None                None  ...                   NaN   \n",
       "1         None                None  ...                   NaN   \n",
       "2         None                None  ...                     4   \n",
       "3         None                None  ...                     2   \n",
       "4         None                None  ...                   NaN   \n",
       "\n",
       "  address.metro.lat  address.metro.lng branding.type branding.tariff  \\\n",
       "0               NaN                NaN           NaN             NaN   \n",
       "1               NaN                NaN           NaN             NaN   \n",
       "2         55.740544          37.534100        MAKEUP            None   \n",
       "3         55.706634          37.657008        MAKEUP            None   \n",
       "4               NaN                NaN        MAKEUP            None   \n",
       "\n",
       "   employer.logo_urls department.id department.name insider_interview.id  \\\n",
       "0                 NaN           NaN             NaN                  NaN   \n",
       "1                 NaN           NaN             NaN                  NaN   \n",
       "2                 NaN           NaN             NaN                  NaN   \n",
       "3                 NaN           NaN             NaN                  NaN   \n",
       "4                 NaN           NaN             NaN                  NaN   \n",
       "\n",
       "  insider_interview.url  \n",
       "0                   NaN  \n",
       "1                   NaN  \n",
       "2                   NaN  \n",
       "3                   NaN  \n",
       "4                   NaN  \n",
       "\n",
       "[5 rows x 79 columns]"
      ]
     },
     "execution_count": 8,
     "metadata": {},
     "output_type": "execute_result"
    }
   ],
   "source": [
    "df = pd.json_normalize(data[\"items\"])\n",
    "df.head()"
   ]
  },
  {
   "cell_type": "markdown",
   "metadata": {},
   "source": [
    "Для получения полного описания вакансии потребуется задать отдельный запрос, используя ее `id`."
   ]
  },
  {
   "cell_type": "code",
   "execution_count": 9,
   "metadata": {
    "ExecuteTime": {
     "end_time": "2024-05-02T18:37:25.564865Z",
     "start_time": "2024-05-02T18:37:25.457599Z"
    }
   },
   "outputs": [],
   "source": [
    "vacancy = df[\"id\"].iloc[0]\n",
    "vacancy_url = f\"https://api.hh.ru/vacancies/{vacancy}\"\n",
    "\n",
    "req = requests.get(vacancy_url)\n",
    "vacancy_info = json.loads(req.content.decode())"
   ]
  },
  {
   "cell_type": "code",
   "execution_count": 10,
   "metadata": {
    "ExecuteTime": {
     "end_time": "2024-05-02T18:37:25.573084Z",
     "start_time": "2024-05-02T18:37:25.566564Z"
    },
    "scrolled": false
   },
   "outputs": [
    {
     "data": {
      "text/plain": [
       "{'id': '98612984',\n",
       " 'premium': False,\n",
       " 'billing_type': {'id': 'standard', 'name': 'Стандарт'},\n",
       " 'relations': [],\n",
       " 'name': 'Petroleum Engineer (Baku)',\n",
       " 'insider_interview': None,\n",
       " 'response_letter_required': False,\n",
       " 'area': {'id': '1', 'name': 'Москва', 'url': 'https://api.hh.ru/areas/1'},\n",
       " 'salary': None,\n",
       " 'type': {'id': 'open', 'name': 'Открытая'},\n",
       " 'address': None,\n",
       " 'allow_messages': True,\n",
       " 'experience': {'id': 'between3And6', 'name': 'От 3 до 6 лет'},\n",
       " 'schedule': {'id': 'fullDay', 'name': 'Полный день'},\n",
       " 'employment': {'id': 'full', 'name': 'Полная занятость'},\n",
       " 'department': None,\n",
       " 'contacts': None,\n",
       " 'description': '<p><strong>PE Specialist will be working with Data Scientists to solve complex Petroleum Engineering problems by development of digital solutions and automation techniques.</strong></p> <p><strong>Responsibilities for this position may include but are not limited to:</strong></p> <ul> <li> <p>Performing Inflow Performance Relationship (IPR) analysis;</p> </li> <li> <p>Setting up surface well production facilities;</p> </li> <li> <p>Keeping track of the well production history;</p> </li> <li> <p>Working with completion engineers to design completion systems and stimulation techniques to maximize the production;</p> </li> <li> <p>Managing fluid treatment and disposal;</p> </li> <li> <p>Performing nodal analysis to ensure the optimal design for well production equipment is used;</p> </li> <li> <p>Designing and optimizing artificial lift systems to increase production rates. This involves working with sucker rod pumps, gas lifts, ESPs, PCPs, and hydraulic pumps;</p> </li> <li> <p>Forecasting well production and performing economic analysis</p> </li> <li> <p>Monitoring production performance and addressing any problems when the wells are not producing as expected;</p> </li> <li> <p>Designing workover well operations to improve production. This includes writing procedures and performing economic evaluations of the proposed operations;</p> </li> <li> <p>Planning Enhanced Oil Recovery (EOR) operations such as water flooding, CO2 injection, and chemical flooding.</p> </li> </ul> <p><strong>Required Qualifications:</strong></p> <ul> <li> <p>Bachelor’s or Master’s degree in Petroleum Engineering or related field;</p> </li> <li> <p>5+ years’ experience as a production engineer in an upstream oil and gas industry;</p> </li> <li> <p>An intensive knowledge on different type of well stimulations from planning, designing and execution point of view;</p> </li> <li> <p>Expertise of the different fluid systems/stimulation completions;</p> </li> <li> <p>Skills in evaluating well performance pre - and post stimulation;</p> </li> <li> <p>Depth theoretical and hands-on knowledge of productivity enhancement performance evaluation techniques ;</p> </li> <li> <p>Ability to apply knowledge gained from industry and academia to generate practical solutions in upstream oil and gas production;</p> </li> <li> <p>Knowledge of reservoir characterization and geologic modeling, petro-physical evaluation, core analysis, reservoir management, and production engineering;</p> </li> <li> <p>Good communication, report writing and presentation skills in English, ability to deliver his/her ideas to the R&amp;D team, the collaborators, and proponents;</p> </li> <li> <p>Fluent usage of professional software – PETEX (Prosper, MBal), Ecrin (Saphir, Topaze), WellFlow, FracproPT, PanSystem, Tempest, NGT Smart Basic data manipulation techniques (Python, etc.) is a plus.</p> </li> </ul> <p> </p>',\n",
       " 'branded_description': None,\n",
       " 'vacancy_constructor_template': None,\n",
       " 'key_skills': [],\n",
       " 'accept_handicapped': False,\n",
       " 'accept_kids': False,\n",
       " 'archived': False,\n",
       " 'response_url': None,\n",
       " 'specializations': [],\n",
       " 'professional_roles': [{'id': '40', 'name': 'Другое'}],\n",
       " 'code': None,\n",
       " 'hidden': False,\n",
       " 'quick_responses_allowed': False,\n",
       " 'driver_license_types': [],\n",
       " 'accept_incomplete_resumes': False,\n",
       " 'employer': {'id': '1068',\n",
       "  'name': 'Cornerstone Russia',\n",
       "  'url': 'https://api.hh.ru/employers/1068',\n",
       "  'alternate_url': 'https://hh.ru/employer/1068',\n",
       "  'logo_urls': {'240': 'https://img.hhcdn.ru/employer-logo/1643847.jpeg',\n",
       "   'original': 'https://img.hhcdn.ru/employer-logo-original/300368.jpg',\n",
       "   '90': 'https://img.hhcdn.ru/employer-logo/1643846.jpeg'},\n",
       "  'vacancies_url': 'https://api.hh.ru/vacancies?employer_id=1068',\n",
       "  'accredited_it_employer': False,\n",
       "  'trusted': True},\n",
       " 'published_at': '2024-05-08T13:10:45+0300',\n",
       " 'created_at': '2024-05-08T13:10:45+0300',\n",
       " 'initial_created_at': '2024-05-08T13:10:45+0300',\n",
       " 'negotiations_url': None,\n",
       " 'suitable_resumes_url': None,\n",
       " 'apply_alternate_url': 'https://hh.ru/applicant/vacancy_response?vacancyId=98612984',\n",
       " 'has_test': False,\n",
       " 'test': None,\n",
       " 'alternate_url': 'https://hh.ru/vacancy/98612984',\n",
       " 'working_days': [],\n",
       " 'working_time_intervals': [],\n",
       " 'working_time_modes': [],\n",
       " 'accept_temporary': False,\n",
       " 'languages': [],\n",
       " 'approved': True}"
      ]
     },
     "execution_count": 10,
     "metadata": {},
     "output_type": "execute_result"
    }
   ],
   "source": [
    "vacancy_info"
   ]
  },
  {
   "cell_type": "markdown",
   "metadata": {},
   "source": [
    "---\n",
    "\n",
    "### <font color=\"orange\"><i>Сложная часть</i></font>"
   ]
  },
  {
   "cell_type": "markdown",
   "metadata": {},
   "source": [
    " ---\n",
    "### Задача 1.   \n",
    "\n",
    "Исследуем профессию Data Scientist. Найдите как можно больше вакансий по этой профессии в Москве. Учтите, что имеет смысл искать также по другим ключевым словам, например, `аналитик данных`."
   ]
  },
  {
   "cell_type": "code",
   "execution_count": 11,
   "metadata": {},
   "outputs": [
    {
     "name": "stdout",
     "output_type": "stream",
     "text": [
      "Специалист по анализу данных found: 4038, pages: 20\n",
      "Аналитик данных found: 8990, pages: 20\n",
      "Специалист по машинному обучению found: 650, pages: 7\n",
      "Data Scientist found: 352, pages: 4\n",
      "Machine Learning Engineer found: 110, pages: 2\n"
     ]
    }
   ],
   "source": [
    "URL = 'https://api.hh.ru/vacancies'\n",
    "per_page = 100\n",
    "\n",
    "all_data = []\n",
    "\n",
    "names_of_vacancy = ['Специалист по анализу данных',\n",
    "                    'Аналитик данных',\n",
    "                    'Специалист по машинному обучению',\n",
    "                    'Data Scientist',\n",
    "                    'Machine Learning Engineer'\n",
    "                    ]\n",
    "\n",
    "for vacancy_name in names_of_vacancy:\n",
    "  params = {\n",
    "      'text': vacancy_name,\n",
    "      'area': 1,\n",
    "      'page': 0,\n",
    "      \"per_page\": per_page,\n",
    "  }\n",
    "\n",
    "  req = requests.get(URL, params)\n",
    "  data = json.loads(req.content.decode())\n",
    "\n",
    "  found = data['found']\n",
    "  pages = data['pages']\n",
    "\n",
    "  print(f'{vacancy_name} found: {found}, pages: {pages}')\n",
    "\n",
    "  for page in range(pages):\n",
    "    params = {\n",
    "      'text': vacancy_name,\n",
    "      'area': 1,\n",
    "      'page': page,\n",
    "      \"per_page\": per_page,\n",
    "    }\n",
    "\n",
    "    req = requests.get(URL, params)\n",
    "    data = json.loads(req.content.decode())\n",
    "\n",
    "    vacancies = data.get('items', [])\n",
    "    all_data.extend(vacancies)\n",
    "df = pd.DataFrame(all_data)\n",
    "df.to_csv('data.csv', index=False)"
   ]
  },
  {
   "cell_type": "code",
   "execution_count": 12,
   "metadata": {},
   "outputs": [
    {
     "name": "stdout",
     "output_type": "stream",
     "text": [
      "5112\n"
     ]
    }
   ],
   "source": [
    "print(len(df))"
   ]
  },
  {
   "cell_type": "markdown",
   "metadata": {},
   "source": [
    "В полученную выборку некоторые вакансии могли попасть несколько раз. Удалите дубликаты."
   ]
  },
  {
   "cell_type": "code",
   "execution_count": 13,
   "metadata": {},
   "outputs": [
    {
     "name": "stdout",
     "output_type": "stream",
     "text": [
      "final len: 1783\n"
     ]
    },
    {
     "data": {
      "text/html": [
       "<div>\n",
       "<style scoped>\n",
       "    .dataframe tbody tr th:only-of-type {\n",
       "        vertical-align: middle;\n",
       "    }\n",
       "\n",
       "    .dataframe tbody tr th {\n",
       "        vertical-align: top;\n",
       "    }\n",
       "\n",
       "    .dataframe thead th {\n",
       "        text-align: right;\n",
       "    }\n",
       "</style>\n",
       "<table border=\"1\" class=\"dataframe\">\n",
       "  <thead>\n",
       "    <tr style=\"text-align: right;\">\n",
       "      <th></th>\n",
       "      <th>id</th>\n",
       "      <th>premium</th>\n",
       "      <th>name</th>\n",
       "      <th>department</th>\n",
       "      <th>has_test</th>\n",
       "      <th>response_letter_required</th>\n",
       "      <th>area</th>\n",
       "      <th>salary</th>\n",
       "      <th>type</th>\n",
       "      <th>address</th>\n",
       "      <th>...</th>\n",
       "      <th>working_time_modes</th>\n",
       "      <th>accept_temporary</th>\n",
       "      <th>professional_roles</th>\n",
       "      <th>accept_incomplete_resumes</th>\n",
       "      <th>experience</th>\n",
       "      <th>employment</th>\n",
       "      <th>adv_response_url</th>\n",
       "      <th>is_adv_vacancy</th>\n",
       "      <th>adv_context</th>\n",
       "      <th>branding</th>\n",
       "    </tr>\n",
       "  </thead>\n",
       "  <tbody>\n",
       "    <tr>\n",
       "      <th>0</th>\n",
       "      <td>97294573</td>\n",
       "      <td>False</td>\n",
       "      <td>Специалист по тендерам по 44ФЗ, 223ФЗ, 615-П (...</td>\n",
       "      <td>NaN</td>\n",
       "      <td>False</td>\n",
       "      <td>False</td>\n",
       "      <td>{'id': '1', 'name': 'Москва', 'url': 'https://...</td>\n",
       "      <td>{'from': 20000, 'to': 75000, 'currency': 'RUR'...</td>\n",
       "      <td>{'id': 'open', 'name': 'Открытая'}</td>\n",
       "      <td>NaN</td>\n",
       "      <td>...</td>\n",
       "      <td>[]</td>\n",
       "      <td>True</td>\n",
       "      <td>[{'id': '119', 'name': 'Специалист по тендерам'}]</td>\n",
       "      <td>False</td>\n",
       "      <td>{'id': 'between1And3', 'name': 'От 1 года до 3...</td>\n",
       "      <td>{'id': 'part', 'name': 'Частичная занятость'}</td>\n",
       "      <td>NaN</td>\n",
       "      <td>False</td>\n",
       "      <td>NaN</td>\n",
       "      <td>NaN</td>\n",
       "    </tr>\n",
       "    <tr>\n",
       "      <th>1</th>\n",
       "      <td>98489422</td>\n",
       "      <td>False</td>\n",
       "      <td>Веб-аналитик (обучим сами)</td>\n",
       "      <td>NaN</td>\n",
       "      <td>False</td>\n",
       "      <td>True</td>\n",
       "      <td>{'id': '1', 'name': 'Москва', 'url': 'https://...</td>\n",
       "      <td>{'from': 50000, 'to': 50000, 'currency': 'RUR'...</td>\n",
       "      <td>{'id': 'open', 'name': 'Открытая'}</td>\n",
       "      <td>NaN</td>\n",
       "      <td>...</td>\n",
       "      <td>[]</td>\n",
       "      <td>True</td>\n",
       "      <td>[{'id': '10', 'name': 'Аналитик'}]</td>\n",
       "      <td>False</td>\n",
       "      <td>{'id': 'noExperience', 'name': 'Нет опыта'}</td>\n",
       "      <td>{'id': 'full', 'name': 'Полная занятость'}</td>\n",
       "      <td>NaN</td>\n",
       "      <td>False</td>\n",
       "      <td>NaN</td>\n",
       "      <td>NaN</td>\n",
       "    </tr>\n",
       "    <tr>\n",
       "      <th>3</th>\n",
       "      <td>98072369</td>\n",
       "      <td>False</td>\n",
       "      <td>Специалист по работе с данными EXCEL</td>\n",
       "      <td>NaN</td>\n",
       "      <td>False</td>\n",
       "      <td>False</td>\n",
       "      <td>{'id': '1', 'name': 'Москва', 'url': 'https://...</td>\n",
       "      <td>{'from': 120000, 'to': 120000, 'currency': 'RU...</td>\n",
       "      <td>{'id': 'open', 'name': 'Открытая'}</td>\n",
       "      <td>{'city': 'Москва', 'street': 'Калининская лини...</td>\n",
       "      <td>...</td>\n",
       "      <td>[]</td>\n",
       "      <td>False</td>\n",
       "      <td>[{'id': '10', 'name': 'Аналитик'}]</td>\n",
       "      <td>False</td>\n",
       "      <td>{'id': 'noExperience', 'name': 'Нет опыта'}</td>\n",
       "      <td>{'id': 'full', 'name': 'Полная занятость'}</td>\n",
       "      <td>NaN</td>\n",
       "      <td>False</td>\n",
       "      <td>NaN</td>\n",
       "      <td>NaN</td>\n",
       "    </tr>\n",
       "    <tr>\n",
       "      <th>4</th>\n",
       "      <td>98465024</td>\n",
       "      <td>False</td>\n",
       "      <td>Стажер-разработчик Python</td>\n",
       "      <td>NaN</td>\n",
       "      <td>False</td>\n",
       "      <td>False</td>\n",
       "      <td>{'id': '1', 'name': 'Москва', 'url': 'https://...</td>\n",
       "      <td>{'from': None, 'to': 10000, 'currency': 'RUR',...</td>\n",
       "      <td>{'id': 'open', 'name': 'Открытая'}</td>\n",
       "      <td>NaN</td>\n",
       "      <td>...</td>\n",
       "      <td>[{'id': 'start_after_sixteen', 'name': 'Можно ...</td>\n",
       "      <td>False</td>\n",
       "      <td>[{'id': '96', 'name': 'Программист, разработчи...</td>\n",
       "      <td>True</td>\n",
       "      <td>{'id': 'noExperience', 'name': 'Нет опыта'}</td>\n",
       "      <td>{'id': 'probation', 'name': 'Стажировка'}</td>\n",
       "      <td>NaN</td>\n",
       "      <td>False</td>\n",
       "      <td>NaN</td>\n",
       "      <td>NaN</td>\n",
       "    </tr>\n",
       "    <tr>\n",
       "      <th>6</th>\n",
       "      <td>97928304</td>\n",
       "      <td>False</td>\n",
       "      <td>Генеральный директор (удаленно)</td>\n",
       "      <td>NaN</td>\n",
       "      <td>False</td>\n",
       "      <td>False</td>\n",
       "      <td>{'id': '1', 'name': 'Москва', 'url': 'https://...</td>\n",
       "      <td>{'from': 300000, 'to': None, 'currency': 'RUR'...</td>\n",
       "      <td>{'id': 'open', 'name': 'Открытая'}</td>\n",
       "      <td>NaN</td>\n",
       "      <td>...</td>\n",
       "      <td>[]</td>\n",
       "      <td>False</td>\n",
       "      <td>[{'id': '26', 'name': 'Генеральный директор, и...</td>\n",
       "      <td>False</td>\n",
       "      <td>{'id': 'between3And6', 'name': 'От 3 до 6 лет'}</td>\n",
       "      <td>{'id': 'full', 'name': 'Полная занятость'}</td>\n",
       "      <td>NaN</td>\n",
       "      <td>False</td>\n",
       "      <td>NaN</td>\n",
       "      <td>NaN</td>\n",
       "    </tr>\n",
       "  </tbody>\n",
       "</table>\n",
       "<p>5 rows × 37 columns</p>\n",
       "</div>"
      ],
      "text/plain": [
       "         id  premium                                               name  \\\n",
       "0  97294573    False  Специалист по тендерам по 44ФЗ, 223ФЗ, 615-П (...   \n",
       "1  98489422    False                         Веб-аналитик (обучим сами)   \n",
       "3  98072369    False               Специалист по работе с данными EXCEL   \n",
       "4  98465024    False                          Стажер-разработчик Python   \n",
       "6  97928304    False                    Генеральный директор (удаленно)   \n",
       "\n",
       "  department  has_test  response_letter_required  \\\n",
       "0        NaN     False                     False   \n",
       "1        NaN     False                      True   \n",
       "3        NaN     False                     False   \n",
       "4        NaN     False                     False   \n",
       "6        NaN     False                     False   \n",
       "\n",
       "                                                area  \\\n",
       "0  {'id': '1', 'name': 'Москва', 'url': 'https://...   \n",
       "1  {'id': '1', 'name': 'Москва', 'url': 'https://...   \n",
       "3  {'id': '1', 'name': 'Москва', 'url': 'https://...   \n",
       "4  {'id': '1', 'name': 'Москва', 'url': 'https://...   \n",
       "6  {'id': '1', 'name': 'Москва', 'url': 'https://...   \n",
       "\n",
       "                                              salary  \\\n",
       "0  {'from': 20000, 'to': 75000, 'currency': 'RUR'...   \n",
       "1  {'from': 50000, 'to': 50000, 'currency': 'RUR'...   \n",
       "3  {'from': 120000, 'to': 120000, 'currency': 'RU...   \n",
       "4  {'from': None, 'to': 10000, 'currency': 'RUR',...   \n",
       "6  {'from': 300000, 'to': None, 'currency': 'RUR'...   \n",
       "\n",
       "                                 type  \\\n",
       "0  {'id': 'open', 'name': 'Открытая'}   \n",
       "1  {'id': 'open', 'name': 'Открытая'}   \n",
       "3  {'id': 'open', 'name': 'Открытая'}   \n",
       "4  {'id': 'open', 'name': 'Открытая'}   \n",
       "6  {'id': 'open', 'name': 'Открытая'}   \n",
       "\n",
       "                                             address  ...  \\\n",
       "0                                                NaN  ...   \n",
       "1                                                NaN  ...   \n",
       "3  {'city': 'Москва', 'street': 'Калининская лини...  ...   \n",
       "4                                                NaN  ...   \n",
       "6                                                NaN  ...   \n",
       "\n",
       "                                  working_time_modes  accept_temporary  \\\n",
       "0                                                 []              True   \n",
       "1                                                 []              True   \n",
       "3                                                 []             False   \n",
       "4  [{'id': 'start_after_sixteen', 'name': 'Можно ...             False   \n",
       "6                                                 []             False   \n",
       "\n",
       "                                  professional_roles  \\\n",
       "0  [{'id': '119', 'name': 'Специалист по тендерам'}]   \n",
       "1                 [{'id': '10', 'name': 'Аналитик'}]   \n",
       "3                 [{'id': '10', 'name': 'Аналитик'}]   \n",
       "4  [{'id': '96', 'name': 'Программист, разработчи...   \n",
       "6  [{'id': '26', 'name': 'Генеральный директор, и...   \n",
       "\n",
       "  accept_incomplete_resumes  \\\n",
       "0                     False   \n",
       "1                     False   \n",
       "3                     False   \n",
       "4                      True   \n",
       "6                     False   \n",
       "\n",
       "                                          experience  \\\n",
       "0  {'id': 'between1And3', 'name': 'От 1 года до 3...   \n",
       "1        {'id': 'noExperience', 'name': 'Нет опыта'}   \n",
       "3        {'id': 'noExperience', 'name': 'Нет опыта'}   \n",
       "4        {'id': 'noExperience', 'name': 'Нет опыта'}   \n",
       "6    {'id': 'between3And6', 'name': 'От 3 до 6 лет'}   \n",
       "\n",
       "                                      employment adv_response_url  \\\n",
       "0  {'id': 'part', 'name': 'Частичная занятость'}              NaN   \n",
       "1     {'id': 'full', 'name': 'Полная занятость'}              NaN   \n",
       "3     {'id': 'full', 'name': 'Полная занятость'}              NaN   \n",
       "4      {'id': 'probation', 'name': 'Стажировка'}              NaN   \n",
       "6     {'id': 'full', 'name': 'Полная занятость'}              NaN   \n",
       "\n",
       "  is_adv_vacancy adv_context branding  \n",
       "0          False         NaN      NaN  \n",
       "1          False         NaN      NaN  \n",
       "3          False         NaN      NaN  \n",
       "4          False         NaN      NaN  \n",
       "6          False         NaN      NaN  \n",
       "\n",
       "[5 rows x 37 columns]"
      ]
     },
     "execution_count": 13,
     "metadata": {},
     "output_type": "execute_result"
    }
   ],
   "source": [
    "df_load = pd.read_csv('data.csv')\n",
    "unique_df = df_load.drop_duplicates(subset=['id'])\n",
    "deleted_df = unique_df.dropna(subset=['salary'])\n",
    "print(f'final len: {len(deleted_df)}')\n",
    "deleted_df.head()"
   ]
  },
  {
   "cell_type": "markdown",
   "metadata": {},
   "source": [
    "Загрузите подробное описание каждой вакансии и создайте удобную для дальнейших действий таблицу данных."
   ]
  },
  {
   "cell_type": "code",
   "execution_count": 14,
   "metadata": {},
   "outputs": [],
   "source": [
    "def extract_salary(row):\n",
    "    return pd.Series([ast.literal_eval(row)['from'], ast.literal_eval(row)['to'], ast.literal_eval(row)['currency']])\n",
    "\n",
    "def extract_address(row):\n",
    "    return pd.Series([ast.literal_eval(row)['lat'], ast.literal_eval(row)['lng']])\n"
   ]
  },
  {
   "cell_type": "code",
   "execution_count": 15,
   "metadata": {},
   "outputs": [
    {
     "data": {
      "text/html": [
       "<div>\n",
       "<style scoped>\n",
       "    .dataframe tbody tr th:only-of-type {\n",
       "        vertical-align: middle;\n",
       "    }\n",
       "\n",
       "    .dataframe tbody tr th {\n",
       "        vertical-align: top;\n",
       "    }\n",
       "\n",
       "    .dataframe thead th {\n",
       "        text-align: right;\n",
       "    }\n",
       "</style>\n",
       "<table border=\"1\" class=\"dataframe\">\n",
       "  <thead>\n",
       "    <tr style=\"text-align: right;\">\n",
       "      <th></th>\n",
       "      <th>id</th>\n",
       "      <th>name</th>\n",
       "      <th>schedule</th>\n",
       "      <th>employment</th>\n",
       "      <th>from</th>\n",
       "      <th>to</th>\n",
       "      <th>currency</th>\n",
       "    </tr>\n",
       "  </thead>\n",
       "  <tbody>\n",
       "    <tr>\n",
       "      <th>0</th>\n",
       "      <td>97294573</td>\n",
       "      <td>Специалист по тендерам по 44ФЗ, 223ФЗ, 615-П (...</td>\n",
       "      <td>{'id': 'remote', 'name': 'Удаленная работа'}</td>\n",
       "      <td>{'id': 'part', 'name': 'Частичная занятость'}</td>\n",
       "      <td>20000.0</td>\n",
       "      <td>75000.0</td>\n",
       "      <td>RUR</td>\n",
       "    </tr>\n",
       "    <tr>\n",
       "      <th>1</th>\n",
       "      <td>98489422</td>\n",
       "      <td>Веб-аналитик (обучим сами)</td>\n",
       "      <td>{'id': 'remote', 'name': 'Удаленная работа'}</td>\n",
       "      <td>{'id': 'full', 'name': 'Полная занятость'}</td>\n",
       "      <td>50000.0</td>\n",
       "      <td>50000.0</td>\n",
       "      <td>RUR</td>\n",
       "    </tr>\n",
       "    <tr>\n",
       "      <th>2</th>\n",
       "      <td>98072369</td>\n",
       "      <td>Специалист по работе с данными EXCEL</td>\n",
       "      <td>{'id': 'fullDay', 'name': 'Полный день'}</td>\n",
       "      <td>{'id': 'full', 'name': 'Полная занятость'}</td>\n",
       "      <td>120000.0</td>\n",
       "      <td>120000.0</td>\n",
       "      <td>RUR</td>\n",
       "    </tr>\n",
       "    <tr>\n",
       "      <th>3</th>\n",
       "      <td>98465024</td>\n",
       "      <td>Стажер-разработчик Python</td>\n",
       "      <td>{'id': 'remote', 'name': 'Удаленная работа'}</td>\n",
       "      <td>{'id': 'probation', 'name': 'Стажировка'}</td>\n",
       "      <td>NaN</td>\n",
       "      <td>10000.0</td>\n",
       "      <td>RUR</td>\n",
       "    </tr>\n",
       "    <tr>\n",
       "      <th>4</th>\n",
       "      <td>97928304</td>\n",
       "      <td>Генеральный директор (удаленно)</td>\n",
       "      <td>{'id': 'remote', 'name': 'Удаленная работа'}</td>\n",
       "      <td>{'id': 'full', 'name': 'Полная занятость'}</td>\n",
       "      <td>300000.0</td>\n",
       "      <td>NaN</td>\n",
       "      <td>RUR</td>\n",
       "    </tr>\n",
       "  </tbody>\n",
       "</table>\n",
       "</div>"
      ],
      "text/plain": [
       "         id                                               name  \\\n",
       "0  97294573  Специалист по тендерам по 44ФЗ, 223ФЗ, 615-П (...   \n",
       "1  98489422                         Веб-аналитик (обучим сами)   \n",
       "2  98072369               Специалист по работе с данными EXCEL   \n",
       "3  98465024                          Стажер-разработчик Python   \n",
       "4  97928304                    Генеральный директор (удаленно)   \n",
       "\n",
       "                                       schedule  \\\n",
       "0  {'id': 'remote', 'name': 'Удаленная работа'}   \n",
       "1  {'id': 'remote', 'name': 'Удаленная работа'}   \n",
       "2      {'id': 'fullDay', 'name': 'Полный день'}   \n",
       "3  {'id': 'remote', 'name': 'Удаленная работа'}   \n",
       "4  {'id': 'remote', 'name': 'Удаленная работа'}   \n",
       "\n",
       "                                      employment      from        to currency  \n",
       "0  {'id': 'part', 'name': 'Частичная занятость'}   20000.0   75000.0      RUR  \n",
       "1     {'id': 'full', 'name': 'Полная занятость'}   50000.0   50000.0      RUR  \n",
       "2     {'id': 'full', 'name': 'Полная занятость'}  120000.0  120000.0      RUR  \n",
       "3      {'id': 'probation', 'name': 'Стажировка'}       NaN   10000.0      RUR  \n",
       "4     {'id': 'full', 'name': 'Полная занятость'}  300000.0       NaN      RUR  "
      ]
     },
     "execution_count": 15,
     "metadata": {},
     "output_type": "execute_result"
    }
   ],
   "source": [
    "use = deleted_df[['id', 'name', 'salary', 'schedule', 'employment']].copy()\n",
    "use[['from', 'to', 'currency']] = use['salary'].apply(lambda x: extract_salary(x))\n",
    "use.drop(['salary'], axis=1, inplace=True)\n",
    "use_for_analyze = use.reset_index(drop=True)\n",
    "use_for_analyze.head()"
   ]
  },
  {
   "cell_type": "markdown",
   "metadata": {},
   "source": [
    "**Полученную таблицу необходимо сохранить в формате xlsx и отправить боту вместе с решением.**"
   ]
  },
  {
   "cell_type": "code",
   "execution_count": 16,
   "metadata": {},
   "outputs": [],
   "source": [
    "df_add_cl = deleted_df.dropna(subset=['address'])\n",
    "df1 = df_add_cl[['id', 'name', 'salary', 'address', 'schedule', 'employment']].copy()\n",
    "df1[['from', 'to', 'currency']] = df1['salary'].apply(lambda x: extract_salary(x))\n",
    "df1[['lat', 'lng']] = df1['address'].apply(lambda x: extract_address(x))\n",
    "df1.drop(['salary'], axis=1, inplace=True)\n",
    "df_analyse = df1.reset_index(drop=True)\n",
    "df_analyse.to_excel('vacancy_data_science.xlsx', index=False)"
   ]
  },
  {
   "cell_type": "markdown",
   "metadata": {},
   "source": [
    "**Вопрос 1.** Сколько сейчас доступно вакансий по вашему запросу?"
   ]
  },
  {
   "cell_type": "code",
   "execution_count": 17,
   "metadata": {},
   "outputs": [
    {
     "data": {
      "text/plain": [
       "1783"
      ]
     },
     "execution_count": 17,
     "metadata": {},
     "output_type": "execute_result"
    }
   ],
   "source": [
    "len(use_for_analyze)"
   ]
  },
  {
   "cell_type": "markdown",
   "metadata": {},
   "source": [
    "**Вопрос 2.** Какие навыки чаще всего встречаются в вакансиях по данной специальности?\n",
    "\n",
    "Для этого найдите соответствующее поле в данных из полного описания вакансий, проанализируйте его и составьте список навыков и количество упоминаний каждого. Визуализируйте полученную информацию по топ-15 навыков."
   ]
  },
  {
   "cell_type": "code",
   "execution_count": 18,
   "metadata": {},
   "outputs": [
    {
     "name": "stderr",
     "output_type": "stream",
     "text": [
      "100%|██████████| 1783/1783 [05:29<00:00,  5.41it/s]\n"
     ]
    }
   ],
   "source": [
    "key_skills = []\n",
    "schedules = []\n",
    "\n",
    "for i in tqdm(range(len(use_for_analyze))):\n",
    "  vacancy = use_for_analyze['id'].iloc[i]\n",
    "  vacancy_url = f\"https://api.hh.ru/vacancies/{vacancy}\"\n",
    "  req = requests.get(vacancy_url)\n",
    "  vacancy_info = json.loads(req.content.decode())\n",
    "  if 'key_skills' in vacancy_info:\n",
    "    key_skills.append(vacancy_info['key_skills'])\n",
    "  if 'schedule' in vacancy_info:\n",
    "    schedules.append(vacancy_info['schedule'])\n",
    "  sleep(0.05)"
   ]
  },
  {
   "cell_type": "code",
   "execution_count": 19,
   "metadata": {},
   "outputs": [
    {
     "data": {
      "image/png": "[encoded data removed]",
      "text/plain": [
       "<Figure size 1000x800 with 1 Axes>"
      ]
     },
     "metadata": {},
     "output_type": "display_data"
    }
   ],
   "source": [
    "dicts = {}\n",
    "for cur_skills in key_skills:\n",
    "  if cur_skills == None:\n",
    "    continue\n",
    "  for skill in cur_skills:\n",
    "    skill_name = skill['name']\n",
    "    dicts[skill_name] = dicts.get(skill_name, 0) + 1\n",
    "top_15 = sorted(dicts.items(), key=lambda x: x[1], reverse=True)[:15]\n",
    "keys = []\n",
    "values = []\n",
    "for key, val in top_15:\n",
    "  keys.append(key)\n",
    "  values.append(val)\n",
    "plt.figure(figsize=(10, 8))\n",
    "bars = plt.barh(keys, values)\n",
    "plt.xlabel('Количество')\n",
    "plt.ylabel('Навыки')\n",
    "plt.title('Топ 15 навыков среди выбранных вакансий')\n",
    "for i, bar in enumerate(bars):\n",
    "    plt.text(bar.get_width(), bar.get_y() + bar.get_height()/2, f'{values[i]}')\n",
    "plt.tight_layout()\n",
    "plt.show()"
   ]
  },
  {
   "cell_type": "markdown",
   "metadata": {},
   "source": [
    "Исходя из графика можно cделать выводы о наиболее ценных навыках у работодателя по направлению data science:\\\n",
    "### в топе:\n",
    "1) аналитика/анализ данных\n",
    "2) sql\n",
    "3) манеры:)"
   ]
  },
  {
   "cell_type": "markdown",
   "metadata": {},
   "source": [
    "**Вопрос 3.** Какую зарплату готовы платить работодатели? Соберите некоторым образом статистику и постройте гистограмму.\n",
    "\n",
    "При работе с данными о заработной плате обратите внимание на валюту и <a target=\"_blank\" href=\"https://yandex.ru/search/?text=gross%2Fnet&clid=1955455&win=446&lr=213&noreask=1\">gross/net</a>. Постоянно подгружать курс валюты не требуется, достаточно фиксировать какой-то один более менее актуальный."
   ]
  },
  {
   "cell_type": "code",
   "execution_count": 20,
   "metadata": {},
   "outputs": [
    {
     "data": {
      "image/png": "[encoded data removed]",
      "text/plain": [
       "<Figure size 1000x800 with 1 Axes>"
      ]
     },
     "metadata": {},
     "output_type": "display_data"
    }
   ],
   "source": [
    "df2 = use_for_analyze.dropna(subset=['from', 'currency']).copy()\n",
    "df2['salary'] = df2.apply(lambda row: (row['from'] + row['to']) / 2 if pd.notnull(row['to']) and pd.notnull(row['from']) else row['from'] if pd.notnull(row['from']) else row['to'], axis=1)\n",
    "df_with_salary = df2.dropna(subset=['salary']).copy()\n",
    "df_filtr = df_with_salary[(df_with_salary['salary'] > 50_000) & (df_with_salary['salary'] < 500_000)]\n",
    "plt.figure(figsize=(10, 8))\n",
    "plt.hist(df_filtr['salary'], bins=15)\n",
    "plt.xlabel('Зарплата')\n",
    "plt.ylabel('Частота')\n",
    "plt.title('Распределение зп')\n",
    "plt.grid(True)\n",
    "plt.show()"
   ]
  },
  {
   "cell_type": "markdown",
   "metadata": {},
   "source": [
    "Из графика можно увидеть, что основная часть вакансий находится в пределе до 200 тыс. руб, те для начинающих специалистов есть возможность устроится, а вот уже для опытных не так много предложений."
   ]
  },
  {
   "cell_type": "markdown",
   "metadata": {},
   "source": [
    "**Вопрос 4.** Какой формат работы предлагается (в офисе / удаленно / ...)?"
   ]
  },
  {
   "cell_type": "code",
   "execution_count": 21,
   "metadata": {},
   "outputs": [
    {
     "name": "stdout",
     "output_type": "stream",
     "text": [
      "fullDay\n",
      "remote\n",
      "shift\n",
      "flexible\n",
      "flyInFlyOut\n"
     ]
    }
   ],
   "source": [
    "dict = {}\n",
    "for cur in schedules:\n",
    "  if cur == None:\n",
    "    continue\n",
    "  id = cur['id']\n",
    "  dict[id] = dict.get(id, 0) + 1\n",
    "top = sorted(dict.items(), key=lambda x: x[1], reverse=True)\n",
    "shedule = len(top)\n",
    "keys = []\n",
    "values = []\n",
    "for key, val in top:\n",
    "  print(key)\n",
    "  keys.append(key)\n",
    "  values.append(val)"
   ]
  },
  {
   "cell_type": "markdown",
   "metadata": {},
   "source": [
    "Можно сделать выводы, что доступны почти все виды работы."
   ]
  },
  {
   "cell_type": "markdown",
   "metadata": {},
   "source": [
    "Проведите аналогичный анализ для наиболее привлекательной для вас профессии в любом регионе. Если это Data Scientist, то для анализа выберите другую. В данном пункте спокойно можно сделать копипасту кода."
   ]
  },
  {
   "cell_type": "code",
   "execution_count": 22,
   "metadata": {},
   "outputs": [
    {
     "name": "stdout",
     "output_type": "stream",
     "text": [
      "Программист на Go found: 896, pages: 9\n",
      "Инженер по разработке на Go found: 399, pages: 4\n",
      "Go разработчик found: 896, pages: 9\n",
      "Go программист found: 896, pages: 9\n",
      "Специалист по разработке на Go found: 260, pages: 3\n",
      "Программный инженер на Go found: 82, pages: 1\n",
      "Go Programmer found: 896, pages: 9\n",
      "Go Software Developer found: 29, pages: 1\n",
      "Go Engineer found: 473, pages: 5\n",
      "Go Application Developer found: 32, pages: 1\n",
      "Go Systems Developer found: 44, pages: 1\n",
      "Go Application Engineer found: 17, pages: 1\n",
      "Go Development Engineer found: 416, pages: 5\n"
     ]
    }
   ],
   "source": [
    "URL = 'https://api.hh.ru/vacancies'\n",
    "per_page = 100\n",
    "all_data = []\n",
    "names_of_vacancy = ['Программист на Go',\n",
    "                    'Инженер по разработке на Go',\n",
    "                    'Go разработчик',\n",
    "                    'Go программист',\n",
    "                    'Специалист по разработке на Go',\n",
    "                    'Программный инженер на Go',\n",
    "                    'Go Programmer',\n",
    "                    'Go Software Developer',\n",
    "                    'Go Engineer',\n",
    "                    'Go Application Developer',\n",
    "                    'Go Systems Developer',\n",
    "                    'Go Application Engineer',\n",
    "                    'Go Development Engineer',\n",
    "                    ]\n",
    "\n",
    "for vacancy_name in names_of_vacancy:\n",
    "  params = {\n",
    "      'text': vacancy_name,\n",
    "      'area': 1,\n",
    "      'page': 0,\n",
    "      \"per_page\": per_page,\n",
    "  }\n",
    "\n",
    "  req = requests.get(URL, params)\n",
    "  data = json.loads(req.content.decode())\n",
    "\n",
    "  found = data['found']\n",
    "  pages = data['pages']\n",
    "\n",
    "  print(f'{vacancy_name} found: {found}, pages: {pages}')\n",
    "\n",
    "  for page in range(pages):\n",
    "    params = {\n",
    "      'text': vacancy_name,\n",
    "      'area': 1,\n",
    "      'page': page,\n",
    "      \"per_page\": per_page,\n",
    "    }\n",
    "\n",
    "    req = requests.get(URL, params)\n",
    "    data = json.loads(req.content.decode())\n",
    "\n",
    "    vacancies = data.get('items', [])\n",
    "    all_data.extend(vacancies)\n",
    "df = pd.DataFrame(all_data)\n",
    "df.to_csv('data_dev.csv', index=False)"
   ]
  },
  {
   "cell_type": "code",
   "execution_count": 23,
   "metadata": {},
   "outputs": [
    {
     "name": "stdout",
     "output_type": "stream",
     "text": [
      "final len: 228\n"
     ]
    },
    {
     "data": {
      "text/html": [
       "<div>\n",
       "<style scoped>\n",
       "    .dataframe tbody tr th:only-of-type {\n",
       "        vertical-align: middle;\n",
       "    }\n",
       "\n",
       "    .dataframe tbody tr th {\n",
       "        vertical-align: top;\n",
       "    }\n",
       "\n",
       "    .dataframe thead th {\n",
       "        text-align: right;\n",
       "    }\n",
       "</style>\n",
       "<table border=\"1\" class=\"dataframe\">\n",
       "  <thead>\n",
       "    <tr style=\"text-align: right;\">\n",
       "      <th></th>\n",
       "      <th>id</th>\n",
       "      <th>premium</th>\n",
       "      <th>name</th>\n",
       "      <th>department</th>\n",
       "      <th>has_test</th>\n",
       "      <th>response_letter_required</th>\n",
       "      <th>area</th>\n",
       "      <th>salary</th>\n",
       "      <th>type</th>\n",
       "      <th>address</th>\n",
       "      <th>...</th>\n",
       "      <th>working_time_modes</th>\n",
       "      <th>accept_temporary</th>\n",
       "      <th>professional_roles</th>\n",
       "      <th>accept_incomplete_resumes</th>\n",
       "      <th>experience</th>\n",
       "      <th>employment</th>\n",
       "      <th>adv_response_url</th>\n",
       "      <th>is_adv_vacancy</th>\n",
       "      <th>adv_context</th>\n",
       "      <th>branding</th>\n",
       "    </tr>\n",
       "  </thead>\n",
       "  <tbody>\n",
       "    <tr>\n",
       "      <th>0</th>\n",
       "      <td>98565084</td>\n",
       "      <td>False</td>\n",
       "      <td>Frontend Javascript разработчик</td>\n",
       "      <td>NaN</td>\n",
       "      <td>True</td>\n",
       "      <td>False</td>\n",
       "      <td>{'id': '1', 'name': 'Москва', 'url': 'https://...</td>\n",
       "      <td>{'from': 120000, 'to': 180000, 'currency': 'RU...</td>\n",
       "      <td>{'id': 'open', 'name': 'Открытая'}</td>\n",
       "      <td>{'city': 'Москва', 'street': 'Большая Новодмит...</td>\n",
       "      <td>...</td>\n",
       "      <td>[]</td>\n",
       "      <td>False</td>\n",
       "      <td>[{'id': '96', 'name': 'Программист, разработчи...</td>\n",
       "      <td>False</td>\n",
       "      <td>{'id': 'between1And3', 'name': 'От 1 года до 3...</td>\n",
       "      <td>{'id': 'full', 'name': 'Полная занятость'}</td>\n",
       "      <td>NaN</td>\n",
       "      <td>False</td>\n",
       "      <td>NaN</td>\n",
       "      <td>NaN</td>\n",
       "    </tr>\n",
       "    <tr>\n",
       "      <th>1</th>\n",
       "      <td>98013927</td>\n",
       "      <td>False</td>\n",
       "      <td>Javascript Frontend Developer Middle (офис 5/2)</td>\n",
       "      <td>{'id': '65-65-domo', 'name': 'Московский аэроп...</td>\n",
       "      <td>False</td>\n",
       "      <td>False</td>\n",
       "      <td>{'id': '1', 'name': 'Москва', 'url': 'https://...</td>\n",
       "      <td>{'from': None, 'to': 190000, 'currency': 'RUR'...</td>\n",
       "      <td>{'id': 'open', 'name': 'Открытая'}</td>\n",
       "      <td>{'city': 'городской округ Домодедово', 'street...</td>\n",
       "      <td>...</td>\n",
       "      <td>[]</td>\n",
       "      <td>False</td>\n",
       "      <td>[{'id': '96', 'name': 'Программист, разработчи...</td>\n",
       "      <td>False</td>\n",
       "      <td>{'id': 'between3And6', 'name': 'От 3 до 6 лет'}</td>\n",
       "      <td>{'id': 'full', 'name': 'Полная занятость'}</td>\n",
       "      <td>NaN</td>\n",
       "      <td>False</td>\n",
       "      <td>NaN</td>\n",
       "      <td>{'type': 'MAKEUP', 'tariff': None}</td>\n",
       "    </tr>\n",
       "    <tr>\n",
       "      <th>3</th>\n",
       "      <td>98188460</td>\n",
       "      <td>False</td>\n",
       "      <td>No-code Developer / Junior/Middle в AI студию ...</td>\n",
       "      <td>NaN</td>\n",
       "      <td>False</td>\n",
       "      <td>False</td>\n",
       "      <td>{'id': '1', 'name': 'Москва', 'url': 'https://...</td>\n",
       "      <td>{'from': 52052, 'to': 100052, 'currency': 'RUR...</td>\n",
       "      <td>{'id': 'open', 'name': 'Открытая'}</td>\n",
       "      <td>NaN</td>\n",
       "      <td>...</td>\n",
       "      <td>[]</td>\n",
       "      <td>True</td>\n",
       "      <td>[{'id': '96', 'name': 'Программист, разработчи...</td>\n",
       "      <td>True</td>\n",
       "      <td>{'id': 'between1And3', 'name': 'От 1 года до 3...</td>\n",
       "      <td>{'id': 'full', 'name': 'Полная занятость'}</td>\n",
       "      <td>NaN</td>\n",
       "      <td>False</td>\n",
       "      <td>NaN</td>\n",
       "      <td>NaN</td>\n",
       "    </tr>\n",
       "    <tr>\n",
       "      <th>4</th>\n",
       "      <td>98488617</td>\n",
       "      <td>False</td>\n",
       "      <td>Senior Golang Developer</td>\n",
       "      <td>NaN</td>\n",
       "      <td>True</td>\n",
       "      <td>False</td>\n",
       "      <td>{'id': '1', 'name': 'Москва', 'url': 'https://...</td>\n",
       "      <td>{'from': 700000, 'to': 850000, 'currency': 'RU...</td>\n",
       "      <td>{'id': 'open', 'name': 'Открытая'}</td>\n",
       "      <td>NaN</td>\n",
       "      <td>...</td>\n",
       "      <td>[]</td>\n",
       "      <td>False</td>\n",
       "      <td>[{'id': '96', 'name': 'Программист, разработчи...</td>\n",
       "      <td>False</td>\n",
       "      <td>{'id': 'moreThan6', 'name': 'Более 6 лет'}</td>\n",
       "      <td>{'id': 'full', 'name': 'Полная занятость'}</td>\n",
       "      <td>NaN</td>\n",
       "      <td>False</td>\n",
       "      <td>NaN</td>\n",
       "      <td>NaN</td>\n",
       "    </tr>\n",
       "    <tr>\n",
       "      <th>6</th>\n",
       "      <td>98611300</td>\n",
       "      <td>False</td>\n",
       "      <td>Golang разработчик</td>\n",
       "      <td>NaN</td>\n",
       "      <td>False</td>\n",
       "      <td>False</td>\n",
       "      <td>{'id': '1', 'name': 'Москва', 'url': 'https://...</td>\n",
       "      <td>{'from': 500000, 'to': 700000, 'currency': 'RU...</td>\n",
       "      <td>{'id': 'open', 'name': 'Открытая'}</td>\n",
       "      <td>NaN</td>\n",
       "      <td>...</td>\n",
       "      <td>[]</td>\n",
       "      <td>False</td>\n",
       "      <td>[{'id': '96', 'name': 'Программист, разработчи...</td>\n",
       "      <td>False</td>\n",
       "      <td>{'id': 'moreThan6', 'name': 'Более 6 лет'}</td>\n",
       "      <td>{'id': 'full', 'name': 'Полная занятость'}</td>\n",
       "      <td>NaN</td>\n",
       "      <td>False</td>\n",
       "      <td>NaN</td>\n",
       "      <td>NaN</td>\n",
       "    </tr>\n",
       "  </tbody>\n",
       "</table>\n",
       "<p>5 rows × 37 columns</p>\n",
       "</div>"
      ],
      "text/plain": [
       "         id  premium                                               name  \\\n",
       "0  98565084    False                    Frontend Javascript разработчик   \n",
       "1  98013927    False    Javascript Frontend Developer Middle (офис 5/2)   \n",
       "3  98188460    False  No-code Developer / Junior/Middle в AI студию ...   \n",
       "4  98488617    False                            Senior Golang Developer   \n",
       "6  98611300    False                                 Golang разработчик   \n",
       "\n",
       "                                          department  has_test  \\\n",
       "0                                                NaN      True   \n",
       "1  {'id': '65-65-domo', 'name': 'Московский аэроп...     False   \n",
       "3                                                NaN     False   \n",
       "4                                                NaN      True   \n",
       "6                                                NaN     False   \n",
       "\n",
       "   response_letter_required  \\\n",
       "0                     False   \n",
       "1                     False   \n",
       "3                     False   \n",
       "4                     False   \n",
       "6                     False   \n",
       "\n",
       "                                                area  \\\n",
       "0  {'id': '1', 'name': 'Москва', 'url': 'https://...   \n",
       "1  {'id': '1', 'name': 'Москва', 'url': 'https://...   \n",
       "3  {'id': '1', 'name': 'Москва', 'url': 'https://...   \n",
       "4  {'id': '1', 'name': 'Москва', 'url': 'https://...   \n",
       "6  {'id': '1', 'name': 'Москва', 'url': 'https://...   \n",
       "\n",
       "                                              salary  \\\n",
       "0  {'from': 120000, 'to': 180000, 'currency': 'RU...   \n",
       "1  {'from': None, 'to': 190000, 'currency': 'RUR'...   \n",
       "3  {'from': 52052, 'to': 100052, 'currency': 'RUR...   \n",
       "4  {'from': 700000, 'to': 850000, 'currency': 'RU...   \n",
       "6  {'from': 500000, 'to': 700000, 'currency': 'RU...   \n",
       "\n",
       "                                 type  \\\n",
       "0  {'id': 'open', 'name': 'Открытая'}   \n",
       "1  {'id': 'open', 'name': 'Открытая'}   \n",
       "3  {'id': 'open', 'name': 'Открытая'}   \n",
       "4  {'id': 'open', 'name': 'Открытая'}   \n",
       "6  {'id': 'open', 'name': 'Открытая'}   \n",
       "\n",
       "                                             address  ... working_time_modes  \\\n",
       "0  {'city': 'Москва', 'street': 'Большая Новодмит...  ...                 []   \n",
       "1  {'city': 'городской округ Домодедово', 'street...  ...                 []   \n",
       "3                                                NaN  ...                 []   \n",
       "4                                                NaN  ...                 []   \n",
       "6                                                NaN  ...                 []   \n",
       "\n",
       "   accept_temporary                                 professional_roles  \\\n",
       "0             False  [{'id': '96', 'name': 'Программист, разработчи...   \n",
       "1             False  [{'id': '96', 'name': 'Программист, разработчи...   \n",
       "3              True  [{'id': '96', 'name': 'Программист, разработчи...   \n",
       "4             False  [{'id': '96', 'name': 'Программист, разработчи...   \n",
       "6             False  [{'id': '96', 'name': 'Программист, разработчи...   \n",
       "\n",
       "  accept_incomplete_resumes  \\\n",
       "0                     False   \n",
       "1                     False   \n",
       "3                      True   \n",
       "4                     False   \n",
       "6                     False   \n",
       "\n",
       "                                          experience  \\\n",
       "0  {'id': 'between1And3', 'name': 'От 1 года до 3...   \n",
       "1    {'id': 'between3And6', 'name': 'От 3 до 6 лет'}   \n",
       "3  {'id': 'between1And3', 'name': 'От 1 года до 3...   \n",
       "4         {'id': 'moreThan6', 'name': 'Более 6 лет'}   \n",
       "6         {'id': 'moreThan6', 'name': 'Более 6 лет'}   \n",
       "\n",
       "                                   employment adv_response_url is_adv_vacancy  \\\n",
       "0  {'id': 'full', 'name': 'Полная занятость'}              NaN          False   \n",
       "1  {'id': 'full', 'name': 'Полная занятость'}              NaN          False   \n",
       "3  {'id': 'full', 'name': 'Полная занятость'}              NaN          False   \n",
       "4  {'id': 'full', 'name': 'Полная занятость'}              NaN          False   \n",
       "6  {'id': 'full', 'name': 'Полная занятость'}              NaN          False   \n",
       "\n",
       "  adv_context                            branding  \n",
       "0         NaN                                 NaN  \n",
       "1         NaN  {'type': 'MAKEUP', 'tariff': None}  \n",
       "3         NaN                                 NaN  \n",
       "4         NaN                                 NaN  \n",
       "6         NaN                                 NaN  \n",
       "\n",
       "[5 rows x 37 columns]"
      ]
     },
     "execution_count": 23,
     "metadata": {},
     "output_type": "execute_result"
    }
   ],
   "source": [
    "df_load = pd.read_csv('data_dev.csv')\n",
    "unique_df = df_load.drop_duplicates(subset=['id'])\n",
    "deleted_df = unique_df.dropna(subset=['salary'])\n",
    "print(f'final len: {len(deleted_df)}')\n",
    "deleted_df.head()"
   ]
  },
  {
   "cell_type": "code",
   "execution_count": 24,
   "metadata": {},
   "outputs": [
    {
     "data": {
      "text/html": [
       "<div>\n",
       "<style scoped>\n",
       "    .dataframe tbody tr th:only-of-type {\n",
       "        vertical-align: middle;\n",
       "    }\n",
       "\n",
       "    .dataframe tbody tr th {\n",
       "        vertical-align: top;\n",
       "    }\n",
       "\n",
       "    .dataframe thead th {\n",
       "        text-align: right;\n",
       "    }\n",
       "</style>\n",
       "<table border=\"1\" class=\"dataframe\">\n",
       "  <thead>\n",
       "    <tr style=\"text-align: right;\">\n",
       "      <th></th>\n",
       "      <th>id</th>\n",
       "      <th>name</th>\n",
       "      <th>schedule</th>\n",
       "      <th>employment</th>\n",
       "      <th>from</th>\n",
       "      <th>to</th>\n",
       "      <th>currency</th>\n",
       "    </tr>\n",
       "  </thead>\n",
       "  <tbody>\n",
       "    <tr>\n",
       "      <th>0</th>\n",
       "      <td>98565084</td>\n",
       "      <td>Frontend Javascript разработчик</td>\n",
       "      <td>{'id': 'fullDay', 'name': 'Полный день'}</td>\n",
       "      <td>{'id': 'full', 'name': 'Полная занятость'}</td>\n",
       "      <td>120000.0</td>\n",
       "      <td>180000.0</td>\n",
       "      <td>RUR</td>\n",
       "    </tr>\n",
       "    <tr>\n",
       "      <th>1</th>\n",
       "      <td>98013927</td>\n",
       "      <td>Javascript Frontend Developer Middle (офис 5/2)</td>\n",
       "      <td>{'id': 'fullDay', 'name': 'Полный день'}</td>\n",
       "      <td>{'id': 'full', 'name': 'Полная занятость'}</td>\n",
       "      <td>NaN</td>\n",
       "      <td>190000.0</td>\n",
       "      <td>RUR</td>\n",
       "    </tr>\n",
       "    <tr>\n",
       "      <th>2</th>\n",
       "      <td>98188460</td>\n",
       "      <td>No-code Developer / Junior/Middle в AI студию ...</td>\n",
       "      <td>{'id': 'remote', 'name': 'Удаленная работа'}</td>\n",
       "      <td>{'id': 'full', 'name': 'Полная занятость'}</td>\n",
       "      <td>52052.0</td>\n",
       "      <td>100052.0</td>\n",
       "      <td>RUR</td>\n",
       "    </tr>\n",
       "    <tr>\n",
       "      <th>3</th>\n",
       "      <td>98488617</td>\n",
       "      <td>Senior Golang Developer</td>\n",
       "      <td>{'id': 'remote', 'name': 'Удаленная работа'}</td>\n",
       "      <td>{'id': 'full', 'name': 'Полная занятость'}</td>\n",
       "      <td>700000.0</td>\n",
       "      <td>850000.0</td>\n",
       "      <td>RUR</td>\n",
       "    </tr>\n",
       "    <tr>\n",
       "      <th>4</th>\n",
       "      <td>98611300</td>\n",
       "      <td>Golang разработчик</td>\n",
       "      <td>{'id': 'remote', 'name': 'Удаленная работа'}</td>\n",
       "      <td>{'id': 'full', 'name': 'Полная занятость'}</td>\n",
       "      <td>500000.0</td>\n",
       "      <td>700000.0</td>\n",
       "      <td>RUR</td>\n",
       "    </tr>\n",
       "  </tbody>\n",
       "</table>\n",
       "</div>"
      ],
      "text/plain": [
       "         id                                               name  \\\n",
       "0  98565084                    Frontend Javascript разработчик   \n",
       "1  98013927    Javascript Frontend Developer Middle (офис 5/2)   \n",
       "2  98188460  No-code Developer / Junior/Middle в AI студию ...   \n",
       "3  98488617                            Senior Golang Developer   \n",
       "4  98611300                                 Golang разработчик   \n",
       "\n",
       "                                       schedule  \\\n",
       "0      {'id': 'fullDay', 'name': 'Полный день'}   \n",
       "1      {'id': 'fullDay', 'name': 'Полный день'}   \n",
       "2  {'id': 'remote', 'name': 'Удаленная работа'}   \n",
       "3  {'id': 'remote', 'name': 'Удаленная работа'}   \n",
       "4  {'id': 'remote', 'name': 'Удаленная работа'}   \n",
       "\n",
       "                                   employment      from        to currency  \n",
       "0  {'id': 'full', 'name': 'Полная занятость'}  120000.0  180000.0      RUR  \n",
       "1  {'id': 'full', 'name': 'Полная занятость'}       NaN  190000.0      RUR  \n",
       "2  {'id': 'full', 'name': 'Полная занятость'}   52052.0  100052.0      RUR  \n",
       "3  {'id': 'full', 'name': 'Полная занятость'}  700000.0  850000.0      RUR  \n",
       "4  {'id': 'full', 'name': 'Полная занятость'}  500000.0  700000.0      RUR  "
      ]
     },
     "execution_count": 24,
     "metadata": {},
     "output_type": "execute_result"
    }
   ],
   "source": [
    "use = deleted_df[['id', 'name', 'salary', 'schedule', 'employment']].copy()\n",
    "use[['from', 'to', 'currency']] = use['salary'].apply(lambda x: extract_salary(x))\n",
    "use.drop(['salary'], axis=1, inplace=True)\n",
    "use_for_analyze = use.reset_index(drop=True)\n",
    "use_for_analyze.head()"
   ]
  },
  {
   "cell_type": "code",
   "execution_count": 25,
   "metadata": {},
   "outputs": [],
   "source": [
    "df_add_cl = deleted_df.dropna(subset=['address'])\n",
    "df1 = df_add_cl[['id', 'name', 'salary', 'address', 'schedule', 'employment']].copy()\n",
    "df1[['from', 'to', 'currency']] = df1['salary'].apply(lambda x: extract_salary(x))\n",
    "df1[['lat', 'lng']] = df1['address'].apply(lambda x: extract_address(x))\n",
    "df1.drop(['salary'], axis=1, inplace=True)\n",
    "df_analyse = df1.reset_index(drop=True)\n",
    "df_analyse.to_excel('vacancy_backend_dev.xlsx', index=False)"
   ]
  },
  {
   "cell_type": "code",
   "execution_count": 26,
   "metadata": {},
   "outputs": [
    {
     "data": {
      "text/plain": [
       "228"
      ]
     },
     "execution_count": 26,
     "metadata": {},
     "output_type": "execute_result"
    }
   ],
   "source": [
    "len(use_for_analyze)"
   ]
  },
  {
   "cell_type": "markdown",
   "metadata": {},
   "source": [
    "на рынке меньше вакансий для разработчиков, что говорит(возможно) о спросе приемущственно на специалистов а не начинающих"
   ]
  },
  {
   "cell_type": "code",
   "execution_count": 27,
   "metadata": {},
   "outputs": [
    {
     "name": "stderr",
     "output_type": "stream",
     "text": [
      "100%|██████████| 228/228 [00:42<00:00,  5.41it/s]\n"
     ]
    }
   ],
   "source": [
    "key_skills = []\n",
    "schedules = []\n",
    "for i in tqdm(range(len(use_for_analyze))):\n",
    "  vacancy = use_for_analyze['id'].iloc[i]\n",
    "  vacancy_url = f\"https://api.hh.ru/vacancies/{vacancy}\"\n",
    "  req = requests.get(vacancy_url)\n",
    "  vacancy_info = json.loads(req.content.decode())\n",
    "  if 'key_skills' in vacancy_info:\n",
    "    key_skills.append(vacancy_info['key_skills'])\n",
    "  if 'schedule' in vacancy_info:\n",
    "    schedules.append(vacancy_info['schedule'])\n",
    "  sleep(0.05)"
   ]
  },
  {
   "cell_type": "code",
   "execution_count": 31,
   "metadata": {},
   "outputs": [
    {
     "data": {
      "image/png": "[encoded data removed]",
      "text/plain": [
       "<Figure size 1000x800 with 1 Axes>"
      ]
     },
     "metadata": {},
     "output_type": "display_data"
    }
   ],
   "source": [
    "dicts = {}\n",
    "\n",
    "for cur_skills in key_skills:\n",
    "  if cur_skills == None:\n",
    "    continue\n",
    "  for skill in cur_skills:\n",
    "    skill_name = skill['name']\n",
    "    dicts[skill_name] = dicts.get(skill_name, 0) + 1\n",
    "top_15 = sorted(dicts.items(), key=lambda x: x[1], reverse=True)[:15]\n",
    "keys = []\n",
    "values = []\n",
    "for key, val in top_15:\n",
    "  keys.append(key)\n",
    "  values.append(val)\n",
    "plt.figure(figsize=(10, 8))\n",
    "bars = plt.barh(keys, values)\n",
    "plt.xlabel('Количество')\n",
    "plt.ylabel('Навыки')\n",
    "plt.title('Топ 15 навыков среди выбранных вакансий')\n",
    "for i, bar in enumerate(bars):\n",
    "    plt.text(bar.get_width(), bar.get_y() + bar.get_height()/2, f'{values[i]}')\n",
    "\n",
    "plt.tight_layout()\n",
    "plt.show()"
   ]
  },
  {
   "cell_type": "markdown",
   "metadata": {},
   "source": [
    "Из графика можно сделать выводы какие навыки больше всего ценят работодатели:\n",
    "1) работу с SQL\n",
    "2) Go - сам язык\n",
    "3) Docker\n",
    "4) Вспомогательные языки и технологии"
   ]
  },
  {
   "cell_type": "code",
   "execution_count": 32,
   "metadata": {},
   "outputs": [
    {
     "data": {
      "image/png": "[encoded data removed]",
      "text/plain": [
       "<Figure size 1000x800 with 1 Axes>"
      ]
     },
     "metadata": {},
     "output_type": "display_data"
    }
   ],
   "source": [
    "df2 = use_for_analyze.dropna(subset=['from', 'currency']).copy()\n",
    "df2['salary'] = df2.apply(lambda row: (row['from'] + row['to']) / 2 if pd.notnull(row['to']) and pd.notnull(row['from']) else row['from'] if pd.notnull(row['from']) else row['to'], axis=1)\n",
    "df_with_salary = df2.dropna(subset=['salary']).copy()\n",
    "df_filtr = df_with_salary[(df_with_salary['salary'] > 50_000) & (df_with_salary['salary'] < 500_000)]\n",
    "plt.figure(figsize=(10, 8))\n",
    "plt.hist(df_filtr['salary'], bins=15)\n",
    "plt.xlabel('Зарплата')\n",
    "plt.ylabel('Частота')\n",
    "plt.title('Распределение зп')\n",
    "plt.grid(True)\n",
    "plt.show()"
   ]
  },
  {
   "cell_type": "markdown",
   "metadata": {},
   "source": [
    "Из графика можно увидеть что средняя зарплата выше чем у Data Science специалиста и есть также вакансии на большие зарплаты, да было проанализировано меньшее количество вакансий, но достаточно большое чтобы сделать выводы. Это подтверждает нашу гипотезу, что меньше вакансий для начинающих, больше для спецов."
   ]
  },
  {
   "cell_type": "code",
   "execution_count": 33,
   "metadata": {},
   "outputs": [
    {
     "name": "stdout",
     "output_type": "stream",
     "text": [
      "fullDay\n",
      "remote\n",
      "flexible\n"
     ]
    }
   ],
   "source": [
    "dict = {}\n",
    "for cur in schedules:\n",
    "  if cur == None:\n",
    "    continue\n",
    "  id = cur['id']\n",
    "  dict[id] = dict.get(id, 0) + 1\n",
    "top = sorted(dict.items(), key=lambda x: x[1], reverse=True)\n",
    "shedule = len(top)\n",
    "keys = []\n",
    "values = []\n",
    "for key, val in top:\n",
    "  print(key)\n",
    "  keys.append(key)\n",
    "  values.append(val)"
   ]
  },
  {
   "cell_type": "markdown",
   "metadata": {},
   "source": [
    "В отличии от аналитика/data science, здесь доступно меньше видов работы."
   ]
  },
  {
   "cell_type": "markdown",
   "metadata": {},
   "source": [
    "Исходя из графиков полученной зарплаты по направлению data science | ад и Go разработчик можно сделать вывод, что на рынке ощущается нехватка по 1 направлению, и компании готовы рассматривать молодых специалистов на перспективу, в отличии от разработчика. Там ситуация противоположная, рынок нуждается в специалистках, а количество вакансий значительно меньше, что говорит о высоком пороге входа, что необходимо большой опыт. Анализ производился по количеству вакансий и количеству предложений по зарплате на определенную сумму."
   ]
  }
 ],
 "metadata": {
  "colab": {
   "collapsed_sections": [],
   "name": "stats.ipynb",
   "provenance": [],
   "version": "0.3.2"
  },
  "hide_input": false,
  "kernelspec": {
   "display_name": "Python 3 (ipykernel)",
   "language": "python",
   "name": "python3"
  },
  "language_info": {
   "codemirror_mode": {
    "name": "ipython",
    "version": 3
   },
   "file_extension": ".py",
   "mimetype": "text/x-python",
   "name": "python",
   "nbconvert_exporter": "python",
   "pygments_lexer": "ipython3",
   "version": "3.10.12"
  }
 },
 "nbformat": 4,
 "nbformat_minor": 1
}
